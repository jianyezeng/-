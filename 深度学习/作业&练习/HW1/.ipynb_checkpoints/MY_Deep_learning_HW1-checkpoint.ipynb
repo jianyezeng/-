{
 "cells": [
  {
   "cell_type": "markdown",
   "metadata": {
    "id": "guE34D3Fj2R9"
   },
   "source": [
    "# **Homework 1: COVID-19 Cases Prediction (Regression)**"
   ]
  },
  {
   "cell_type": "markdown",
   "metadata": {
    "id": "V57zhcTp1Xxb"
   },
   "source": [
    "Objectives:\n",
    "* Solve a regression problem with deep neural networks (DNN).\n",
    "* Understand basic DNN training tips.\n",
    "* Familiarize yourself with PyTorch.\n",
    "\n",
    "If you have any questions, please contact the TAs via TA hours, NTU COOL, or email to mlta-2022-spring@googlegroups.com"
   ]
  },
  {
   "cell_type": "markdown",
   "metadata": {
    "id": "Tm2aXcb-j9Fc"
   },
   "source": [
    "# Download data\n",
    "If the Google Drive links below do not work, you can download data from [Kaggle](https://www.kaggle.com/t/a3ebd5b5542f0f55e828d4f00de8e59a), and upload data manually to the workspace."
   ]
  },
  {
   "cell_type": "code",
   "execution_count": null,
   "metadata": {
    "colab": {
     "base_uri": "https://localhost:8080/"
    },
    "id": "YPmfl-awlKZA",
    "outputId": "9c520427-7abf-4920-8d81-964877686528"
   },
   "outputs": [],
   "source": []
  },
  {
   "cell_type": "markdown",
   "metadata": {
    "id": "igqIMEgu64-F"
   },
   "source": [
    "# Import packages"
   ]
  },
  {
   "cell_type": "code",
   "execution_count": 1,
   "metadata": {
    "id": "xybQNYCXYu13"
   },
   "outputs": [],
   "source": [
    "# Numerical Operations\n",
    "import math\n",
    "import numpy as np\n",
    "\n",
    "# Reading/Writing Data\n",
    "import pandas as pd\n",
    "import os\n",
    "import csv\n",
    "\n",
    "# For Progress Bar\n",
    "from tqdm import tqdm\n",
    "\n",
    "# Pytorch\n",
    "import torch \n",
    "import torch.nn as nn\n",
    "from torch.utils.data import Dataset, DataLoader, random_split\n",
    "\n",
    "# For plotting learning curve\n",
    "from torch.utils.tensorboard import SummaryWriter"
   ]
  },
  {
   "cell_type": "markdown",
   "metadata": {
    "id": "fTAVqRfc2KK3"
   },
   "source": [
    "# Some Utility Functions\n",
    "\n",
    "You do not need to modify this part."
   ]
  },
  {
   "cell_type": "code",
   "execution_count": 2,
   "metadata": {
    "id": "RbrcpfYN2I-H"
   },
   "outputs": [],
   "source": [
    "def same_seed(seed): \n",
    "    '''Fixes random number generator seeds for reproducibility.'''\n",
    "    torch.backends.cudnn.deterministic = True\n",
    "    torch.backends.cudnn.benchmark = False\n",
    "    np.random.seed(seed)\n",
    "    torch.manual_seed(seed)\n",
    "    if torch.cuda.is_available():\n",
    "        torch.cuda.manual_seed_all(seed)\n",
    "\n",
    "def train_valid_split(data_set, valid_ratio, seed):\n",
    "    '''Split provided training data into training set and validation set'''\n",
    "    valid_set_size = int(valid_ratio * len(data_set)) \n",
    "    train_set_size = len(data_set) - valid_set_size\n",
    "    train_set, valid_set = random_split(data_set, [train_set_size, valid_set_size], generator=torch.Generator().manual_seed(seed))\n",
    "    return np.array(train_set), np.array(valid_set)\n",
    "\n",
    "def predict(test_loader, model, device):\n",
    "    model.eval() # Set your model to evaluation mode.\n",
    "    preds = []\n",
    "    for x in tqdm(test_loader):\n",
    "        x = x.to(device)                        \n",
    "        with torch.no_grad():                   \n",
    "            pred = model(x)                     \n",
    "            preds.append(pred.detach().cpu())   \n",
    "    preds = torch.cat(preds, dim=0).numpy()  \n",
    "    return preds"
   ]
  },
  {
   "cell_type": "markdown",
   "metadata": {
    "id": "IqO3lTm78nNO"
   },
   "source": [
    "# Dataset"
   ]
  },
  {
   "cell_type": "code",
   "execution_count": 3,
   "metadata": {
    "id": "-mjaJM0wprMs"
   },
   "outputs": [],
   "source": [
    "class COVID19Dataset(Dataset):\n",
    "    '''\n",
    "    x: Features.\n",
    "    y: Targets, if none, do prediction.\n",
    "    '''\n",
    "    def __init__(self, x, y=None):\n",
    "        if y is None:\n",
    "            self.y = y\n",
    "        else:\n",
    "            self.y = torch.FloatTensor(y)\n",
    "        self.x = torch.FloatTensor(x)\n",
    "\n",
    "    def __getitem__(self, idx):\n",
    "        if self.y is None:\n",
    "            return self.x[idx]\n",
    "        else:\n",
    "            return self.x[idx], self.y[idx]\n",
    "\n",
    "    def __len__(self):\n",
    "        return len(self.x)"
   ]
  },
  {
   "cell_type": "markdown",
   "metadata": {
    "id": "6t42Pk8307zC"
   },
   "source": []
  },
  {
   "cell_type": "markdown",
   "metadata": {
    "id": "m73ooU75CL_j"
   },
   "source": [
    "# Neural Network Model\n",
    "Try out different model architectures by modifying the class below."
   ]
  },
  {
   "cell_type": "code",
   "execution_count": 4,
   "metadata": {
    "id": "Qn97_WvvrEkG"
   },
   "outputs": [],
   "source": [
    "class My_Model(nn.Module):\n",
    "    def __init__(self, input_dim):\n",
    "        super(My_Model, self).__init__()\n",
    "        # TODO: modify model's structure, be aware of dimensions. \n",
    "        self.layers = nn.Sequential(\n",
    "            nn.Linear(input_dim, 32),\n",
    "            nn.ReLU(),\n",
    "            nn.Linear(32,16),\n",
    "            nn.ReLU(),\n",
    "            nn.Linear(16,8),\n",
    "            nn.ReLU(),\n",
    "            nn.Linear(8, 1),\n",
    "            # nn.Linear(input_dim,16),\n",
    "            # nn.BatchNorm1d(16),\n",
    "            # nn.Dropout(p=0.2),\n",
    "            # nn.ReLU(),\n",
    "            # nn.Linear(16,1),\n",
    "        )\n",
    "\n",
    "    def forward(self, x):\n",
    "        x = self.layers(x)\n",
    "        x = x.squeeze(1) # (B, 1) -> (B)\n",
    "        return x"
   ]
  },
  {
   "cell_type": "markdown",
   "metadata": {
    "id": "x5-LKF6R8xeq"
   },
   "source": [
    "# Feature Selection\n",
    "Choose features you deem useful by modifying the function below."
   ]
  },
  {
   "cell_type": "code",
   "execution_count": 5,
   "metadata": {
    "id": "0FEnKRaIIeKp"
   },
   "outputs": [],
   "source": [
    "def select_feat(train_data, valid_data, test_data, select_all=True):\n",
    "    '''Selects useful features to perform regression'''\n",
    "    y_train, y_valid = train_data[:,-1], valid_data[:,-1]\n",
    "    raw_x_train, raw_x_valid, raw_x_test = train_data[:,1:-1], valid_data[:,1:-1], test_data\n",
    "\n",
    "    if select_all:\n",
    "        feat_idx = list(range(raw_x_train.shape[1]))\n",
    "    else:\n",
    "        feat_idx = [57,75] # TODO: Select suitable feature columns.\n",
    "        \n",
    "    return raw_x_train[:,feat_idx], raw_x_valid[:,feat_idx], raw_x_test[:,feat_idx], y_train, y_valid"
   ]
  },
  {
   "cell_type": "markdown",
   "metadata": {
    "id": "kADIPNQ2Ih5X"
   },
   "source": [
    "# Training Loop"
   ]
  },
  {
   "cell_type": "code",
   "execution_count": 6,
   "metadata": {
    "id": "k4Rq8_TztAhq"
   },
   "outputs": [],
   "source": [
    "def trainer(train_loader, valid_loader, model, config, device):\n",
    "\n",
    "    criterion = nn.MSELoss(reduction='mean') # Define your loss function, do not modify this.\n",
    "\n",
    "    # Define your optimization algorithm. \n",
    "    # TODO: Please check https://pytorch.org/docs/stable/optim.html to get more available algorithms.\n",
    "    # TODO: L2 regularization (optimizer(weight decay...) or implement by your self).\n",
    "    optimizer = torch.optim.Adam(model.parameters(), lr=config['learning_rate']) \n",
    "    \n",
    "    writer = SummaryWriter() # Writer of tensoboard.\n",
    "\n",
    "    if not os.path.isdir('./models'):\n",
    "        os.mkdir('./models') # Create directory of saving models.\n",
    "\n",
    "    n_epochs, best_loss, step, early_stop_count = config['n_epochs'], math.inf, 0, 0\n",
    "\n",
    "    for epoch in range(n_epochs):\n",
    "        model.train() # Set your model to train mode.\n",
    "        loss_record = []\n",
    "\n",
    "        # tqdm is a package to visualize your training progress.\n",
    "        train_pbar = tqdm(train_loader, position=0, leave=True)\n",
    "        for x, y in train_loader:\n",
    "          for x, y in train_pbar:\n",
    "            optimizer.zero_grad()               # Set gradient to zero.\n",
    "            x, y = x.to(device), y.to(device)   # Move your data to device. \n",
    "            pred = model(x)             \n",
    "            loss = criterion(pred, y)\n",
    "            loss.backward()                     # Compute gradient(backpropagation).\n",
    "            optimizer.step()                    # Update parameters.\n",
    "            step += 1\n",
    "            loss_record.append(loss.detach().item())\n",
    "            \n",
    "            # Display current epoch number and loss on tqdm progress bar.\n",
    "            train_pbar.set_description(f'Epoch [{epoch+1}/{n_epochs}]')\n",
    "            train_pbar.set_postfix({'loss': loss.detach().item()})\n",
    "\n",
    "        mean_train_loss = sum(loss_record)/len(loss_record)\n",
    "        writer.add_scalar('Loss/train', mean_train_loss, step)\n",
    "\n",
    "        model.eval() # Set your model to evaluation mode.\n",
    "        loss_record = []\n",
    "        for x, y in valid_loader:\n",
    "            x, y = x.to(device), y.to(device)\n",
    "            with torch.no_grad():\n",
    "                pred = model(x)\n",
    "                loss = criterion(pred, y)\n",
    "\n",
    "            loss_record.append(loss.item())\n",
    "            \n",
    "        mean_valid_loss = sum(loss_record)/len(loss_record)\n",
    "        print(f'Epoch [{epoch+1}/{n_epochs}]: Train loss: {mean_train_loss:.4f}, Valid loss: {mean_valid_loss:.4f}')\n",
    "        writer.add_scalar('Loss/valid', mean_valid_loss, step)\n",
    "\n",
    "        if mean_valid_loss < best_loss:\n",
    "            best_loss = mean_valid_loss\n",
    "            torch.save(model.state_dict(), config['save_path']) # Save your best model\n",
    "            print('Saving model with loss {:.3f}...'.format(best_loss))\n",
    "            early_stop_count = 0\n",
    "        else: \n",
    "            early_stop_count += 1\n",
    "\n",
    "        if early_stop_count >= config['early_stop']:\n",
    "            print('\\nModel is not improving, so we halt the training session.')\n",
    "            return"
   ]
  },
  {
   "cell_type": "markdown",
   "metadata": {
    "id": "0pgkOh2e9UjE"
   },
   "source": [
    "# Configurations\n",
    "`config` contains hyper-parameters for training and the path to save your model."
   ]
  },
  {
   "cell_type": "code",
   "execution_count": 7,
   "metadata": {
    "id": "QoWPUahCtoT6"
   },
   "outputs": [],
   "source": [
    "device = 'cuda' if torch.cuda.is_available() else 'cpu'\n",
    "config = {\n",
    "    'seed': 5201314,      # Your seed number, you can pick your lucky number. :)\n",
    "    'select_all': True,   # Whether to use all features.\n",
    "    'valid_ratio': 0.2,   # validation_size = train_size * valid_ratio\n",
    "    'n_epochs': 3000,     # Number of epochs.            \n",
    "    'batch_size': 256, \n",
    "    'learning_rate': 1e-2,              \n",
    "    'early_stop': 400,    # If model has not improved for this many consecutive epochs, stop training.     \n",
    "    'save_path': './models/model.ckpt'  # Your model will be saved here.\n",
    "}"
   ]
  },
  {
   "cell_type": "markdown",
   "metadata": {
    "id": "lrS-aJJh9XkW"
   },
   "source": [
    "# Dataloader\n",
    "Read data from files and set up training, validation, and testing sets. You do not need to modify this part."
   ]
  },
  {
   "cell_type": "code",
   "execution_count": 8,
   "metadata": {
    "colab": {
     "base_uri": "https://localhost:8080/"
    },
    "id": "2jc7ZfDot2t9",
    "outputId": "2ac8d7fd-387b-4796-c791-a3b4c73634d4"
   },
   "outputs": [
    {
     "name": "stdout",
     "output_type": "stream",
     "text": [
      "train_data size: (2160, 95) \n",
      "valid_data size: (540, 95) \n",
      "test_data size: (893, 94)\n",
      "number of features: 93\n"
     ]
    }
   ],
   "source": [
    "# Set seed for reproducibility\n",
    "same_seed(config['seed'])\n",
    "\n",
    "\n",
    "# train_data size: 2699 x 118 (id + 37 states + 16 features x 5 days) \n",
    "# test_data size: 1078 x 117 (without last day's positive rate)\n",
    "train_data, test_data = pd.read_csv('./covid.train.csv').values, pd.read_csv('./covid.test.csv').values\n",
    "train_data, valid_data = train_valid_split(train_data, config['valid_ratio'], config['seed'])\n",
    "\n",
    "# Print out the data size.\n",
    "print(f\"\"\"train_data size: {train_data.shape} \n",
    "valid_data size: {valid_data.shape} \n",
    "test_data size: {test_data.shape}\"\"\")\n",
    "\n",
    "# Select features\n",
    "x_train, x_valid, x_test, y_train, y_valid = select_feat(train_data, valid_data, test_data, config['select_all'])\n",
    "\n",
    "# Print out the number of features.\n",
    "print(f'number of features: {x_train.shape[1]}')\n",
    "\n",
    "train_dataset, valid_dataset, test_dataset = COVID19Dataset(x_train, y_train), \\\n",
    "                                            COVID19Dataset(x_valid, y_valid), \\\n",
    "                                            COVID19Dataset(x_test)\n",
    "\n",
    "# Pytorch data loader loads pytorch dataset into batches.\n",
    "train_loader = DataLoader(train_dataset, batch_size=config['batch_size'], shuffle=True, pin_memory=True)\n",
    "valid_loader = DataLoader(valid_dataset, batch_size=config['batch_size'], shuffle=True, pin_memory=True)\n",
    "test_loader = DataLoader(test_dataset, batch_size=config['batch_size'], shuffle=False, pin_memory=True)"
   ]
  },
  {
   "cell_type": "markdown",
   "metadata": {
    "id": "0OBYgjCA-YwD"
   },
   "source": [
    "# Start training!"
   ]
  },
  {
   "cell_type": "code",
   "execution_count": 9,
   "metadata": {
    "colab": {
     "base_uri": "https://localhost:8080/",
     "height": 186
    },
    "id": "YdttVRkAfu2t",
    "outputId": "8ca723e8-79ce-4ad2-cae4-251436b92ede"
   },
   "outputs": [
    {
     "name": "stderr",
     "output_type": "stream",
     "text": [
      "Epoch [1/3000]: 100%|██████████████████████████████████████████████████████████| 9/9 [00:01<00:00,  5.02it/s, loss=121]\n"
     ]
    },
    {
     "name": "stdout",
     "output_type": "stream",
     "text": [
      "Epoch [1/3000]: Train loss: 47.9402, Valid loss: 7.9487\n",
      "Saving model with loss 7.949...\n"
     ]
    },
    {
     "name": "stderr",
     "output_type": "stream",
     "text": [
      "Epoch [2/3000]: 100%|████████████████████████████████████████████████████████| 9/9 [00:00<00:00, 261.18it/s, loss=7.05]\n"
     ]
    },
    {
     "name": "stdout",
     "output_type": "stream",
     "text": [
      "Epoch [2/3000]: Train loss: 4.3873, Valid loss: 3.0083\n",
      "Saving model with loss 3.008...\n"
     ]
    },
    {
     "name": "stderr",
     "output_type": "stream",
     "text": [
      "Epoch [3/3000]: 100%|████████████████████████████████████████████████████████| 9/9 [00:00<00:00, 299.81it/s, loss=1.77]\n"
     ]
    },
    {
     "name": "stdout",
     "output_type": "stream",
     "text": [
      "Epoch [3/3000]: Train loss: 1.7646, Valid loss: 1.5655\n",
      "Saving model with loss 1.565...\n"
     ]
    },
    {
     "name": "stderr",
     "output_type": "stream",
     "text": [
      "Epoch [4/3000]: 100%|████████████████████████████████████████████████████████| 9/9 [00:00<00:00, 247.23it/s, loss=1.25]\n"
     ]
    },
    {
     "name": "stdout",
     "output_type": "stream",
     "text": [
      "Epoch [4/3000]: Train loss: 1.3387, Valid loss: 1.3496\n",
      "Saving model with loss 1.350...\n"
     ]
    },
    {
     "name": "stderr",
     "output_type": "stream",
     "text": [
      "Epoch [5/3000]: 100%|████████████████████████████████████████████████████████| 9/9 [00:00<00:00, 250.84it/s, loss=1.72]\n"
     ]
    },
    {
     "name": "stdout",
     "output_type": "stream",
     "text": [
      "Epoch [5/3000]: Train loss: 1.2503, Valid loss: 1.4314\n"
     ]
    },
    {
     "name": "stderr",
     "output_type": "stream",
     "text": [
      "Epoch [6/3000]: 100%|████████████████████████████████████████████████████████| 9/9 [00:00<00:00, 291.29it/s, loss=1.05]\n"
     ]
    },
    {
     "name": "stdout",
     "output_type": "stream",
     "text": [
      "Epoch [6/3000]: Train loss: 1.2732, Valid loss: 1.6095\n"
     ]
    },
    {
     "name": "stderr",
     "output_type": "stream",
     "text": [
      "Epoch [7/3000]: 100%|████████████████████████████████████████████████████████| 9/9 [00:00<00:00, 249.67it/s, loss=1.89]\n"
     ]
    },
    {
     "name": "stdout",
     "output_type": "stream",
     "text": [
      "Epoch [7/3000]: Train loss: 1.2369, Valid loss: 1.5082\n"
     ]
    },
    {
     "name": "stderr",
     "output_type": "stream",
     "text": [
      "Epoch [8/3000]: 100%|████████████████████████████████████████████████████████| 9/9 [00:00<00:00, 273.64it/s, loss=1.06]\n"
     ]
    },
    {
     "name": "stdout",
     "output_type": "stream",
     "text": [
      "Epoch [8/3000]: Train loss: 1.1365, Valid loss: 1.3415\n",
      "Saving model with loss 1.342...\n"
     ]
    },
    {
     "name": "stderr",
     "output_type": "stream",
     "text": [
      "Epoch [9/3000]: 100%|███████████████████████████████████████████████████████| 9/9 [00:00<00:00, 273.64it/s, loss=0.799]\n"
     ]
    },
    {
     "name": "stdout",
     "output_type": "stream",
     "text": [
      "Epoch [9/3000]: Train loss: 1.1775, Valid loss: 1.6129\n"
     ]
    },
    {
     "name": "stderr",
     "output_type": "stream",
     "text": [
      "Epoch [10/3000]: 100%|███████████████████████████████████████████████████████| 9/9 [00:00<00:00, 265.60it/s, loss=1.03]\n"
     ]
    },
    {
     "name": "stdout",
     "output_type": "stream",
     "text": [
      "Epoch [10/3000]: Train loss: 1.2144, Valid loss: 1.1756\n",
      "Saving model with loss 1.176...\n"
     ]
    },
    {
     "name": "stderr",
     "output_type": "stream",
     "text": [
      "Epoch [11/3000]: 100%|██████████████████████████████████████████████████████| 9/9 [00:00<00:00, 250.84it/s, loss=0.895]\n"
     ]
    },
    {
     "name": "stdout",
     "output_type": "stream",
     "text": [
      "Epoch [11/3000]: Train loss: 1.1532, Valid loss: 2.1013\n"
     ]
    },
    {
     "name": "stderr",
     "output_type": "stream",
     "text": [
      "Epoch [12/3000]: 100%|███████████████████████████████████████████████████████| 9/9 [00:00<00:00, 258.00it/s, loss=1.29]\n"
     ]
    },
    {
     "name": "stdout",
     "output_type": "stream",
     "text": [
      "Epoch [12/3000]: Train loss: 1.1862, Valid loss: 1.3542\n"
     ]
    },
    {
     "name": "stderr",
     "output_type": "stream",
     "text": [
      "Epoch [13/3000]: 100%|███████████████████████████████████████████████████████| 9/9 [00:00<00:00, 237.64it/s, loss=1.31]\n"
     ]
    },
    {
     "name": "stdout",
     "output_type": "stream",
     "text": [
      "Epoch [13/3000]: Train loss: 1.0838, Valid loss: 1.4522\n"
     ]
    },
    {
     "name": "stderr",
     "output_type": "stream",
     "text": [
      "Epoch [14/3000]: 100%|████████████████████████████████████████████████████████| 9/9 [00:00<00:00, 86.38it/s, loss=1.39]\n"
     ]
    },
    {
     "name": "stdout",
     "output_type": "stream",
     "text": [
      "Epoch [14/3000]: Train loss: 1.1504, Valid loss: 1.1550\n",
      "Saving model with loss 1.155...\n"
     ]
    },
    {
     "name": "stderr",
     "output_type": "stream",
     "text": [
      "Epoch [15/3000]: 100%|██████████████████████████████████████████████████████| 9/9 [00:00<00:00, 230.19it/s, loss=0.693]\n"
     ]
    },
    {
     "name": "stdout",
     "output_type": "stream",
     "text": [
      "Epoch [15/3000]: Train loss: 1.2274, Valid loss: 1.1860\n"
     ]
    },
    {
     "name": "stderr",
     "output_type": "stream",
     "text": [
      "Epoch [16/3000]: 100%|███████████████████████████████████████████████████████| 9/9 [00:00<00:00, 244.11it/s, loss=0.94]\n"
     ]
    },
    {
     "name": "stdout",
     "output_type": "stream",
     "text": [
      "Epoch [16/3000]: Train loss: 1.1131, Valid loss: 1.2600\n"
     ]
    },
    {
     "name": "stderr",
     "output_type": "stream",
     "text": [
      "Epoch [17/3000]: 100%|███████████████████████████████████████████████████████| 9/9 [00:00<00:00, 262.05it/s, loss=1.45]\n"
     ]
    },
    {
     "name": "stdout",
     "output_type": "stream",
     "text": [
      "Epoch [17/3000]: Train loss: 1.0928, Valid loss: 1.1864\n"
     ]
    },
    {
     "name": "stderr",
     "output_type": "stream",
     "text": [
      "Epoch [18/3000]: 100%|███████████████████████████████████████████████████████| 9/9 [00:00<00:00, 237.78it/s, loss=1.24]\n"
     ]
    },
    {
     "name": "stdout",
     "output_type": "stream",
     "text": [
      "Epoch [18/3000]: Train loss: 1.1378, Valid loss: 2.0884\n"
     ]
    },
    {
     "name": "stderr",
     "output_type": "stream",
     "text": [
      "Epoch [19/3000]: 100%|███████████████████████████████████████████████████████| 9/9 [00:00<00:00, 277.37it/s, loss=1.12]\n"
     ]
    },
    {
     "name": "stdout",
     "output_type": "stream",
     "text": [
      "Epoch [19/3000]: Train loss: 1.1176, Valid loss: 1.4981\n"
     ]
    },
    {
     "name": "stderr",
     "output_type": "stream",
     "text": [
      "Epoch [20/3000]: 100%|██████████████████████████████████████████████████████| 9/9 [00:00<00:00, 248.24it/s, loss=0.977]\n"
     ]
    },
    {
     "name": "stdout",
     "output_type": "stream",
     "text": [
      "Epoch [20/3000]: Train loss: 1.0626, Valid loss: 1.2614\n"
     ]
    },
    {
     "name": "stderr",
     "output_type": "stream",
     "text": [
      "Epoch [21/3000]: 100%|██████████████████████████████████████████████████████| 9/9 [00:00<00:00, 277.98it/s, loss=0.804]\n"
     ]
    },
    {
     "name": "stdout",
     "output_type": "stream",
     "text": [
      "Epoch [21/3000]: Train loss: 1.0804, Valid loss: 1.4353\n"
     ]
    },
    {
     "name": "stderr",
     "output_type": "stream",
     "text": [
      "Epoch [22/3000]: 100%|███████████████████████████████████████████████████████| 9/9 [00:00<00:00, 256.56it/s, loss=1.01]\n"
     ]
    },
    {
     "name": "stdout",
     "output_type": "stream",
     "text": [
      "Epoch [22/3000]: Train loss: 1.0370, Valid loss: 1.3177\n"
     ]
    },
    {
     "name": "stderr",
     "output_type": "stream",
     "text": [
      "Epoch [23/3000]: 100%|██████████████████████████████████████████████████████| 9/9 [00:00<00:00, 251.24it/s, loss=0.817]\n"
     ]
    },
    {
     "name": "stdout",
     "output_type": "stream",
     "text": [
      "Epoch [23/3000]: Train loss: 1.0180, Valid loss: 1.3428\n"
     ]
    },
    {
     "name": "stderr",
     "output_type": "stream",
     "text": [
      "Epoch [24/3000]: 100%|██████████████████████████████████████████████████████| 9/9 [00:00<00:00, 291.24it/s, loss=0.989]\n"
     ]
    },
    {
     "name": "stdout",
     "output_type": "stream",
     "text": [
      "Epoch [24/3000]: Train loss: 1.0008, Valid loss: 1.2974\n"
     ]
    },
    {
     "name": "stderr",
     "output_type": "stream",
     "text": [
      "Epoch [25/3000]: 100%|██████████████████████████████████████████████████████| 9/9 [00:00<00:00, 258.20it/s, loss=0.887]\n"
     ]
    },
    {
     "name": "stdout",
     "output_type": "stream",
     "text": [
      "Epoch [25/3000]: Train loss: 1.1329, Valid loss: 0.9932\n",
      "Saving model with loss 0.993...\n"
     ]
    },
    {
     "name": "stderr",
     "output_type": "stream",
     "text": [
      "Epoch [26/3000]: 100%|██████████████████████████████████████████████████████| 9/9 [00:00<00:00, 301.00it/s, loss=0.698]\n"
     ]
    },
    {
     "name": "stdout",
     "output_type": "stream",
     "text": [
      "Epoch [26/3000]: Train loss: 1.0768, Valid loss: 1.1660\n"
     ]
    },
    {
     "name": "stderr",
     "output_type": "stream",
     "text": [
      "Epoch [27/3000]: 100%|███████████████████████████████████████████████████████| 9/9 [00:00<00:00, 264.72it/s, loss=0.89]\n"
     ]
    },
    {
     "name": "stdout",
     "output_type": "stream",
     "text": [
      "Epoch [27/3000]: Train loss: 0.9571, Valid loss: 1.4057\n"
     ]
    },
    {
     "name": "stderr",
     "output_type": "stream",
     "text": [
      "Epoch [28/3000]: 100%|██████████████████████████████████████████████████████| 9/9 [00:00<00:00, 282.19it/s, loss=0.866]\n"
     ]
    },
    {
     "name": "stdout",
     "output_type": "stream",
     "text": [
      "Epoch [28/3000]: Train loss: 1.0321, Valid loss: 1.8855\n"
     ]
    },
    {
     "name": "stderr",
     "output_type": "stream",
     "text": [
      "Epoch [29/3000]: 100%|███████████████████████████████████████████████████████| 9/9 [00:00<00:00, 266.40it/s, loss=1.09]\n"
     ]
    },
    {
     "name": "stdout",
     "output_type": "stream",
     "text": [
      "Epoch [29/3000]: Train loss: 1.2813, Valid loss: 1.2012\n"
     ]
    },
    {
     "name": "stderr",
     "output_type": "stream",
     "text": [
      "Epoch [30/3000]: 100%|██████████████████████████████████████████████████████| 9/9 [00:00<00:00, 291.64it/s, loss=0.989]\n"
     ]
    },
    {
     "name": "stdout",
     "output_type": "stream",
     "text": [
      "Epoch [30/3000]: Train loss: 1.0081, Valid loss: 1.2419\n"
     ]
    },
    {
     "name": "stderr",
     "output_type": "stream",
     "text": [
      "Epoch [31/3000]: 100%|██████████████████████████████████████████████████████| 9/9 [00:00<00:00, 260.99it/s, loss=0.856]\n"
     ]
    },
    {
     "name": "stdout",
     "output_type": "stream",
     "text": [
      "Epoch [31/3000]: Train loss: 1.0034, Valid loss: 1.4144\n"
     ]
    },
    {
     "name": "stderr",
     "output_type": "stream",
     "text": [
      "Epoch [32/3000]: 100%|███████████████████████████████████████████████████████| 9/9 [00:00<00:00, 282.17it/s, loss=0.91]\n"
     ]
    },
    {
     "name": "stdout",
     "output_type": "stream",
     "text": [
      "Epoch [32/3000]: Train loss: 0.9646, Valid loss: 1.0761\n"
     ]
    },
    {
     "name": "stderr",
     "output_type": "stream",
     "text": [
      "Epoch [33/3000]: 100%|██████████████████████████████████████████████████████| 9/9 [00:00<00:00, 278.71it/s, loss=0.931]\n"
     ]
    },
    {
     "name": "stdout",
     "output_type": "stream",
     "text": [
      "Epoch [33/3000]: Train loss: 1.0178, Valid loss: 1.2506\n"
     ]
    },
    {
     "name": "stderr",
     "output_type": "stream",
     "text": [
      "Epoch [34/3000]: 100%|███████████████████████████████████████████████████████| 9/9 [00:00<00:00, 250.84it/s, loss=1.25]\n"
     ]
    },
    {
     "name": "stdout",
     "output_type": "stream",
     "text": [
      "Epoch [34/3000]: Train loss: 1.0626, Valid loss: 1.1610\n"
     ]
    },
    {
     "name": "stderr",
     "output_type": "stream",
     "text": [
      "Epoch [35/3000]: 100%|██████████████████████████████████████████████████████| 9/9 [00:00<00:00, 295.39it/s, loss=0.895]\n"
     ]
    },
    {
     "name": "stdout",
     "output_type": "stream",
     "text": [
      "Epoch [35/3000]: Train loss: 1.0899, Valid loss: 1.3997\n"
     ]
    },
    {
     "name": "stderr",
     "output_type": "stream",
     "text": [
      "Epoch [36/3000]: 100%|██████████████████████████████████████████████████████| 9/9 [00:00<00:00, 266.47it/s, loss=0.807]\n"
     ]
    },
    {
     "name": "stdout",
     "output_type": "stream",
     "text": [
      "Epoch [36/3000]: Train loss: 0.9949, Valid loss: 0.9356\n",
      "Saving model with loss 0.936...\n"
     ]
    },
    {
     "name": "stderr",
     "output_type": "stream",
     "text": [
      "Epoch [37/3000]: 100%|███████████████████████████████████████████████████████| 9/9 [00:00<00:00, 264.99it/s, loss=1.23]\n"
     ]
    },
    {
     "name": "stdout",
     "output_type": "stream",
     "text": [
      "Epoch [37/3000]: Train loss: 0.9943, Valid loss: 1.1398\n"
     ]
    },
    {
     "name": "stderr",
     "output_type": "stream",
     "text": [
      "Epoch [38/3000]: 100%|██████████████████████████████████████████████████████| 9/9 [00:00<00:00, 248.23it/s, loss=0.911]\n"
     ]
    },
    {
     "name": "stdout",
     "output_type": "stream",
     "text": [
      "Epoch [38/3000]: Train loss: 1.0570, Valid loss: 1.1118\n"
     ]
    },
    {
     "name": "stderr",
     "output_type": "stream",
     "text": [
      "Epoch [39/3000]: 100%|██████████████████████████████████████████████████████| 9/9 [00:00<00:00, 257.88it/s, loss=0.865]\n"
     ]
    },
    {
     "name": "stdout",
     "output_type": "stream",
     "text": [
      "Epoch [39/3000]: Train loss: 0.9581, Valid loss: 1.6916\n"
     ]
    },
    {
     "name": "stderr",
     "output_type": "stream",
     "text": [
      "Epoch [40/3000]: 100%|███████████████████████████████████████████████████████| 9/9 [00:00<00:00, 259.56it/s, loss=0.91]\n"
     ]
    },
    {
     "name": "stdout",
     "output_type": "stream",
     "text": [
      "Epoch [40/3000]: Train loss: 0.9888, Valid loss: 1.0768\n"
     ]
    },
    {
     "name": "stderr",
     "output_type": "stream",
     "text": [
      "Epoch [41/3000]: 100%|███████████████████████████████████████████████████████| 9/9 [00:00<00:00, 282.19it/s, loss=1.14]\n"
     ]
    },
    {
     "name": "stdout",
     "output_type": "stream",
     "text": [
      "Epoch [41/3000]: Train loss: 1.0840, Valid loss: 1.1800\n"
     ]
    },
    {
     "name": "stderr",
     "output_type": "stream",
     "text": [
      "Epoch [42/3000]: 100%|██████████████████████████████████████████████████████| 9/9 [00:00<00:00, 244.18it/s, loss=0.859]\n"
     ]
    },
    {
     "name": "stdout",
     "output_type": "stream",
     "text": [
      "Epoch [42/3000]: Train loss: 0.9359, Valid loss: 1.1323\n"
     ]
    },
    {
     "name": "stderr",
     "output_type": "stream",
     "text": [
      "Epoch [43/3000]: 100%|██████████████████████████████████████████████████████| 9/9 [00:00<00:00, 250.83it/s, loss=0.969]\n"
     ]
    },
    {
     "name": "stdout",
     "output_type": "stream",
     "text": [
      "Epoch [43/3000]: Train loss: 0.9495, Valid loss: 1.1722\n"
     ]
    },
    {
     "name": "stderr",
     "output_type": "stream",
     "text": [
      "Epoch [44/3000]: 100%|██████████████████████████████████████████████████████| 9/9 [00:00<00:00, 265.67it/s, loss=0.893]\n"
     ]
    },
    {
     "name": "stdout",
     "output_type": "stream",
     "text": [
      "Epoch [44/3000]: Train loss: 0.8935, Valid loss: 1.1118\n"
     ]
    },
    {
     "name": "stderr",
     "output_type": "stream",
     "text": [
      "Epoch [45/3000]: 100%|███████████████████████████████████████████████████████| 9/9 [00:00<00:00, 273.85it/s, loss=1.05]\n"
     ]
    },
    {
     "name": "stdout",
     "output_type": "stream",
     "text": [
      "Epoch [45/3000]: Train loss: 1.2295, Valid loss: 1.2337\n"
     ]
    },
    {
     "name": "stderr",
     "output_type": "stream",
     "text": [
      "Epoch [46/3000]: 100%|██████████████████████████████████████████████████████| 9/9 [00:00<00:00, 265.59it/s, loss=0.823]\n"
     ]
    },
    {
     "name": "stdout",
     "output_type": "stream",
     "text": [
      "Epoch [46/3000]: Train loss: 1.0270, Valid loss: 1.3647\n"
     ]
    },
    {
     "name": "stderr",
     "output_type": "stream",
     "text": [
      "Epoch [47/3000]: 100%|███████████████████████████████████████████████████████| 9/9 [00:00<00:00, 250.85it/s, loss=1.24]\n"
     ]
    },
    {
     "name": "stdout",
     "output_type": "stream",
     "text": [
      "Epoch [47/3000]: Train loss: 0.9555, Valid loss: 1.0481\n"
     ]
    },
    {
     "name": "stderr",
     "output_type": "stream",
     "text": [
      "Epoch [48/3000]: 100%|██████████████████████████████████████████████████████| 9/9 [00:00<00:00, 244.06it/s, loss=0.724]\n"
     ]
    },
    {
     "name": "stdout",
     "output_type": "stream",
     "text": [
      "Epoch [48/3000]: Train loss: 0.9269, Valid loss: 1.2036\n"
     ]
    },
    {
     "name": "stderr",
     "output_type": "stream",
     "text": [
      "Epoch [49/3000]: 100%|██████████████████████████████████████████████████████| 9/9 [00:00<00:00, 250.84it/s, loss=0.725]\n"
     ]
    },
    {
     "name": "stdout",
     "output_type": "stream",
     "text": [
      "Epoch [49/3000]: Train loss: 0.9005, Valid loss: 1.1280\n"
     ]
    },
    {
     "name": "stderr",
     "output_type": "stream",
     "text": [
      "Epoch [50/3000]: 100%|██████████████████████████████████████████████████████| 9/9 [00:00<00:00, 244.06it/s, loss=0.895]\n"
     ]
    },
    {
     "name": "stdout",
     "output_type": "stream",
     "text": [
      "Epoch [50/3000]: Train loss: 0.9891, Valid loss: 0.9757\n"
     ]
    },
    {
     "name": "stderr",
     "output_type": "stream",
     "text": [
      "Epoch [51/3000]: 100%|███████████████████████████████████████████████████████| 9/9 [00:00<00:00, 250.91it/s, loss=1.05]\n"
     ]
    },
    {
     "name": "stdout",
     "output_type": "stream",
     "text": [
      "Epoch [51/3000]: Train loss: 0.8916, Valid loss: 1.1635\n"
     ]
    },
    {
     "name": "stderr",
     "output_type": "stream",
     "text": [
      "Epoch [52/3000]: 100%|██████████████████████████████████████████████████████| 9/9 [00:00<00:00, 250.84it/s, loss=0.801]\n"
     ]
    },
    {
     "name": "stdout",
     "output_type": "stream",
     "text": [
      "Epoch [52/3000]: Train loss: 0.9718, Valid loss: 1.0223\n"
     ]
    },
    {
     "name": "stderr",
     "output_type": "stream",
     "text": [
      "Epoch [53/3000]: 100%|██████████████████████████████████████████████████████| 9/9 [00:00<00:00, 240.85it/s, loss=0.645]\n"
     ]
    },
    {
     "name": "stdout",
     "output_type": "stream",
     "text": [
      "Epoch [53/3000]: Train loss: 1.0332, Valid loss: 1.1833\n"
     ]
    },
    {
     "name": "stderr",
     "output_type": "stream",
     "text": [
      "Epoch [54/3000]: 100%|██████████████████████████████████████████████████████| 9/9 [00:00<00:00, 250.84it/s, loss=0.818]\n"
     ]
    },
    {
     "name": "stdout",
     "output_type": "stream",
     "text": [
      "Epoch [54/3000]: Train loss: 0.9908, Valid loss: 1.1167\n"
     ]
    },
    {
     "name": "stderr",
     "output_type": "stream",
     "text": [
      "Epoch [55/3000]: 100%|██████████████████████████████████████████████████████| 9/9 [00:00<00:00, 258.00it/s, loss=0.789]\n"
     ]
    },
    {
     "name": "stdout",
     "output_type": "stream",
     "text": [
      "Epoch [55/3000]: Train loss: 0.8797, Valid loss: 1.0939\n"
     ]
    },
    {
     "name": "stderr",
     "output_type": "stream",
     "text": [
      "Epoch [56/3000]: 100%|██████████████████████████████████████████████████████| 9/9 [00:00<00:00, 250.83it/s, loss=0.737]\n"
     ]
    },
    {
     "name": "stdout",
     "output_type": "stream",
     "text": [
      "Epoch [56/3000]: Train loss: 1.0404, Valid loss: 1.4124\n"
     ]
    },
    {
     "name": "stderr",
     "output_type": "stream",
     "text": [
      "Epoch [57/3000]: 100%|███████████████████████████████████████████████████████| 9/9 [00:00<00:00, 250.95it/s, loss=1.02]\n"
     ]
    },
    {
     "name": "stdout",
     "output_type": "stream",
     "text": [
      "Epoch [57/3000]: Train loss: 0.9398, Valid loss: 1.1868\n"
     ]
    },
    {
     "name": "stderr",
     "output_type": "stream",
     "text": [
      "Epoch [58/3000]: 100%|███████████████████████████████████████████████████████| 9/9 [00:00<00:00, 250.82it/s, loss=1.11]\n"
     ]
    },
    {
     "name": "stdout",
     "output_type": "stream",
     "text": [
      "Epoch [58/3000]: Train loss: 0.9739, Valid loss: 1.4997\n"
     ]
    },
    {
     "name": "stderr",
     "output_type": "stream",
     "text": [
      "Epoch [59/3000]: 100%|██████████████████████████████████████████████████████| 9/9 [00:00<00:00, 269.56it/s, loss=0.924]\n"
     ]
    },
    {
     "name": "stdout",
     "output_type": "stream",
     "text": [
      "Epoch [59/3000]: Train loss: 0.9810, Valid loss: 1.2561\n"
     ]
    },
    {
     "name": "stderr",
     "output_type": "stream",
     "text": [
      "Epoch [60/3000]: 100%|██████████████████████████████████████████████████████| 9/9 [00:00<00:00, 265.44it/s, loss=0.743]\n"
     ]
    },
    {
     "name": "stdout",
     "output_type": "stream",
     "text": [
      "Epoch [60/3000]: Train loss: 0.9520, Valid loss: 1.3187\n"
     ]
    },
    {
     "name": "stderr",
     "output_type": "stream",
     "text": [
      "Epoch [61/3000]: 100%|██████████████████████████████████████████████████████████| 9/9 [00:00<00:00, 265.59it/s, loss=1]\n"
     ]
    },
    {
     "name": "stdout",
     "output_type": "stream",
     "text": [
      "Epoch [61/3000]: Train loss: 0.9232, Valid loss: 1.6259\n"
     ]
    },
    {
     "name": "stderr",
     "output_type": "stream",
     "text": [
      "Epoch [62/3000]: 100%|███████████████████████████████████████████████████████| 9/9 [00:00<00:00, 269.00it/s, loss=1.32]\n"
     ]
    },
    {
     "name": "stdout",
     "output_type": "stream",
     "text": [
      "Epoch [62/3000]: Train loss: 0.9927, Valid loss: 1.0002\n"
     ]
    },
    {
     "name": "stderr",
     "output_type": "stream",
     "text": [
      "Epoch [63/3000]: 100%|███████████████████████████████████████████████████████| 9/9 [00:00<00:00, 266.30it/s, loss=1.04]\n"
     ]
    },
    {
     "name": "stdout",
     "output_type": "stream",
     "text": [
      "Epoch [63/3000]: Train loss: 0.9309, Valid loss: 1.1464\n"
     ]
    },
    {
     "name": "stderr",
     "output_type": "stream",
     "text": [
      "Epoch [64/3000]: 100%|████████████████████████████████████████████████████████| 9/9 [00:00<00:00, 265.59it/s, loss=1.2]\n"
     ]
    },
    {
     "name": "stdout",
     "output_type": "stream",
     "text": [
      "Epoch [64/3000]: Train loss: 0.9814, Valid loss: 1.2253\n"
     ]
    },
    {
     "name": "stderr",
     "output_type": "stream",
     "text": [
      "Epoch [65/3000]: 100%|██████████████████████████████████████████████████████| 9/9 [00:00<00:00, 250.71it/s, loss=0.822]\n"
     ]
    },
    {
     "name": "stdout",
     "output_type": "stream",
     "text": [
      "Epoch [65/3000]: Train loss: 1.0238, Valid loss: 1.0107\n"
     ]
    },
    {
     "name": "stderr",
     "output_type": "stream",
     "text": [
      "Epoch [66/3000]: 100%|██████████████████████████████████████████████████████| 9/9 [00:00<00:00, 250.67it/s, loss=0.915]\n"
     ]
    },
    {
     "name": "stdout",
     "output_type": "stream",
     "text": [
      "Epoch [66/3000]: Train loss: 0.9533, Valid loss: 1.2284\n"
     ]
    },
    {
     "name": "stderr",
     "output_type": "stream",
     "text": [
      "Epoch [67/3000]: 100%|██████████████████████████████████████████████████████| 9/9 [00:00<00:00, 241.26it/s, loss=0.761]\n"
     ]
    },
    {
     "name": "stdout",
     "output_type": "stream",
     "text": [
      "Epoch [67/3000]: Train loss: 0.9497, Valid loss: 1.2811\n"
     ]
    },
    {
     "name": "stderr",
     "output_type": "stream",
     "text": [
      "Epoch [68/3000]: 100%|██████████████████████████████████████████████████████| 9/9 [00:00<00:00, 248.51it/s, loss=0.867]\n"
     ]
    },
    {
     "name": "stdout",
     "output_type": "stream",
     "text": [
      "Epoch [68/3000]: Train loss: 0.9164, Valid loss: 1.2750\n"
     ]
    },
    {
     "name": "stderr",
     "output_type": "stream",
     "text": [
      "Epoch [69/3000]: 100%|██████████████████████████████████████████████████████| 9/9 [00:00<00:00, 242.08it/s, loss=0.977]\n"
     ]
    },
    {
     "name": "stdout",
     "output_type": "stream",
     "text": [
      "Epoch [69/3000]: Train loss: 0.9693, Valid loss: 1.4215\n"
     ]
    },
    {
     "name": "stderr",
     "output_type": "stream",
     "text": [
      "Epoch [70/3000]: 100%|██████████████████████████████████████████████████████| 9/9 [00:00<00:00, 250.84it/s, loss=0.804]\n"
     ]
    },
    {
     "name": "stdout",
     "output_type": "stream",
     "text": [
      "Epoch [70/3000]: Train loss: 0.9489, Valid loss: 1.1666\n"
     ]
    },
    {
     "name": "stderr",
     "output_type": "stream",
     "text": [
      "Epoch [71/3000]: 100%|██████████████████████████████████████████████████████| 9/9 [00:00<00:00, 241.56it/s, loss=0.952]\n"
     ]
    },
    {
     "name": "stdout",
     "output_type": "stream",
     "text": [
      "Epoch [71/3000]: Train loss: 0.9725, Valid loss: 1.3038\n"
     ]
    },
    {
     "name": "stderr",
     "output_type": "stream",
     "text": [
      "Epoch [72/3000]: 100%|███████████████████████████████████████████████████████| 9/9 [00:00<00:00, 240.17it/s, loss=0.73]\n"
     ]
    },
    {
     "name": "stdout",
     "output_type": "stream",
     "text": [
      "Epoch [72/3000]: Train loss: 0.8738, Valid loss: 1.2998\n"
     ]
    },
    {
     "name": "stderr",
     "output_type": "stream",
     "text": [
      "Epoch [73/3000]: 100%|██████████████████████████████████████████████████████| 9/9 [00:00<00:00, 239.80it/s, loss=0.741]\n"
     ]
    },
    {
     "name": "stdout",
     "output_type": "stream",
     "text": [
      "Epoch [73/3000]: Train loss: 0.9216, Valid loss: 0.9161\n",
      "Saving model with loss 0.916...\n"
     ]
    },
    {
     "name": "stderr",
     "output_type": "stream",
     "text": [
      "Epoch [74/3000]: 100%|███████████████████████████████████████████████████████| 9/9 [00:00<00:00, 250.84it/s, loss=2.13]\n"
     ]
    },
    {
     "name": "stdout",
     "output_type": "stream",
     "text": [
      "Epoch [74/3000]: Train loss: 1.1088, Valid loss: 1.1845\n"
     ]
    },
    {
     "name": "stderr",
     "output_type": "stream",
     "text": [
      "Epoch [75/3000]: 100%|██████████████████████████████████████████████████████| 9/9 [00:00<00:00, 231.44it/s, loss=0.778]\n"
     ]
    },
    {
     "name": "stdout",
     "output_type": "stream",
     "text": [
      "Epoch [75/3000]: Train loss: 0.8979, Valid loss: 1.2497\n"
     ]
    },
    {
     "name": "stderr",
     "output_type": "stream",
     "text": [
      "Epoch [76/3000]: 100%|██████████████████████████████████████████████████████| 9/9 [00:00<00:00, 242.96it/s, loss=0.883]\n"
     ]
    },
    {
     "name": "stdout",
     "output_type": "stream",
     "text": [
      "Epoch [76/3000]: Train loss: 0.9087, Valid loss: 1.0510\n"
     ]
    },
    {
     "name": "stderr",
     "output_type": "stream",
     "text": [
      "Epoch [77/3000]: 100%|██████████████████████████████████████████████████████| 9/9 [00:00<00:00, 225.66it/s, loss=0.654]\n"
     ]
    },
    {
     "name": "stdout",
     "output_type": "stream",
     "text": [
      "Epoch [77/3000]: Train loss: 0.8819, Valid loss: 1.1730\n"
     ]
    },
    {
     "name": "stderr",
     "output_type": "stream",
     "text": [
      "Epoch [78/3000]: 100%|██████████████████████████████████████████████████████| 9/9 [00:00<00:00, 237.63it/s, loss=0.864]\n"
     ]
    },
    {
     "name": "stdout",
     "output_type": "stream",
     "text": [
      "Epoch [78/3000]: Train loss: 0.9386, Valid loss: 1.0286\n"
     ]
    },
    {
     "name": "stderr",
     "output_type": "stream",
     "text": [
      "Epoch [79/3000]: 100%|██████████████████████████████████████████████████████| 9/9 [00:00<00:00, 241.45it/s, loss=0.651]\n"
     ]
    },
    {
     "name": "stdout",
     "output_type": "stream",
     "text": [
      "Epoch [79/3000]: Train loss: 0.9041, Valid loss: 1.1180\n"
     ]
    },
    {
     "name": "stderr",
     "output_type": "stream",
     "text": [
      "Epoch [80/3000]: 100%|███████████████████████████████████████████████████████| 9/9 [00:00<00:00, 242.77it/s, loss=1.02]\n"
     ]
    },
    {
     "name": "stdout",
     "output_type": "stream",
     "text": [
      "Epoch [80/3000]: Train loss: 0.9632, Valid loss: 1.3124\n"
     ]
    },
    {
     "name": "stderr",
     "output_type": "stream",
     "text": [
      "Epoch [81/3000]: 100%|███████████████████████████████████████████████████████| 9/9 [00:00<00:00, 251.38it/s, loss=1.06]\n"
     ]
    },
    {
     "name": "stdout",
     "output_type": "stream",
     "text": [
      "Epoch [81/3000]: Train loss: 0.9488, Valid loss: 1.1275\n"
     ]
    },
    {
     "name": "stderr",
     "output_type": "stream",
     "text": [
      "Epoch [82/3000]: 100%|███████████████████████████████████████████████████████| 9/9 [00:00<00:00, 251.04it/s, loss=1.09]\n"
     ]
    },
    {
     "name": "stdout",
     "output_type": "stream",
     "text": [
      "Epoch [82/3000]: Train loss: 0.9773, Valid loss: 1.2705\n"
     ]
    },
    {
     "name": "stderr",
     "output_type": "stream",
     "text": [
      "Epoch [83/3000]: 100%|███████████████████████████████████████████████████████| 9/9 [00:00<00:00, 255.74it/s, loss=1.13]\n"
     ]
    },
    {
     "name": "stdout",
     "output_type": "stream",
     "text": [
      "Epoch [83/3000]: Train loss: 0.8877, Valid loss: 1.4146\n"
     ]
    },
    {
     "name": "stderr",
     "output_type": "stream",
     "text": [
      "Epoch [84/3000]: 100%|██████████████████████████████████████████████████████| 9/9 [00:00<00:00, 256.44it/s, loss=0.833]\n"
     ]
    },
    {
     "name": "stdout",
     "output_type": "stream",
     "text": [
      "Epoch [84/3000]: Train loss: 0.9381, Valid loss: 1.2921\n"
     ]
    },
    {
     "name": "stderr",
     "output_type": "stream",
     "text": [
      "Epoch [85/3000]: 100%|██████████████████████████████████████████████████████| 9/9 [00:00<00:00, 265.57it/s, loss=0.989]\n"
     ]
    },
    {
     "name": "stdout",
     "output_type": "stream",
     "text": [
      "Epoch [85/3000]: Train loss: 0.8897, Valid loss: 1.4079\n"
     ]
    },
    {
     "name": "stderr",
     "output_type": "stream",
     "text": [
      "Epoch [86/3000]: 100%|██████████████████████████████████████████████████████| 9/9 [00:00<00:00, 265.59it/s, loss=0.992]\n"
     ]
    },
    {
     "name": "stdout",
     "output_type": "stream",
     "text": [
      "Epoch [86/3000]: Train loss: 0.8709, Valid loss: 1.0015\n"
     ]
    },
    {
     "name": "stderr",
     "output_type": "stream",
     "text": [
      "Epoch [87/3000]: 100%|██████████████████████████████████████████████████████| 9/9 [00:00<00:00, 265.59it/s, loss=0.864]\n"
     ]
    },
    {
     "name": "stdout",
     "output_type": "stream",
     "text": [
      "Epoch [87/3000]: Train loss: 1.0052, Valid loss: 0.9683\n"
     ]
    },
    {
     "name": "stderr",
     "output_type": "stream",
     "text": [
      "Epoch [88/3000]: 100%|██████████████████████████████████████████████████████| 9/9 [00:00<00:00, 255.57it/s, loss=0.638]\n"
     ]
    },
    {
     "name": "stdout",
     "output_type": "stream",
     "text": [
      "Epoch [88/3000]: Train loss: 0.9799, Valid loss: 1.0543\n"
     ]
    },
    {
     "name": "stderr",
     "output_type": "stream",
     "text": [
      "Epoch [89/3000]: 100%|██████████████████████████████████████████████████████| 9/9 [00:00<00:00, 243.99it/s, loss=0.683]\n"
     ]
    },
    {
     "name": "stdout",
     "output_type": "stream",
     "text": [
      "Epoch [89/3000]: Train loss: 0.8790, Valid loss: 1.4372\n"
     ]
    },
    {
     "name": "stderr",
     "output_type": "stream",
     "text": [
      "Epoch [90/3000]: 100%|██████████████████████████████████████████████████████| 9/9 [00:00<00:00, 268.21it/s, loss=0.829]\n"
     ]
    },
    {
     "name": "stdout",
     "output_type": "stream",
     "text": [
      "Epoch [90/3000]: Train loss: 0.9171, Valid loss: 1.1583\n"
     ]
    },
    {
     "name": "stderr",
     "output_type": "stream",
     "text": [
      "Epoch [91/3000]: 100%|███████████████████████████████████████████████████████| 9/9 [00:00<00:00, 254.11it/s, loss=0.89]\n"
     ]
    },
    {
     "name": "stdout",
     "output_type": "stream",
     "text": [
      "Epoch [91/3000]: Train loss: 0.8983, Valid loss: 1.2992\n"
     ]
    },
    {
     "name": "stderr",
     "output_type": "stream",
     "text": [
      "Epoch [92/3000]: 100%|███████████████████████████████████████████████████████| 9/9 [00:00<00:00, 254.18it/s, loss=1.35]\n"
     ]
    },
    {
     "name": "stdout",
     "output_type": "stream",
     "text": [
      "Epoch [92/3000]: Train loss: 0.9438, Valid loss: 2.1801\n"
     ]
    },
    {
     "name": "stderr",
     "output_type": "stream",
     "text": [
      "Epoch [93/3000]: 100%|██████████████████████████████████████████████████████| 9/9 [00:00<00:00, 256.96it/s, loss=0.997]\n"
     ]
    },
    {
     "name": "stdout",
     "output_type": "stream",
     "text": [
      "Epoch [93/3000]: Train loss: 1.0178, Valid loss: 1.2262\n"
     ]
    },
    {
     "name": "stderr",
     "output_type": "stream",
     "text": [
      "Epoch [94/3000]: 100%|███████████████████████████████████████████████████████| 9/9 [00:00<00:00, 252.30it/s, loss=1.21]\n"
     ]
    },
    {
     "name": "stdout",
     "output_type": "stream",
     "text": [
      "Epoch [94/3000]: Train loss: 0.9961, Valid loss: 1.1148\n"
     ]
    },
    {
     "name": "stderr",
     "output_type": "stream",
     "text": [
      "Epoch [95/3000]: 100%|██████████████████████████████████████████████████████| 9/9 [00:00<00:00, 245.55it/s, loss=0.775]\n"
     ]
    },
    {
     "name": "stdout",
     "output_type": "stream",
     "text": [
      "Epoch [95/3000]: Train loss: 0.8765, Valid loss: 1.1222\n"
     ]
    },
    {
     "name": "stderr",
     "output_type": "stream",
     "text": [
      "Epoch [96/3000]: 100%|██████████████████████████████████████████████████████| 9/9 [00:00<00:00, 256.85it/s, loss=0.616]\n"
     ]
    },
    {
     "name": "stdout",
     "output_type": "stream",
     "text": [
      "Epoch [96/3000]: Train loss: 0.9557, Valid loss: 1.2078\n"
     ]
    },
    {
     "name": "stderr",
     "output_type": "stream",
     "text": [
      "Epoch [97/3000]: 100%|███████████████████████████████████████████████████████| 9/9 [00:00<00:00, 249.35it/s, loss=2.64]\n"
     ]
    },
    {
     "name": "stdout",
     "output_type": "stream",
     "text": [
      "Epoch [97/3000]: Train loss: 1.0358, Valid loss: 1.0934\n"
     ]
    },
    {
     "name": "stderr",
     "output_type": "stream",
     "text": [
      "Epoch [98/3000]: 100%|██████████████████████████████████████████████████████| 9/9 [00:00<00:00, 239.74it/s, loss=0.715]\n"
     ]
    },
    {
     "name": "stdout",
     "output_type": "stream",
     "text": [
      "Epoch [98/3000]: Train loss: 0.8606, Valid loss: 0.9031\n",
      "Saving model with loss 0.903...\n"
     ]
    },
    {
     "name": "stderr",
     "output_type": "stream",
     "text": [
      "Epoch [99/3000]: 100%|██████████████████████████████████████████████████████| 9/9 [00:00<00:00, 237.56it/s, loss=0.806]\n"
     ]
    },
    {
     "name": "stdout",
     "output_type": "stream",
     "text": [
      "Epoch [99/3000]: Train loss: 0.9183, Valid loss: 1.1459\n"
     ]
    },
    {
     "name": "stderr",
     "output_type": "stream",
     "text": [
      "Epoch [100/3000]: 100%|█████████████████████████████████████████████████████| 9/9 [00:00<00:00, 243.95it/s, loss=0.892]\n"
     ]
    },
    {
     "name": "stdout",
     "output_type": "stream",
     "text": [
      "Epoch [100/3000]: Train loss: 0.9605, Valid loss: 1.3023\n"
     ]
    },
    {
     "name": "stderr",
     "output_type": "stream",
     "text": [
      "Epoch [101/3000]: 100%|██████████████████████████████████████████████████████| 9/9 [00:00<00:00, 250.84it/s, loss=1.67]\n"
     ]
    },
    {
     "name": "stdout",
     "output_type": "stream",
     "text": [
      "Epoch [101/3000]: Train loss: 0.9439, Valid loss: 1.0570\n"
     ]
    },
    {
     "name": "stderr",
     "output_type": "stream",
     "text": [
      "Epoch [102/3000]: 100%|█████████████████████████████████████████████████████| 9/9 [00:00<00:00, 244.07it/s, loss=0.942]\n"
     ]
    },
    {
     "name": "stdout",
     "output_type": "stream",
     "text": [
      "Epoch [102/3000]: Train loss: 0.8929, Valid loss: 1.3421\n"
     ]
    },
    {
     "name": "stderr",
     "output_type": "stream",
     "text": [
      "Epoch [103/3000]: 100%|██████████████████████████████████████████████████████| 9/9 [00:00<00:00, 258.00it/s, loss=1.25]\n"
     ]
    },
    {
     "name": "stdout",
     "output_type": "stream",
     "text": [
      "Epoch [103/3000]: Train loss: 0.8944, Valid loss: 1.1829\n"
     ]
    },
    {
     "name": "stderr",
     "output_type": "stream",
     "text": [
      "Epoch [104/3000]: 100%|██████████████████████████████████████████████████████| 9/9 [00:00<00:00, 254.38it/s, loss=1.11]\n"
     ]
    },
    {
     "name": "stdout",
     "output_type": "stream",
     "text": [
      "Epoch [104/3000]: Train loss: 0.8709, Valid loss: 1.2017\n"
     ]
    },
    {
     "name": "stderr",
     "output_type": "stream",
     "text": [
      "Epoch [105/3000]: 100%|██████████████████████████████████████████████████████| 9/9 [00:00<00:00, 273.75it/s, loss=1.06]\n"
     ]
    },
    {
     "name": "stdout",
     "output_type": "stream",
     "text": [
      "Epoch [105/3000]: Train loss: 0.8660, Valid loss: 0.9611\n"
     ]
    },
    {
     "name": "stderr",
     "output_type": "stream",
     "text": [
      "Epoch [106/3000]: 100%|█████████████████████████████████████████████████████| 9/9 [00:00<00:00, 257.11it/s, loss=0.863]\n"
     ]
    },
    {
     "name": "stdout",
     "output_type": "stream",
     "text": [
      "Epoch [106/3000]: Train loss: 0.9090, Valid loss: 0.8807\n",
      "Saving model with loss 0.881...\n"
     ]
    },
    {
     "name": "stderr",
     "output_type": "stream",
     "text": [
      "Epoch [107/3000]: 100%|█████████████████████████████████████████████████████| 9/9 [00:00<00:00, 282.20it/s, loss=0.854]\n"
     ]
    },
    {
     "name": "stdout",
     "output_type": "stream",
     "text": [
      "Epoch [107/3000]: Train loss: 0.8879, Valid loss: 1.1648\n"
     ]
    },
    {
     "name": "stderr",
     "output_type": "stream",
     "text": [
      "Epoch [108/3000]: 100%|█████████████████████████████████████████████████████| 9/9 [00:00<00:00, 271.78it/s, loss=0.911]\n"
     ]
    },
    {
     "name": "stdout",
     "output_type": "stream",
     "text": [
      "Epoch [108/3000]: Train loss: 0.8434, Valid loss: 1.2694\n"
     ]
    },
    {
     "name": "stderr",
     "output_type": "stream",
     "text": [
      "Epoch [109/3000]: 100%|█████████████████████████████████████████████████████| 9/9 [00:00<00:00, 273.69it/s, loss=0.635]\n"
     ]
    },
    {
     "name": "stdout",
     "output_type": "stream",
     "text": [
      "Epoch [109/3000]: Train loss: 1.0081, Valid loss: 1.1955\n"
     ]
    },
    {
     "name": "stderr",
     "output_type": "stream",
     "text": [
      "Epoch [110/3000]: 100%|█████████████████████████████████████████████████████| 9/9 [00:00<00:00, 258.15it/s, loss=0.769]\n"
     ]
    },
    {
     "name": "stdout",
     "output_type": "stream",
     "text": [
      "Epoch [110/3000]: Train loss: 0.9533, Valid loss: 1.1196\n"
     ]
    },
    {
     "name": "stderr",
     "output_type": "stream",
     "text": [
      "Epoch [111/3000]: 100%|██████████████████████████████████████████████████████| 9/9 [00:00<00:00, 87.66it/s, loss=0.861]\n"
     ]
    },
    {
     "name": "stdout",
     "output_type": "stream",
     "text": [
      "Epoch [111/3000]: Train loss: 0.9130, Valid loss: 0.9293\n"
     ]
    },
    {
     "name": "stderr",
     "output_type": "stream",
     "text": [
      "Epoch [112/3000]: 100%|█████████████████████████████████████████████████████| 9/9 [00:00<00:00, 258.00it/s, loss=0.845]\n"
     ]
    },
    {
     "name": "stdout",
     "output_type": "stream",
     "text": [
      "Epoch [112/3000]: Train loss: 0.8885, Valid loss: 0.8728\n",
      "Saving model with loss 0.873...\n"
     ]
    },
    {
     "name": "stderr",
     "output_type": "stream",
     "text": [
      "Epoch [113/3000]: 100%|█████████████████████████████████████████████████████| 9/9 [00:00<00:00, 244.08it/s, loss=0.674]\n"
     ]
    },
    {
     "name": "stdout",
     "output_type": "stream",
     "text": [
      "Epoch [113/3000]: Train loss: 0.8841, Valid loss: 1.8606\n"
     ]
    },
    {
     "name": "stderr",
     "output_type": "stream",
     "text": [
      "Epoch [114/3000]: 100%|██████████████████████████████████████████████████████| 9/9 [00:00<00:00, 244.12it/s, loss=1.03]\n"
     ]
    },
    {
     "name": "stdout",
     "output_type": "stream",
     "text": [
      "Epoch [114/3000]: Train loss: 0.9127, Valid loss: 0.8774\n"
     ]
    },
    {
     "name": "stderr",
     "output_type": "stream",
     "text": [
      "Epoch [115/3000]: 100%|█████████████████████████████████████████████████████| 9/9 [00:00<00:00, 167.22it/s, loss=0.978]\n"
     ]
    },
    {
     "name": "stdout",
     "output_type": "stream",
     "text": [
      "Epoch [115/3000]: Train loss: 0.9467, Valid loss: 0.8806\n"
     ]
    },
    {
     "name": "stderr",
     "output_type": "stream",
     "text": [
      "Epoch [116/3000]: 100%|██████████████████████████████████████████████████████| 9/9 [00:00<00:00, 258.05it/s, loss=1.09]\n"
     ]
    },
    {
     "name": "stdout",
     "output_type": "stream",
     "text": [
      "Epoch [116/3000]: Train loss: 0.9151, Valid loss: 1.5420\n"
     ]
    },
    {
     "name": "stderr",
     "output_type": "stream",
     "text": [
      "Epoch [117/3000]: 100%|█████████████████████████████████████████████████████| 9/9 [00:00<00:00, 239.28it/s, loss=0.908]\n"
     ]
    },
    {
     "name": "stdout",
     "output_type": "stream",
     "text": [
      "Epoch [117/3000]: Train loss: 0.8835, Valid loss: 0.9808\n"
     ]
    },
    {
     "name": "stderr",
     "output_type": "stream",
     "text": [
      "Epoch [118/3000]: 100%|██████████████████████████████████████████████████████| 9/9 [00:00<00:00, 231.51it/s, loss=1.04]\n"
     ]
    },
    {
     "name": "stdout",
     "output_type": "stream",
     "text": [
      "Epoch [118/3000]: Train loss: 0.9325, Valid loss: 1.1008\n"
     ]
    },
    {
     "name": "stderr",
     "output_type": "stream",
     "text": [
      "Epoch [119/3000]: 100%|█████████████████████████████████████████████████████| 9/9 [00:00<00:00, 250.87it/s, loss=0.832]\n"
     ]
    },
    {
     "name": "stdout",
     "output_type": "stream",
     "text": [
      "Epoch [119/3000]: Train loss: 0.9270, Valid loss: 1.0904\n"
     ]
    },
    {
     "name": "stderr",
     "output_type": "stream",
     "text": [
      "Epoch [120/3000]: 100%|█████████████████████████████████████████████████████| 9/9 [00:00<00:00, 244.05it/s, loss=0.784]\n"
     ]
    },
    {
     "name": "stdout",
     "output_type": "stream",
     "text": [
      "Epoch [120/3000]: Train loss: 0.9007, Valid loss: 1.0284\n"
     ]
    },
    {
     "name": "stderr",
     "output_type": "stream",
     "text": [
      "Epoch [121/3000]: 100%|█████████████████████████████████████████████████████| 9/9 [00:00<00:00, 244.05it/s, loss=0.899]\n"
     ]
    },
    {
     "name": "stdout",
     "output_type": "stream",
     "text": [
      "Epoch [121/3000]: Train loss: 0.9204, Valid loss: 1.1386\n"
     ]
    },
    {
     "name": "stderr",
     "output_type": "stream",
     "text": [
      "Epoch [122/3000]: 100%|█████████████████████████████████████████████████████| 9/9 [00:00<00:00, 226.14it/s, loss=0.907]\n"
     ]
    },
    {
     "name": "stdout",
     "output_type": "stream",
     "text": [
      "Epoch [122/3000]: Train loss: 0.8952, Valid loss: 1.1731\n"
     ]
    },
    {
     "name": "stderr",
     "output_type": "stream",
     "text": [
      "Epoch [123/3000]: 100%|█████████████████████████████████████████████████████| 9/9 [00:00<00:00, 250.88it/s, loss=0.635]\n"
     ]
    },
    {
     "name": "stdout",
     "output_type": "stream",
     "text": [
      "Epoch [123/3000]: Train loss: 0.8941, Valid loss: 1.3870\n"
     ]
    },
    {
     "name": "stderr",
     "output_type": "stream",
     "text": [
      "Epoch [124/3000]: 100%|█████████████████████████████████████████████████████| 9/9 [00:00<00:00, 250.84it/s, loss=0.728]\n"
     ]
    },
    {
     "name": "stdout",
     "output_type": "stream",
     "text": [
      "Epoch [124/3000]: Train loss: 0.9064, Valid loss: 1.0354\n"
     ]
    },
    {
     "name": "stderr",
     "output_type": "stream",
     "text": [
      "Epoch [125/3000]: 100%|█████████████████████████████████████████████████████| 9/9 [00:00<00:00, 243.62it/s, loss=0.694]\n"
     ]
    },
    {
     "name": "stdout",
     "output_type": "stream",
     "text": [
      "Epoch [125/3000]: Train loss: 0.8702, Valid loss: 1.0049\n"
     ]
    },
    {
     "name": "stderr",
     "output_type": "stream",
     "text": [
      "Epoch [126/3000]: 100%|█████████████████████████████████████████████████████| 9/9 [00:00<00:00, 273.57it/s, loss=0.711]\n"
     ]
    },
    {
     "name": "stdout",
     "output_type": "stream",
     "text": [
      "Epoch [126/3000]: Train loss: 0.8583, Valid loss: 1.5219\n"
     ]
    },
    {
     "name": "stderr",
     "output_type": "stream",
     "text": [
      "Epoch [127/3000]: 100%|██████████████████████████████████████████████████████| 9/9 [00:00<00:00, 265.59it/s, loss=1.14]\n"
     ]
    },
    {
     "name": "stdout",
     "output_type": "stream",
     "text": [
      "Epoch [127/3000]: Train loss: 0.8674, Valid loss: 0.9957\n"
     ]
    },
    {
     "name": "stderr",
     "output_type": "stream",
     "text": [
      "Epoch [128/3000]: 100%|█████████████████████████████████████████████████████| 9/9 [00:00<00:00, 265.59it/s, loss=0.807]\n"
     ]
    },
    {
     "name": "stdout",
     "output_type": "stream",
     "text": [
      "Epoch [128/3000]: Train loss: 0.8916, Valid loss: 1.0483\n"
     ]
    },
    {
     "name": "stderr",
     "output_type": "stream",
     "text": [
      "Epoch [129/3000]: 100%|█████████████████████████████████████████████████████| 9/9 [00:00<00:00, 258.67it/s, loss=0.962]\n"
     ]
    },
    {
     "name": "stdout",
     "output_type": "stream",
     "text": [
      "Epoch [129/3000]: Train loss: 0.9077, Valid loss: 0.9173\n"
     ]
    },
    {
     "name": "stderr",
     "output_type": "stream",
     "text": [
      "Epoch [130/3000]: 100%|██████████████████████████████████████████████████████| 9/9 [00:00<00:00, 250.83it/s, loss=1.04]\n"
     ]
    },
    {
     "name": "stdout",
     "output_type": "stream",
     "text": [
      "Epoch [130/3000]: Train loss: 0.8780, Valid loss: 1.3455\n"
     ]
    },
    {
     "name": "stderr",
     "output_type": "stream",
     "text": [
      "Epoch [131/3000]: 100%|█████████████████████████████████████████████████████| 9/9 [00:00<00:00, 250.84it/s, loss=0.989]\n"
     ]
    },
    {
     "name": "stdout",
     "output_type": "stream",
     "text": [
      "Epoch [131/3000]: Train loss: 0.8851, Valid loss: 1.1236\n"
     ]
    },
    {
     "name": "stderr",
     "output_type": "stream",
     "text": [
      "Epoch [132/3000]: 100%|█████████████████████████████████████████████████████| 9/9 [00:00<00:00, 237.64it/s, loss=0.832]\n"
     ]
    },
    {
     "name": "stdout",
     "output_type": "stream",
     "text": [
      "Epoch [132/3000]: Train loss: 0.8673, Valid loss: 1.2077\n"
     ]
    },
    {
     "name": "stderr",
     "output_type": "stream",
     "text": [
      "Epoch [133/3000]: 100%|█████████████████████████████████████████████████████| 9/9 [00:00<00:00, 231.55it/s, loss=0.813]\n"
     ]
    },
    {
     "name": "stdout",
     "output_type": "stream",
     "text": [
      "Epoch [133/3000]: Train loss: 0.9951, Valid loss: 1.0820\n"
     ]
    },
    {
     "name": "stderr",
     "output_type": "stream",
     "text": [
      "Epoch [134/3000]: 100%|█████████████████████████████████████████████████████| 9/9 [00:00<00:00, 250.84it/s, loss=0.738]\n"
     ]
    },
    {
     "name": "stdout",
     "output_type": "stream",
     "text": [
      "Epoch [134/3000]: Train loss: 0.8669, Valid loss: 0.9981\n"
     ]
    },
    {
     "name": "stderr",
     "output_type": "stream",
     "text": [
      "Epoch [135/3000]: 100%|█████████████████████████████████████████████████████| 9/9 [00:00<00:00, 253.93it/s, loss=0.876]\n"
     ]
    },
    {
     "name": "stdout",
     "output_type": "stream",
     "text": [
      "Epoch [135/3000]: Train loss: 0.9423, Valid loss: 0.9334\n"
     ]
    },
    {
     "name": "stderr",
     "output_type": "stream",
     "text": [
      "Epoch [136/3000]: 100%|█████████████████████████████████████████████████████| 9/9 [00:00<00:00, 247.78it/s, loss=0.596]\n"
     ]
    },
    {
     "name": "stdout",
     "output_type": "stream",
     "text": [
      "Epoch [136/3000]: Train loss: 1.0394, Valid loss: 1.8305\n"
     ]
    },
    {
     "name": "stderr",
     "output_type": "stream",
     "text": [
      "Epoch [137/3000]: 100%|█████████████████████████████████████████████████████| 9/9 [00:00<00:00, 250.83it/s, loss=0.998]\n"
     ]
    },
    {
     "name": "stdout",
     "output_type": "stream",
     "text": [
      "Epoch [137/3000]: Train loss: 0.9172, Valid loss: 1.1280\n"
     ]
    },
    {
     "name": "stderr",
     "output_type": "stream",
     "text": [
      "Epoch [138/3000]: 100%|██████████████████████████████████████████████████████| 9/9 [00:00<00:00, 247.20it/s, loss=1.01]\n"
     ]
    },
    {
     "name": "stdout",
     "output_type": "stream",
     "text": [
      "Epoch [138/3000]: Train loss: 0.8697, Valid loss: 1.0913\n"
     ]
    },
    {
     "name": "stderr",
     "output_type": "stream",
     "text": [
      "Epoch [139/3000]: 100%|██████████████████████████████████████████████████████| 9/9 [00:00<00:00, 273.64it/s, loss=1.09]\n"
     ]
    },
    {
     "name": "stdout",
     "output_type": "stream",
     "text": [
      "Epoch [139/3000]: Train loss: 0.9037, Valid loss: 0.9871\n"
     ]
    },
    {
     "name": "stderr",
     "output_type": "stream",
     "text": [
      "Epoch [140/3000]: 100%|██████████████████████████████████████████████████████| 9/9 [00:00<00:00, 265.68it/s, loss=1.11]\n"
     ]
    },
    {
     "name": "stdout",
     "output_type": "stream",
     "text": [
      "Epoch [140/3000]: Train loss: 0.9197, Valid loss: 0.9748\n"
     ]
    },
    {
     "name": "stderr",
     "output_type": "stream",
     "text": [
      "Epoch [141/3000]: 100%|██████████████████████████████████████████████████████| 9/9 [00:00<00:00, 273.64it/s, loss=1.03]\n"
     ]
    },
    {
     "name": "stdout",
     "output_type": "stream",
     "text": [
      "Epoch [141/3000]: Train loss: 0.8679, Valid loss: 1.2546\n"
     ]
    },
    {
     "name": "stderr",
     "output_type": "stream",
     "text": [
      "Epoch [142/3000]: 100%|█████████████████████████████████████████████████████| 9/9 [00:00<00:00, 268.18it/s, loss=0.628]\n"
     ]
    },
    {
     "name": "stdout",
     "output_type": "stream",
     "text": [
      "Epoch [142/3000]: Train loss: 0.9387, Valid loss: 1.0271\n"
     ]
    },
    {
     "name": "stderr",
     "output_type": "stream",
     "text": [
      "Epoch [143/3000]: 100%|█████████████████████████████████████████████████████| 9/9 [00:00<00:00, 244.06it/s, loss=0.903]\n"
     ]
    },
    {
     "name": "stdout",
     "output_type": "stream",
     "text": [
      "Epoch [143/3000]: Train loss: 0.8362, Valid loss: 1.2020\n"
     ]
    },
    {
     "name": "stderr",
     "output_type": "stream",
     "text": [
      "Epoch [144/3000]: 100%|█████████████████████████████████████████████████████| 9/9 [00:00<00:00, 244.06it/s, loss=0.911]\n"
     ]
    },
    {
     "name": "stdout",
     "output_type": "stream",
     "text": [
      "Epoch [144/3000]: Train loss: 0.8976, Valid loss: 1.0134\n"
     ]
    },
    {
     "name": "stderr",
     "output_type": "stream",
     "text": [
      "Epoch [145/3000]: 100%|█████████████████████████████████████████████████████| 9/9 [00:00<00:00, 237.63it/s, loss=0.719]\n"
     ]
    },
    {
     "name": "stdout",
     "output_type": "stream",
     "text": [
      "Epoch [145/3000]: Train loss: 0.9556, Valid loss: 1.0010\n"
     ]
    },
    {
     "name": "stderr",
     "output_type": "stream",
     "text": [
      "Epoch [146/3000]: 100%|█████████████████████████████████████████████████████| 9/9 [00:00<00:00, 237.71it/s, loss=0.712]\n"
     ]
    },
    {
     "name": "stdout",
     "output_type": "stream",
     "text": [
      "Epoch [146/3000]: Train loss: 0.8631, Valid loss: 1.2495\n"
     ]
    },
    {
     "name": "stderr",
     "output_type": "stream",
     "text": [
      "Epoch [147/3000]: 100%|█████████████████████████████████████████████████████| 9/9 [00:00<00:00, 237.62it/s, loss=0.528]\n"
     ]
    },
    {
     "name": "stdout",
     "output_type": "stream",
     "text": [
      "Epoch [147/3000]: Train loss: 0.8543, Valid loss: 1.1949\n"
     ]
    },
    {
     "name": "stderr",
     "output_type": "stream",
     "text": [
      "Epoch [148/3000]: 100%|█████████████████████████████████████████████████████| 9/9 [00:00<00:00, 244.06it/s, loss=0.752]\n"
     ]
    },
    {
     "name": "stdout",
     "output_type": "stream",
     "text": [
      "Epoch [148/3000]: Train loss: 0.9536, Valid loss: 1.5590\n"
     ]
    },
    {
     "name": "stderr",
     "output_type": "stream",
     "text": [
      "Epoch [149/3000]: 100%|██████████████████████████████████████████████████████| 9/9 [00:00<00:00, 237.63it/s, loss=1.13]\n"
     ]
    },
    {
     "name": "stdout",
     "output_type": "stream",
     "text": [
      "Epoch [149/3000]: Train loss: 0.8519, Valid loss: 1.6439\n"
     ]
    },
    {
     "name": "stderr",
     "output_type": "stream",
     "text": [
      "Epoch [150/3000]: 100%|█████████████████████████████████████████████████████| 9/9 [00:00<00:00, 240.20it/s, loss=0.978]\n"
     ]
    },
    {
     "name": "stdout",
     "output_type": "stream",
     "text": [
      "Epoch [150/3000]: Train loss: 0.9429, Valid loss: 1.0822\n"
     ]
    },
    {
     "name": "stderr",
     "output_type": "stream",
     "text": [
      "Epoch [151/3000]: 100%|█████████████████████████████████████████████████████| 9/9 [00:00<00:00, 240.19it/s, loss=0.672]\n"
     ]
    },
    {
     "name": "stdout",
     "output_type": "stream",
     "text": [
      "Epoch [151/3000]: Train loss: 0.8806, Valid loss: 1.2323\n"
     ]
    },
    {
     "name": "stderr",
     "output_type": "stream",
     "text": [
      "Epoch [152/3000]: 100%|█████████████████████████████████████████████████████| 9/9 [00:00<00:00, 237.63it/s, loss=0.962]\n"
     ]
    },
    {
     "name": "stdout",
     "output_type": "stream",
     "text": [
      "Epoch [152/3000]: Train loss: 0.9003, Valid loss: 1.4629\n"
     ]
    },
    {
     "name": "stderr",
     "output_type": "stream",
     "text": [
      "Epoch [153/3000]: 100%|██████████████████████████████████████████████████████| 9/9 [00:00<00:00, 161.25it/s, loss=1.08]\n"
     ]
    },
    {
     "name": "stdout",
     "output_type": "stream",
     "text": [
      "Epoch [153/3000]: Train loss: 0.8841, Valid loss: 1.2240\n"
     ]
    },
    {
     "name": "stderr",
     "output_type": "stream",
     "text": [
      "Epoch [154/3000]: 100%|█████████████████████████████████████████████████████| 9/9 [00:00<00:00, 250.84it/s, loss=0.731]\n"
     ]
    },
    {
     "name": "stdout",
     "output_type": "stream",
     "text": [
      "Epoch [154/3000]: Train loss: 0.8361, Valid loss: 1.8602\n"
     ]
    },
    {
     "name": "stderr",
     "output_type": "stream",
     "text": [
      "Epoch [155/3000]: 100%|█████████████████████████████████████████████████████| 9/9 [00:00<00:00, 258.00it/s, loss=0.671]\n"
     ]
    },
    {
     "name": "stdout",
     "output_type": "stream",
     "text": [
      "Epoch [155/3000]: Train loss: 0.8674, Valid loss: 1.0676\n"
     ]
    },
    {
     "name": "stderr",
     "output_type": "stream",
     "text": [
      "Epoch [156/3000]: 100%|█████████████████████████████████████████████████████| 9/9 [00:00<00:00, 250.84it/s, loss=0.652]\n"
     ]
    },
    {
     "name": "stdout",
     "output_type": "stream",
     "text": [
      "Epoch [156/3000]: Train loss: 0.8704, Valid loss: 1.5469\n"
     ]
    },
    {
     "name": "stderr",
     "output_type": "stream",
     "text": [
      "Epoch [157/3000]: 100%|█████████████████████████████████████████████████████| 9/9 [00:00<00:00, 252.30it/s, loss=0.925]\n"
     ]
    },
    {
     "name": "stdout",
     "output_type": "stream",
     "text": [
      "Epoch [157/3000]: Train loss: 0.8876, Valid loss: 1.2833\n"
     ]
    },
    {
     "name": "stderr",
     "output_type": "stream",
     "text": [
      "Epoch [158/3000]: 100%|█████████████████████████████████████████████████████| 9/9 [00:00<00:00, 170.38it/s, loss=0.566]\n"
     ]
    },
    {
     "name": "stdout",
     "output_type": "stream",
     "text": [
      "Epoch [158/3000]: Train loss: 0.9424, Valid loss: 0.8998\n"
     ]
    },
    {
     "name": "stderr",
     "output_type": "stream",
     "text": [
      "Epoch [159/3000]: 100%|█████████████████████████████████████████████████████| 9/9 [00:00<00:00, 250.84it/s, loss=0.921]\n"
     ]
    },
    {
     "name": "stdout",
     "output_type": "stream",
     "text": [
      "Epoch [159/3000]: Train loss: 0.9001, Valid loss: 1.1613\n"
     ]
    },
    {
     "name": "stderr",
     "output_type": "stream",
     "text": [
      "Epoch [160/3000]: 100%|█████████████████████████████████████████████████████| 9/9 [00:00<00:00, 248.83it/s, loss=0.646]\n"
     ]
    },
    {
     "name": "stdout",
     "output_type": "stream",
     "text": [
      "Epoch [160/3000]: Train loss: 0.9070, Valid loss: 1.4483\n"
     ]
    },
    {
     "name": "stderr",
     "output_type": "stream",
     "text": [
      "Epoch [161/3000]: 100%|██████████████████████████████████████████████████████| 9/9 [00:00<00:00, 250.84it/s, loss=1.05]\n"
     ]
    },
    {
     "name": "stdout",
     "output_type": "stream",
     "text": [
      "Epoch [161/3000]: Train loss: 0.8664, Valid loss: 1.1722\n"
     ]
    },
    {
     "name": "stderr",
     "output_type": "stream",
     "text": [
      "Epoch [162/3000]: 100%|█████████████████████████████████████████████████████| 9/9 [00:00<00:00, 250.84it/s, loss=0.797]\n"
     ]
    },
    {
     "name": "stdout",
     "output_type": "stream",
     "text": [
      "Epoch [162/3000]: Train loss: 0.8756, Valid loss: 0.8264\n",
      "Saving model with loss 0.826...\n"
     ]
    },
    {
     "name": "stderr",
     "output_type": "stream",
     "text": [
      "Epoch [163/3000]: 100%|█████████████████████████████████████████████████████| 9/9 [00:00<00:00, 250.84it/s, loss=0.745]\n"
     ]
    },
    {
     "name": "stdout",
     "output_type": "stream",
     "text": [
      "Epoch [163/3000]: Train loss: 0.8775, Valid loss: 1.1821\n"
     ]
    },
    {
     "name": "stderr",
     "output_type": "stream",
     "text": [
      "Epoch [164/3000]: 100%|█████████████████████████████████████████████████████| 9/9 [00:00<00:00, 250.83it/s, loss=0.995]\n"
     ]
    },
    {
     "name": "stdout",
     "output_type": "stream",
     "text": [
      "Epoch [164/3000]: Train loss: 0.8957, Valid loss: 0.9024\n"
     ]
    },
    {
     "name": "stderr",
     "output_type": "stream",
     "text": [
      "Epoch [165/3000]: 100%|██████████████████████████████████████████████████████| 9/9 [00:00<00:00, 90.29it/s, loss=0.981]\n"
     ]
    },
    {
     "name": "stdout",
     "output_type": "stream",
     "text": [
      "Epoch [165/3000]: Train loss: 0.8627, Valid loss: 1.1196\n"
     ]
    },
    {
     "name": "stderr",
     "output_type": "stream",
     "text": [
      "Epoch [166/3000]: 100%|██████████████████████████████████████████████████████| 9/9 [00:00<00:00, 262.65it/s, loss=1.02]\n"
     ]
    },
    {
     "name": "stdout",
     "output_type": "stream",
     "text": [
      "Epoch [166/3000]: Train loss: 0.8287, Valid loss: 0.8958\n"
     ]
    },
    {
     "name": "stderr",
     "output_type": "stream",
     "text": [
      "Epoch [167/3000]: 100%|█████████████████████████████████████████████████████| 9/9 [00:00<00:00, 251.32it/s, loss=0.766]\n"
     ]
    },
    {
     "name": "stdout",
     "output_type": "stream",
     "text": [
      "Epoch [167/3000]: Train loss: 0.8575, Valid loss: 1.0461\n"
     ]
    },
    {
     "name": "stderr",
     "output_type": "stream",
     "text": [
      "Epoch [168/3000]: 100%|██████████████████████████████████████████████████████| 9/9 [00:00<00:00, 265.62it/s, loss=0.77]\n"
     ]
    },
    {
     "name": "stdout",
     "output_type": "stream",
     "text": [
      "Epoch [168/3000]: Train loss: 0.8895, Valid loss: 1.4437\n"
     ]
    },
    {
     "name": "stderr",
     "output_type": "stream",
     "text": [
      "Epoch [169/3000]: 100%|█████████████████████████████████████████████████████| 9/9 [00:00<00:00, 258.01it/s, loss=0.879]\n"
     ]
    },
    {
     "name": "stdout",
     "output_type": "stream",
     "text": [
      "Epoch [169/3000]: Train loss: 0.8479, Valid loss: 1.4666\n"
     ]
    },
    {
     "name": "stderr",
     "output_type": "stream",
     "text": [
      "Epoch [170/3000]: 100%|██████████████████████████████████████████████████████| 9/9 [00:00<00:00, 258.00it/s, loss=1.09]\n"
     ]
    },
    {
     "name": "stdout",
     "output_type": "stream",
     "text": [
      "Epoch [170/3000]: Train loss: 0.9221, Valid loss: 1.3886\n"
     ]
    },
    {
     "name": "stderr",
     "output_type": "stream",
     "text": [
      "Epoch [171/3000]: 100%|██████████████████████████████████████████████████████| 9/9 [00:00<00:00, 261.19it/s, loss=1.72]\n"
     ]
    },
    {
     "name": "stdout",
     "output_type": "stream",
     "text": [
      "Epoch [171/3000]: Train loss: 0.9374, Valid loss: 1.0561\n"
     ]
    },
    {
     "name": "stderr",
     "output_type": "stream",
     "text": [
      "Epoch [172/3000]: 100%|█████████████████████████████████████████████████████| 9/9 [00:00<00:00, 250.84it/s, loss=0.579]\n"
     ]
    },
    {
     "name": "stdout",
     "output_type": "stream",
     "text": [
      "Epoch [172/3000]: Train loss: 0.8464, Valid loss: 1.0617\n"
     ]
    },
    {
     "name": "stderr",
     "output_type": "stream",
     "text": [
      "Epoch [173/3000]: 100%|█████████████████████████████████████████████████████| 9/9 [00:00<00:00, 258.02it/s, loss=0.991]\n"
     ]
    },
    {
     "name": "stdout",
     "output_type": "stream",
     "text": [
      "Epoch [173/3000]: Train loss: 0.9915, Valid loss: 1.1476\n"
     ]
    },
    {
     "name": "stderr",
     "output_type": "stream",
     "text": [
      "Epoch [174/3000]: 100%|█████████████████████████████████████████████████████| 9/9 [00:00<00:00, 250.83it/s, loss=0.942]\n"
     ]
    },
    {
     "name": "stdout",
     "output_type": "stream",
     "text": [
      "Epoch [174/3000]: Train loss: 0.8731, Valid loss: 0.9568\n"
     ]
    },
    {
     "name": "stderr",
     "output_type": "stream",
     "text": [
      "Epoch [175/3000]: 100%|██████████████████████████████████████████████████████| 9/9 [00:00<00:00, 260.77it/s, loss=1.03]\n"
     ]
    },
    {
     "name": "stdout",
     "output_type": "stream",
     "text": [
      "Epoch [175/3000]: Train loss: 0.8543, Valid loss: 1.7030\n"
     ]
    },
    {
     "name": "stderr",
     "output_type": "stream",
     "text": [
      "Epoch [176/3000]: 100%|█████████████████████████████████████████████████████| 9/9 [00:00<00:00, 250.85it/s, loss=0.766]\n"
     ]
    },
    {
     "name": "stdout",
     "output_type": "stream",
     "text": [
      "Epoch [176/3000]: Train loss: 0.8457, Valid loss: 0.8715\n"
     ]
    },
    {
     "name": "stderr",
     "output_type": "stream",
     "text": [
      "Epoch [177/3000]: 100%|█████████████████████████████████████████████████████| 9/9 [00:00<00:00, 265.59it/s, loss=0.751]\n"
     ]
    },
    {
     "name": "stdout",
     "output_type": "stream",
     "text": [
      "Epoch [177/3000]: Train loss: 0.8623, Valid loss: 1.0201\n"
     ]
    },
    {
     "name": "stderr",
     "output_type": "stream",
     "text": [
      "Epoch [178/3000]: 100%|██████████████████████████████████████████████████████| 9/9 [00:00<00:00, 253.97it/s, loss=0.82]\n"
     ]
    },
    {
     "name": "stdout",
     "output_type": "stream",
     "text": [
      "Epoch [178/3000]: Train loss: 0.8252, Valid loss: 1.2442\n"
     ]
    },
    {
     "name": "stderr",
     "output_type": "stream",
     "text": [
      "Epoch [179/3000]: 100%|█████████████████████████████████████████████████████| 9/9 [00:00<00:00, 258.00it/s, loss=0.847]\n"
     ]
    },
    {
     "name": "stdout",
     "output_type": "stream",
     "text": [
      "Epoch [179/3000]: Train loss: 0.9001, Valid loss: 1.0943\n"
     ]
    },
    {
     "name": "stderr",
     "output_type": "stream",
     "text": [
      "Epoch [180/3000]: 100%|█████████████████████████████████████████████████████| 9/9 [00:00<00:00, 258.00it/s, loss=0.969]\n"
     ]
    },
    {
     "name": "stdout",
     "output_type": "stream",
     "text": [
      "Epoch [180/3000]: Train loss: 0.9351, Valid loss: 1.0259\n"
     ]
    },
    {
     "name": "stderr",
     "output_type": "stream",
     "text": [
      "Epoch [181/3000]: 100%|█████████████████████████████████████████████████████| 9/9 [00:00<00:00, 260.70it/s, loss=0.719]\n"
     ]
    },
    {
     "name": "stdout",
     "output_type": "stream",
     "text": [
      "Epoch [181/3000]: Train loss: 0.8479, Valid loss: 1.1776\n"
     ]
    },
    {
     "name": "stderr",
     "output_type": "stream",
     "text": [
      "Epoch [182/3000]: 100%|█████████████████████████████████████████████████████| 9/9 [00:00<00:00, 273.64it/s, loss=0.724]\n"
     ]
    },
    {
     "name": "stdout",
     "output_type": "stream",
     "text": [
      "Epoch [182/3000]: Train loss: 0.8452, Valid loss: 1.0586\n"
     ]
    },
    {
     "name": "stderr",
     "output_type": "stream",
     "text": [
      "Epoch [183/3000]: 100%|██████████████████████████████████████████████████████| 9/9 [00:00<00:00, 257.97it/s, loss=1.19]\n"
     ]
    },
    {
     "name": "stdout",
     "output_type": "stream",
     "text": [
      "Epoch [183/3000]: Train loss: 0.8413, Valid loss: 1.0177\n"
     ]
    },
    {
     "name": "stderr",
     "output_type": "stream",
     "text": [
      "Epoch [184/3000]: 100%|█████████████████████████████████████████████████████| 9/9 [00:00<00:00, 265.62it/s, loss=0.886]\n"
     ]
    },
    {
     "name": "stdout",
     "output_type": "stream",
     "text": [
      "Epoch [184/3000]: Train loss: 1.0016, Valid loss: 0.9934\n"
     ]
    },
    {
     "name": "stderr",
     "output_type": "stream",
     "text": [
      "Epoch [185/3000]: 100%|█████████████████████████████████████████████████████| 9/9 [00:00<00:00, 258.00it/s, loss=0.651]\n"
     ]
    },
    {
     "name": "stdout",
     "output_type": "stream",
     "text": [
      "Epoch [185/3000]: Train loss: 0.8472, Valid loss: 1.0004\n"
     ]
    },
    {
     "name": "stderr",
     "output_type": "stream",
     "text": [
      "Epoch [186/3000]: 100%|█████████████████████████████████████████████████████| 9/9 [00:00<00:00, 268.84it/s, loss=0.862]\n"
     ]
    },
    {
     "name": "stdout",
     "output_type": "stream",
     "text": [
      "Epoch [186/3000]: Train loss: 0.8658, Valid loss: 1.2041\n"
     ]
    },
    {
     "name": "stderr",
     "output_type": "stream",
     "text": [
      "Epoch [187/3000]: 100%|██████████████████████████████████████████████████████| 9/9 [00:00<00:00, 258.00it/s, loss=1.11]\n"
     ]
    },
    {
     "name": "stdout",
     "output_type": "stream",
     "text": [
      "Epoch [187/3000]: Train loss: 0.8540, Valid loss: 1.0472\n"
     ]
    },
    {
     "name": "stderr",
     "output_type": "stream",
     "text": [
      "Epoch [188/3000]: 100%|███████████████████████████████████████████████████████| 9/9 [00:00<00:00, 253.97it/s, loss=1.2]\n"
     ]
    },
    {
     "name": "stdout",
     "output_type": "stream",
     "text": [
      "Epoch [188/3000]: Train loss: 0.8689, Valid loss: 1.2694\n"
     ]
    },
    {
     "name": "stderr",
     "output_type": "stream",
     "text": [
      "Epoch [189/3000]: 100%|█████████████████████████████████████████████████████| 9/9 [00:00<00:00, 265.59it/s, loss=0.866]\n"
     ]
    },
    {
     "name": "stdout",
     "output_type": "stream",
     "text": [
      "Epoch [189/3000]: Train loss: 0.8613, Valid loss: 1.1177\n"
     ]
    },
    {
     "name": "stderr",
     "output_type": "stream",
     "text": [
      "Epoch [190/3000]: 100%|█████████████████████████████████████████████████████| 9/9 [00:00<00:00, 264.03it/s, loss=0.997]\n"
     ]
    },
    {
     "name": "stdout",
     "output_type": "stream",
     "text": [
      "Epoch [190/3000]: Train loss: 0.8800, Valid loss: 1.4581\n"
     ]
    },
    {
     "name": "stderr",
     "output_type": "stream",
     "text": [
      "Epoch [191/3000]: 100%|███████████████████████████████████████████████████████| 9/9 [00:00<00:00, 265.59it/s, loss=1.8]\n"
     ]
    },
    {
     "name": "stdout",
     "output_type": "stream",
     "text": [
      "Epoch [191/3000]: Train loss: 0.8594, Valid loss: 0.9988\n"
     ]
    },
    {
     "name": "stderr",
     "output_type": "stream",
     "text": [
      "Epoch [192/3000]: 100%|██████████████████████████████████████████████████████| 9/9 [00:00<00:00, 260.73it/s, loss=1.15]\n"
     ]
    },
    {
     "name": "stdout",
     "output_type": "stream",
     "text": [
      "Epoch [192/3000]: Train loss: 0.8499, Valid loss: 0.9908\n"
     ]
    },
    {
     "name": "stderr",
     "output_type": "stream",
     "text": [
      "Epoch [193/3000]: 100%|█████████████████████████████████████████████████████| 9/9 [00:00<00:00, 258.01it/s, loss=0.946]\n"
     ]
    },
    {
     "name": "stdout",
     "output_type": "stream",
     "text": [
      "Epoch [193/3000]: Train loss: 0.9184, Valid loss: 1.5941\n"
     ]
    },
    {
     "name": "stderr",
     "output_type": "stream",
     "text": [
      "Epoch [194/3000]: 100%|█████████████████████████████████████████████████████| 9/9 [00:00<00:00, 259.94it/s, loss=0.986]\n"
     ]
    },
    {
     "name": "stdout",
     "output_type": "stream",
     "text": [
      "Epoch [194/3000]: Train loss: 0.9037, Valid loss: 0.8997\n"
     ]
    },
    {
     "name": "stderr",
     "output_type": "stream",
     "text": [
      "Epoch [195/3000]: 100%|█████████████████████████████████████████████████████| 9/9 [00:00<00:00, 265.59it/s, loss=0.729]\n"
     ]
    },
    {
     "name": "stdout",
     "output_type": "stream",
     "text": [
      "Epoch [195/3000]: Train loss: 0.8648, Valid loss: 0.9366\n"
     ]
    },
    {
     "name": "stderr",
     "output_type": "stream",
     "text": [
      "Epoch [196/3000]: 100%|█████████████████████████████████████████████████████| 9/9 [00:00<00:00, 258.00it/s, loss=0.835]\n"
     ]
    },
    {
     "name": "stdout",
     "output_type": "stream",
     "text": [
      "Epoch [196/3000]: Train loss: 0.8267, Valid loss: 1.0724\n"
     ]
    },
    {
     "name": "stderr",
     "output_type": "stream",
     "text": [
      "Epoch [197/3000]: 100%|█████████████████████████████████████████████████████| 9/9 [00:00<00:00, 237.57it/s, loss=0.986]\n"
     ]
    },
    {
     "name": "stdout",
     "output_type": "stream",
     "text": [
      "Epoch [197/3000]: Train loss: 0.8894, Valid loss: 1.1390\n"
     ]
    },
    {
     "name": "stderr",
     "output_type": "stream",
     "text": [
      "Epoch [198/3000]: 100%|██████████████████████████████████████████████████████| 9/9 [00:00<00:00, 255.03it/s, loss=0.81]\n"
     ]
    },
    {
     "name": "stdout",
     "output_type": "stream",
     "text": [
      "Epoch [198/3000]: Train loss: 0.8598, Valid loss: 0.9825\n"
     ]
    },
    {
     "name": "stderr",
     "output_type": "stream",
     "text": [
      "Epoch [199/3000]: 100%|█████████████████████████████████████████████████████| 9/9 [00:00<00:00, 257.13it/s, loss=0.826]\n"
     ]
    },
    {
     "name": "stdout",
     "output_type": "stream",
     "text": [
      "Epoch [199/3000]: Train loss: 0.8962, Valid loss: 0.9926\n"
     ]
    },
    {
     "name": "stderr",
     "output_type": "stream",
     "text": [
      "Epoch [200/3000]: 100%|███████████████████████████████████████████████████████| 9/9 [00:00<00:00, 262.14it/s, loss=1.1]\n"
     ]
    },
    {
     "name": "stdout",
     "output_type": "stream",
     "text": [
      "Epoch [200/3000]: Train loss: 0.9468, Valid loss: 1.1966\n"
     ]
    },
    {
     "name": "stderr",
     "output_type": "stream",
     "text": [
      "Epoch [201/3000]: 100%|██████████████████████████████████████████████████████| 9/9 [00:00<00:00, 256.40it/s, loss=1.24]\n"
     ]
    },
    {
     "name": "stdout",
     "output_type": "stream",
     "text": [
      "Epoch [201/3000]: Train loss: 1.0029, Valid loss: 1.1965\n"
     ]
    },
    {
     "name": "stderr",
     "output_type": "stream",
     "text": [
      "Epoch [202/3000]: 100%|█████████████████████████████████████████████████████| 9/9 [00:00<00:00, 265.48it/s, loss=0.587]\n"
     ]
    },
    {
     "name": "stdout",
     "output_type": "stream",
     "text": [
      "Epoch [202/3000]: Train loss: 0.8244, Valid loss: 1.5277\n"
     ]
    },
    {
     "name": "stderr",
     "output_type": "stream",
     "text": [
      "Epoch [203/3000]: 100%|█████████████████████████████████████████████████████| 9/9 [00:00<00:00, 263.98it/s, loss=0.726]\n"
     ]
    },
    {
     "name": "stdout",
     "output_type": "stream",
     "text": [
      "Epoch [203/3000]: Train loss: 0.9284, Valid loss: 0.9090\n"
     ]
    },
    {
     "name": "stderr",
     "output_type": "stream",
     "text": [
      "Epoch [204/3000]: 100%|█████████████████████████████████████████████████████| 9/9 [00:00<00:00, 257.87it/s, loss=0.747]\n"
     ]
    },
    {
     "name": "stdout",
     "output_type": "stream",
     "text": [
      "Epoch [204/3000]: Train loss: 0.8918, Valid loss: 1.0440\n"
     ]
    },
    {
     "name": "stderr",
     "output_type": "stream",
     "text": [
      "Epoch [205/3000]: 100%|█████████████████████████████████████████████████████| 9/9 [00:00<00:00, 263.53it/s, loss=0.966]\n"
     ]
    },
    {
     "name": "stdout",
     "output_type": "stream",
     "text": [
      "Epoch [205/3000]: Train loss: 0.8296, Valid loss: 0.9195\n"
     ]
    },
    {
     "name": "stderr",
     "output_type": "stream",
     "text": [
      "Epoch [206/3000]: 100%|█████████████████████████████████████████████████████| 9/9 [00:00<00:00, 265.71it/s, loss=0.923]\n"
     ]
    },
    {
     "name": "stdout",
     "output_type": "stream",
     "text": [
      "Epoch [206/3000]: Train loss: 0.8363, Valid loss: 0.9533\n"
     ]
    },
    {
     "name": "stderr",
     "output_type": "stream",
     "text": [
      "Epoch [207/3000]: 100%|██████████████████████████████████████████████████████| 9/9 [00:00<00:00, 264.68it/s, loss=1.18]\n"
     ]
    },
    {
     "name": "stdout",
     "output_type": "stream",
     "text": [
      "Epoch [207/3000]: Train loss: 0.8252, Valid loss: 1.4705\n"
     ]
    },
    {
     "name": "stderr",
     "output_type": "stream",
     "text": [
      "Epoch [208/3000]: 100%|██████████████████████████████████████████████████████| 9/9 [00:00<00:00, 265.54it/s, loss=0.91]\n"
     ]
    },
    {
     "name": "stdout",
     "output_type": "stream",
     "text": [
      "Epoch [208/3000]: Train loss: 0.8996, Valid loss: 0.9632\n"
     ]
    },
    {
     "name": "stderr",
     "output_type": "stream",
     "text": [
      "Epoch [209/3000]: 100%|█████████████████████████████████████████████████████| 9/9 [00:00<00:00, 270.25it/s, loss=0.954]\n"
     ]
    },
    {
     "name": "stdout",
     "output_type": "stream",
     "text": [
      "Epoch [209/3000]: Train loss: 0.8335, Valid loss: 0.8966\n"
     ]
    },
    {
     "name": "stderr",
     "output_type": "stream",
     "text": [
      "Epoch [210/3000]: 100%|█████████████████████████████████████████████████████| 9/9 [00:00<00:00, 273.63it/s, loss=0.822]\n"
     ]
    },
    {
     "name": "stdout",
     "output_type": "stream",
     "text": [
      "Epoch [210/3000]: Train loss: 0.9135, Valid loss: 1.0206\n"
     ]
    },
    {
     "name": "stderr",
     "output_type": "stream",
     "text": [
      "Epoch [211/3000]: 100%|██████████████████████████████████████████████████████| 9/9 [00:00<00:00, 262.41it/s, loss=1.13]\n"
     ]
    },
    {
     "name": "stdout",
     "output_type": "stream",
     "text": [
      "Epoch [211/3000]: Train loss: 0.8957, Valid loss: 1.3955\n"
     ]
    },
    {
     "name": "stderr",
     "output_type": "stream",
     "text": [
      "Epoch [212/3000]: 100%|█████████████████████████████████████████████████████| 9/9 [00:00<00:00, 250.83it/s, loss=0.857]\n"
     ]
    },
    {
     "name": "stdout",
     "output_type": "stream",
     "text": [
      "Epoch [212/3000]: Train loss: 0.9712, Valid loss: 0.9508\n"
     ]
    },
    {
     "name": "stderr",
     "output_type": "stream",
     "text": [
      "Epoch [213/3000]: 100%|█████████████████████████████████████████████████████| 9/9 [00:00<00:00, 265.56it/s, loss=0.669]\n"
     ]
    },
    {
     "name": "stdout",
     "output_type": "stream",
     "text": [
      "Epoch [213/3000]: Train loss: 0.8888, Valid loss: 1.0434\n"
     ]
    },
    {
     "name": "stderr",
     "output_type": "stream",
     "text": [
      "Epoch [214/3000]: 100%|█████████████████████████████████████████████████████| 9/9 [00:00<00:00, 265.59it/s, loss=0.561]\n"
     ]
    },
    {
     "name": "stdout",
     "output_type": "stream",
     "text": [
      "Epoch [214/3000]: Train loss: 0.8778, Valid loss: 0.9456\n"
     ]
    },
    {
     "name": "stderr",
     "output_type": "stream",
     "text": [
      "Epoch [215/3000]: 100%|█████████████████████████████████████████████████████| 9/9 [00:00<00:00, 255.59it/s, loss=0.928]\n"
     ]
    },
    {
     "name": "stdout",
     "output_type": "stream",
     "text": [
      "Epoch [215/3000]: Train loss: 0.8159, Valid loss: 1.2225\n"
     ]
    },
    {
     "name": "stderr",
     "output_type": "stream",
     "text": [
      "Epoch [216/3000]: 100%|█████████████████████████████████████████████████████| 9/9 [00:00<00:00, 258.00it/s, loss=0.653]\n"
     ]
    },
    {
     "name": "stdout",
     "output_type": "stream",
     "text": [
      "Epoch [216/3000]: Train loss: 0.8172, Valid loss: 0.9905\n"
     ]
    },
    {
     "name": "stderr",
     "output_type": "stream",
     "text": [
      "Epoch [217/3000]: 100%|█████████████████████████████████████████████████████| 9/9 [00:00<00:00, 258.00it/s, loss=0.751]\n"
     ]
    },
    {
     "name": "stdout",
     "output_type": "stream",
     "text": [
      "Epoch [217/3000]: Train loss: 0.8434, Valid loss: 0.8954\n"
     ]
    },
    {
     "name": "stderr",
     "output_type": "stream",
     "text": [
      "Epoch [218/3000]: 100%|██████████████████████████████████████████████████████| 9/9 [00:00<00:00, 257.68it/s, loss=0.77]\n"
     ]
    },
    {
     "name": "stdout",
     "output_type": "stream",
     "text": [
      "Epoch [218/3000]: Train loss: 0.8798, Valid loss: 0.9470\n"
     ]
    },
    {
     "name": "stderr",
     "output_type": "stream",
     "text": [
      "Epoch [219/3000]: 100%|██████████████████████████████████████████████████████| 9/9 [00:00<00:00, 87.51it/s, loss=0.729]\n"
     ]
    },
    {
     "name": "stdout",
     "output_type": "stream",
     "text": [
      "Epoch [219/3000]: Train loss: 0.8329, Valid loss: 1.4381\n"
     ]
    },
    {
     "name": "stderr",
     "output_type": "stream",
     "text": [
      "Epoch [220/3000]: 100%|██████████████████████████████████████████████████████| 9/9 [00:00<00:00, 261.71it/s, loss=1.29]\n"
     ]
    },
    {
     "name": "stdout",
     "output_type": "stream",
     "text": [
      "Epoch [220/3000]: Train loss: 0.8870, Valid loss: 0.9006\n"
     ]
    },
    {
     "name": "stderr",
     "output_type": "stream",
     "text": [
      "Epoch [221/3000]: 100%|█████████████████████████████████████████████████████| 9/9 [00:00<00:00, 262.02it/s, loss=0.734]\n"
     ]
    },
    {
     "name": "stdout",
     "output_type": "stream",
     "text": [
      "Epoch [221/3000]: Train loss: 0.8277, Valid loss: 1.1948\n"
     ]
    },
    {
     "name": "stderr",
     "output_type": "stream",
     "text": [
      "Epoch [222/3000]: 100%|█████████████████████████████████████████████████████| 9/9 [00:00<00:00, 258.53it/s, loss=0.976]\n"
     ]
    },
    {
     "name": "stdout",
     "output_type": "stream",
     "text": [
      "Epoch [222/3000]: Train loss: 0.8587, Valid loss: 1.2218\n"
     ]
    },
    {
     "name": "stderr",
     "output_type": "stream",
     "text": [
      "Epoch [223/3000]: 100%|█████████████████████████████████████████████████████| 9/9 [00:00<00:00, 253.78it/s, loss=0.797]\n"
     ]
    },
    {
     "name": "stdout",
     "output_type": "stream",
     "text": [
      "Epoch [223/3000]: Train loss: 0.8673, Valid loss: 1.1263\n"
     ]
    },
    {
     "name": "stderr",
     "output_type": "stream",
     "text": [
      "Epoch [224/3000]: 100%|█████████████████████████████████████████████████████| 9/9 [00:00<00:00, 273.64it/s, loss=0.785]\n"
     ]
    },
    {
     "name": "stdout",
     "output_type": "stream",
     "text": [
      "Epoch [224/3000]: Train loss: 0.8811, Valid loss: 1.0535\n"
     ]
    },
    {
     "name": "stderr",
     "output_type": "stream",
     "text": [
      "Epoch [225/3000]: 100%|█████████████████████████████████████████████████████████| 9/9 [00:00<00:00, 248.86it/s, loss=1]\n"
     ]
    },
    {
     "name": "stdout",
     "output_type": "stream",
     "text": [
      "Epoch [225/3000]: Train loss: 0.8963, Valid loss: 0.8136\n",
      "Saving model with loss 0.814...\n"
     ]
    },
    {
     "name": "stderr",
     "output_type": "stream",
     "text": [
      "Epoch [226/3000]: 100%|█████████████████████████████████████████████████████| 9/9 [00:00<00:00, 258.00it/s, loss=0.881]\n"
     ]
    },
    {
     "name": "stdout",
     "output_type": "stream",
     "text": [
      "Epoch [226/3000]: Train loss: 0.8493, Valid loss: 1.1621\n"
     ]
    },
    {
     "name": "stderr",
     "output_type": "stream",
     "text": [
      "Epoch [227/3000]: 100%|█████████████████████████████████████████████████████| 9/9 [00:00<00:00, 257.70it/s, loss=0.904]\n"
     ]
    },
    {
     "name": "stdout",
     "output_type": "stream",
     "text": [
      "Epoch [227/3000]: Train loss: 0.8543, Valid loss: 0.9596\n"
     ]
    },
    {
     "name": "stderr",
     "output_type": "stream",
     "text": [
      "Epoch [228/3000]: 100%|█████████████████████████████████████████████████████| 9/9 [00:00<00:00, 270.11it/s, loss=0.933]\n"
     ]
    },
    {
     "name": "stdout",
     "output_type": "stream",
     "text": [
      "Epoch [228/3000]: Train loss: 0.8341, Valid loss: 1.1754\n"
     ]
    },
    {
     "name": "stderr",
     "output_type": "stream",
     "text": [
      "Epoch [229/3000]: 100%|█████████████████████████████████████████████████████| 9/9 [00:00<00:00, 231.52it/s, loss=0.963]\n"
     ]
    },
    {
     "name": "stdout",
     "output_type": "stream",
     "text": [
      "Epoch [229/3000]: Train loss: 0.8601, Valid loss: 1.2083\n"
     ]
    },
    {
     "name": "stderr",
     "output_type": "stream",
     "text": [
      "Epoch [230/3000]: 100%|█████████████████████████████████████████████████████| 9/9 [00:00<00:00, 194.03it/s, loss=0.674]\n"
     ]
    },
    {
     "name": "stdout",
     "output_type": "stream",
     "text": [
      "Epoch [230/3000]: Train loss: 0.8234, Valid loss: 0.8299\n"
     ]
    },
    {
     "name": "stderr",
     "output_type": "stream",
     "text": [
      "Epoch [231/3000]: 100%|█████████████████████████████████████████████████████| 9/9 [00:00<00:00, 244.06it/s, loss=0.714]\n"
     ]
    },
    {
     "name": "stdout",
     "output_type": "stream",
     "text": [
      "Epoch [231/3000]: Train loss: 0.8935, Valid loss: 1.4845\n"
     ]
    },
    {
     "name": "stderr",
     "output_type": "stream",
     "text": [
      "Epoch [232/3000]: 100%|██████████████████████████████████████████████████████| 9/9 [00:00<00:00, 273.64it/s, loss=1.32]\n"
     ]
    },
    {
     "name": "stdout",
     "output_type": "stream",
     "text": [
      "Epoch [232/3000]: Train loss: 0.8922, Valid loss: 1.0937\n"
     ]
    },
    {
     "name": "stderr",
     "output_type": "stream",
     "text": [
      "Epoch [233/3000]: 100%|██████████████████████████████████████████████████████| 9/9 [00:00<00:00, 265.59it/s, loss=1.05]\n"
     ]
    },
    {
     "name": "stdout",
     "output_type": "stream",
     "text": [
      "Epoch [233/3000]: Train loss: 0.8563, Valid loss: 1.0346\n"
     ]
    },
    {
     "name": "stderr",
     "output_type": "stream",
     "text": [
      "Epoch [234/3000]: 100%|█████████████████████████████████████████████████████| 9/9 [00:00<00:00, 258.00it/s, loss=0.762]\n"
     ]
    },
    {
     "name": "stdout",
     "output_type": "stream",
     "text": [
      "Epoch [234/3000]: Train loss: 0.9988, Valid loss: 1.2135\n"
     ]
    },
    {
     "name": "stderr",
     "output_type": "stream",
     "text": [
      "Epoch [235/3000]: 100%|█████████████████████████████████████████████████████| 9/9 [00:00<00:00, 245.59it/s, loss=0.802]\n"
     ]
    },
    {
     "name": "stdout",
     "output_type": "stream",
     "text": [
      "Epoch [235/3000]: Train loss: 0.8591, Valid loss: 1.0486\n"
     ]
    },
    {
     "name": "stderr",
     "output_type": "stream",
     "text": [
      "Epoch [236/3000]: 100%|██████████████████████████████████████████████████████| 9/9 [00:00<00:00, 258.00it/s, loss=0.79]\n"
     ]
    },
    {
     "name": "stdout",
     "output_type": "stream",
     "text": [
      "Epoch [236/3000]: Train loss: 0.8563, Valid loss: 1.1787\n"
     ]
    },
    {
     "name": "stderr",
     "output_type": "stream",
     "text": [
      "Epoch [237/3000]: 100%|██████████████████████████████████████████████████████| 9/9 [00:00<00:00, 228.13it/s, loss=1.02]\n"
     ]
    },
    {
     "name": "stdout",
     "output_type": "stream",
     "text": [
      "Epoch [237/3000]: Train loss: 0.8896, Valid loss: 1.1287\n"
     ]
    },
    {
     "name": "stderr",
     "output_type": "stream",
     "text": [
      "Epoch [238/3000]: 100%|█████████████████████████████████████████████████████| 9/9 [00:00<00:00, 244.05it/s, loss=0.721]\n"
     ]
    },
    {
     "name": "stdout",
     "output_type": "stream",
     "text": [
      "Epoch [238/3000]: Train loss: 0.8660, Valid loss: 0.8675\n"
     ]
    },
    {
     "name": "stderr",
     "output_type": "stream",
     "text": [
      "Epoch [239/3000]: 100%|█████████████████████████████████████████████████████| 9/9 [00:00<00:00, 259.44it/s, loss=0.805]\n"
     ]
    },
    {
     "name": "stdout",
     "output_type": "stream",
     "text": [
      "Epoch [239/3000]: Train loss: 0.8940, Valid loss: 1.2692\n"
     ]
    },
    {
     "name": "stderr",
     "output_type": "stream",
     "text": [
      "Epoch [240/3000]: 100%|█████████████████████████████████████████████████████| 9/9 [00:00<00:00, 263.39it/s, loss=0.688]\n"
     ]
    },
    {
     "name": "stdout",
     "output_type": "stream",
     "text": [
      "Epoch [240/3000]: Train loss: 0.8308, Valid loss: 1.0344\n"
     ]
    },
    {
     "name": "stderr",
     "output_type": "stream",
     "text": [
      "Epoch [241/3000]: 100%|█████████████████████████████████████████████████████| 9/9 [00:00<00:00, 225.75it/s, loss=0.749]\n"
     ]
    },
    {
     "name": "stdout",
     "output_type": "stream",
     "text": [
      "Epoch [241/3000]: Train loss: 0.8235, Valid loss: 1.3096\n"
     ]
    },
    {
     "name": "stderr",
     "output_type": "stream",
     "text": [
      "Epoch [242/3000]: 100%|█████████████████████████████████████████████████████| 9/9 [00:00<00:00, 243.96it/s, loss=0.917]\n"
     ]
    },
    {
     "name": "stdout",
     "output_type": "stream",
     "text": [
      "Epoch [242/3000]: Train loss: 0.8153, Valid loss: 1.0528\n"
     ]
    },
    {
     "name": "stderr",
     "output_type": "stream",
     "text": [
      "Epoch [243/3000]: 100%|█████████████████████████████████████████████████████| 9/9 [00:00<00:00, 247.86it/s, loss=0.949]\n"
     ]
    },
    {
     "name": "stdout",
     "output_type": "stream",
     "text": [
      "Epoch [243/3000]: Train loss: 0.8072, Valid loss: 1.0406\n"
     ]
    },
    {
     "name": "stderr",
     "output_type": "stream",
     "text": [
      "Epoch [244/3000]: 100%|█████████████████████████████████████████████████████| 9/9 [00:00<00:00, 245.12it/s, loss=0.857]\n"
     ]
    },
    {
     "name": "stdout",
     "output_type": "stream",
     "text": [
      "Epoch [244/3000]: Train loss: 0.8197, Valid loss: 0.9419\n"
     ]
    },
    {
     "name": "stderr",
     "output_type": "stream",
     "text": [
      "Epoch [245/3000]: 100%|█████████████████████████████████████████████████████| 9/9 [00:00<00:00, 240.50it/s, loss=0.665]\n"
     ]
    },
    {
     "name": "stdout",
     "output_type": "stream",
     "text": [
      "Epoch [245/3000]: Train loss: 0.8444, Valid loss: 1.0582\n"
     ]
    },
    {
     "name": "stderr",
     "output_type": "stream",
     "text": [
      "Epoch [246/3000]: 100%|█████████████████████████████████████████████████████| 9/9 [00:00<00:00, 244.06it/s, loss=0.875]\n"
     ]
    },
    {
     "name": "stdout",
     "output_type": "stream",
     "text": [
      "Epoch [246/3000]: Train loss: 0.8252, Valid loss: 1.0623\n"
     ]
    },
    {
     "name": "stderr",
     "output_type": "stream",
     "text": [
      "Epoch [247/3000]: 100%|█████████████████████████████████████████████████████| 9/9 [00:00<00:00, 244.06it/s, loss=0.766]\n"
     ]
    },
    {
     "name": "stdout",
     "output_type": "stream",
     "text": [
      "Epoch [247/3000]: Train loss: 0.8602, Valid loss: 1.1040\n"
     ]
    },
    {
     "name": "stderr",
     "output_type": "stream",
     "text": [
      "Epoch [248/3000]: 100%|█████████████████████████████████████████████████████| 9/9 [00:00<00:00, 237.20it/s, loss=0.942]\n"
     ]
    },
    {
     "name": "stdout",
     "output_type": "stream",
     "text": [
      "Epoch [248/3000]: Train loss: 0.9174, Valid loss: 0.9613\n"
     ]
    },
    {
     "name": "stderr",
     "output_type": "stream",
     "text": [
      "Epoch [249/3000]: 100%|█████████████████████████████████████████████████████| 9/9 [00:00<00:00, 258.00it/s, loss=0.697]\n"
     ]
    },
    {
     "name": "stdout",
     "output_type": "stream",
     "text": [
      "Epoch [249/3000]: Train loss: 0.8299, Valid loss: 1.2402\n"
     ]
    },
    {
     "name": "stderr",
     "output_type": "stream",
     "text": [
      "Epoch [250/3000]: 100%|██████████████████████████████████████████████████████| 9/9 [00:00<00:00, 250.46it/s, loss=0.72]\n"
     ]
    },
    {
     "name": "stdout",
     "output_type": "stream",
     "text": [
      "Epoch [250/3000]: Train loss: 0.8828, Valid loss: 1.0119\n"
     ]
    },
    {
     "name": "stderr",
     "output_type": "stream",
     "text": [
      "Epoch [251/3000]: 100%|█████████████████████████████████████████████████████| 9/9 [00:00<00:00, 250.39it/s, loss=0.765]\n"
     ]
    },
    {
     "name": "stdout",
     "output_type": "stream",
     "text": [
      "Epoch [251/3000]: Train loss: 0.9335, Valid loss: 1.0943\n"
     ]
    },
    {
     "name": "stderr",
     "output_type": "stream",
     "text": [
      "Epoch [252/3000]: 100%|█████████████████████████████████████████████████████| 9/9 [00:00<00:00, 258.00it/s, loss=0.844]\n"
     ]
    },
    {
     "name": "stdout",
     "output_type": "stream",
     "text": [
      "Epoch [252/3000]: Train loss: 0.8864, Valid loss: 1.0175\n"
     ]
    },
    {
     "name": "stderr",
     "output_type": "stream",
     "text": [
      "Epoch [253/3000]: 100%|█████████████████████████████████████████████████████| 9/9 [00:00<00:00, 257.67it/s, loss=0.678]\n"
     ]
    },
    {
     "name": "stdout",
     "output_type": "stream",
     "text": [
      "Epoch [253/3000]: Train loss: 0.8203, Valid loss: 1.1650\n"
     ]
    },
    {
     "name": "stderr",
     "output_type": "stream",
     "text": [
      "Epoch [254/3000]: 100%|█████████████████████████████████████████████████████| 9/9 [00:00<00:00, 250.84it/s, loss=0.856]\n"
     ]
    },
    {
     "name": "stdout",
     "output_type": "stream",
     "text": [
      "Epoch [254/3000]: Train loss: 0.8187, Valid loss: 1.0237\n"
     ]
    },
    {
     "name": "stderr",
     "output_type": "stream",
     "text": [
      "Epoch [255/3000]: 100%|██████████████████████████████████████████████████████| 9/9 [00:00<00:00, 258.00it/s, loss=1.13]\n"
     ]
    },
    {
     "name": "stdout",
     "output_type": "stream",
     "text": [
      "Epoch [255/3000]: Train loss: 0.8239, Valid loss: 1.2312\n"
     ]
    },
    {
     "name": "stderr",
     "output_type": "stream",
     "text": [
      "Epoch [256/3000]: 100%|█████████████████████████████████████████████████████| 9/9 [00:00<00:00, 250.51it/s, loss=0.928]\n"
     ]
    },
    {
     "name": "stdout",
     "output_type": "stream",
     "text": [
      "Epoch [256/3000]: Train loss: 0.8265, Valid loss: 1.2068\n"
     ]
    },
    {
     "name": "stderr",
     "output_type": "stream",
     "text": [
      "Epoch [257/3000]: 100%|██████████████████████████████████████████████████████| 9/9 [00:00<00:00, 250.84it/s, loss=1.04]\n"
     ]
    },
    {
     "name": "stdout",
     "output_type": "stream",
     "text": [
      "Epoch [257/3000]: Train loss: 0.8684, Valid loss: 1.2052\n"
     ]
    },
    {
     "name": "stderr",
     "output_type": "stream",
     "text": [
      "Epoch [258/3000]: 100%|█████████████████████████████████████████████████████| 9/9 [00:00<00:00, 273.30it/s, loss=0.784]\n"
     ]
    },
    {
     "name": "stdout",
     "output_type": "stream",
     "text": [
      "Epoch [258/3000]: Train loss: 0.8972, Valid loss: 1.1936\n"
     ]
    },
    {
     "name": "stderr",
     "output_type": "stream",
     "text": [
      "Epoch [259/3000]: 100%|██████████████████████████████████████████████████████| 9/9 [00:00<00:00, 231.47it/s, loss=1.03]\n"
     ]
    },
    {
     "name": "stdout",
     "output_type": "stream",
     "text": [
      "Epoch [259/3000]: Train loss: 0.8201, Valid loss: 1.0994\n"
     ]
    },
    {
     "name": "stderr",
     "output_type": "stream",
     "text": [
      "Epoch [260/3000]: 100%|█████████████████████████████████████████████████████| 9/9 [00:00<00:00, 257.75it/s, loss=0.901]\n"
     ]
    },
    {
     "name": "stdout",
     "output_type": "stream",
     "text": [
      "Epoch [260/3000]: Train loss: 0.9245, Valid loss: 1.2529\n"
     ]
    },
    {
     "name": "stderr",
     "output_type": "stream",
     "text": [
      "Epoch [261/3000]: 100%|█████████████████████████████████████████████████████| 9/9 [00:00<00:00, 250.94it/s, loss=0.663]\n"
     ]
    },
    {
     "name": "stdout",
     "output_type": "stream",
     "text": [
      "Epoch [261/3000]: Train loss: 0.8218, Valid loss: 1.2122\n"
     ]
    },
    {
     "name": "stderr",
     "output_type": "stream",
     "text": [
      "Epoch [262/3000]: 100%|█████████████████████████████████████████████████████| 9/9 [00:00<00:00, 250.74it/s, loss=0.858]\n"
     ]
    },
    {
     "name": "stdout",
     "output_type": "stream",
     "text": [
      "Epoch [262/3000]: Train loss: 0.8128, Valid loss: 1.3671\n"
     ]
    },
    {
     "name": "stderr",
     "output_type": "stream",
     "text": [
      "Epoch [263/3000]: 100%|██████████████████████████████████████████████████████| 9/9 [00:00<00:00, 192.15it/s, loss=1.36]\n"
     ]
    },
    {
     "name": "stdout",
     "output_type": "stream",
     "text": [
      "Epoch [263/3000]: Train loss: 0.9698, Valid loss: 0.8859\n"
     ]
    },
    {
     "name": "stderr",
     "output_type": "stream",
     "text": [
      "Epoch [264/3000]: 100%|██████████████████████████████████████████████████████| 9/9 [00:00<00:00, 218.76it/s, loss=0.65]\n"
     ]
    },
    {
     "name": "stdout",
     "output_type": "stream",
     "text": [
      "Epoch [264/3000]: Train loss: 0.8428, Valid loss: 0.9001\n"
     ]
    },
    {
     "name": "stderr",
     "output_type": "stream",
     "text": [
      "Epoch [265/3000]: 100%|█████████████████████████████████████████████████████| 9/9 [00:00<00:00, 265.39it/s, loss=0.945]\n"
     ]
    },
    {
     "name": "stdout",
     "output_type": "stream",
     "text": [
      "Epoch [265/3000]: Train loss: 0.8065, Valid loss: 1.0626\n"
     ]
    },
    {
     "name": "stderr",
     "output_type": "stream",
     "text": [
      "Epoch [266/3000]: 100%|█████████████████████████████████████████████████████| 9/9 [00:00<00:00, 258.01it/s, loss=0.654]\n"
     ]
    },
    {
     "name": "stdout",
     "output_type": "stream",
     "text": [
      "Epoch [266/3000]: Train loss: 0.8588, Valid loss: 0.9481\n"
     ]
    },
    {
     "name": "stderr",
     "output_type": "stream",
     "text": [
      "Epoch [267/3000]: 100%|█████████████████████████████████████████████████████| 9/9 [00:00<00:00, 258.01it/s, loss=0.822]\n"
     ]
    },
    {
     "name": "stdout",
     "output_type": "stream",
     "text": [
      "Epoch [267/3000]: Train loss: 0.8858, Valid loss: 1.0081\n"
     ]
    },
    {
     "name": "stderr",
     "output_type": "stream",
     "text": [
      "Epoch [268/3000]: 100%|█████████████████████████████████████████████████████| 9/9 [00:00<00:00, 267.78it/s, loss=0.757]\n"
     ]
    },
    {
     "name": "stdout",
     "output_type": "stream",
     "text": [
      "Epoch [268/3000]: Train loss: 0.8417, Valid loss: 1.0944\n"
     ]
    },
    {
     "name": "stderr",
     "output_type": "stream",
     "text": [
      "Epoch [269/3000]: 100%|██████████████████████████████████████████████████████| 9/9 [00:00<00:00, 264.11it/s, loss=0.89]\n"
     ]
    },
    {
     "name": "stdout",
     "output_type": "stream",
     "text": [
      "Epoch [269/3000]: Train loss: 0.8258, Valid loss: 1.2813\n"
     ]
    },
    {
     "name": "stderr",
     "output_type": "stream",
     "text": [
      "Epoch [270/3000]: 100%|█████████████████████████████████████████████████████| 9/9 [00:00<00:00, 260.94it/s, loss=0.752]\n"
     ]
    },
    {
     "name": "stdout",
     "output_type": "stream",
     "text": [
      "Epoch [270/3000]: Train loss: 0.8602, Valid loss: 0.9968\n"
     ]
    },
    {
     "name": "stderr",
     "output_type": "stream",
     "text": [
      "Epoch [271/3000]: 100%|█████████████████████████████████████████████████████| 9/9 [00:00<00:00, 268.48it/s, loss=0.675]\n"
     ]
    },
    {
     "name": "stdout",
     "output_type": "stream",
     "text": [
      "Epoch [271/3000]: Train loss: 0.8701, Valid loss: 0.9204\n"
     ]
    },
    {
     "name": "stderr",
     "output_type": "stream",
     "text": [
      "Epoch [272/3000]: 100%|█████████████████████████████████████████████████████| 9/9 [00:00<00:00, 258.18it/s, loss=0.801]\n"
     ]
    },
    {
     "name": "stdout",
     "output_type": "stream",
     "text": [
      "Epoch [272/3000]: Train loss: 0.8246, Valid loss: 0.9130\n"
     ]
    },
    {
     "name": "stderr",
     "output_type": "stream",
     "text": [
      "Epoch [273/3000]: 100%|██████████████████████████████████████████████████████| 9/9 [00:00<00:00, 83.27it/s, loss=0.608]\n"
     ]
    },
    {
     "name": "stdout",
     "output_type": "stream",
     "text": [
      "Epoch [273/3000]: Train loss: 0.9023, Valid loss: 1.3209\n"
     ]
    },
    {
     "name": "stderr",
     "output_type": "stream",
     "text": [
      "Epoch [274/3000]: 100%|█████████████████████████████████████████████████████| 9/9 [00:00<00:00, 265.59it/s, loss=0.841]\n"
     ]
    },
    {
     "name": "stdout",
     "output_type": "stream",
     "text": [
      "Epoch [274/3000]: Train loss: 0.8280, Valid loss: 1.2113\n"
     ]
    },
    {
     "name": "stderr",
     "output_type": "stream",
     "text": [
      "Epoch [275/3000]: 100%|█████████████████████████████████████████████████████| 9/9 [00:00<00:00, 265.87it/s, loss=0.952]\n"
     ]
    },
    {
     "name": "stdout",
     "output_type": "stream",
     "text": [
      "Epoch [275/3000]: Train loss: 0.8328, Valid loss: 1.3166\n"
     ]
    },
    {
     "name": "stderr",
     "output_type": "stream",
     "text": [
      "Epoch [276/3000]: 100%|█████████████████████████████████████████████████████| 9/9 [00:00<00:00, 253.40it/s, loss=0.878]\n"
     ]
    },
    {
     "name": "stdout",
     "output_type": "stream",
     "text": [
      "Epoch [276/3000]: Train loss: 0.8031, Valid loss: 0.9399\n"
     ]
    },
    {
     "name": "stderr",
     "output_type": "stream",
     "text": [
      "Epoch [277/3000]: 100%|█████████████████████████████████████████████████████| 9/9 [00:00<00:00, 244.06it/s, loss=0.622]\n"
     ]
    },
    {
     "name": "stdout",
     "output_type": "stream",
     "text": [
      "Epoch [277/3000]: Train loss: 0.8137, Valid loss: 1.2878\n"
     ]
    },
    {
     "name": "stderr",
     "output_type": "stream",
     "text": [
      "Epoch [278/3000]: 100%|█████████████████████████████████████████████████████| 9/9 [00:00<00:00, 246.28it/s, loss=0.822]\n"
     ]
    },
    {
     "name": "stdout",
     "output_type": "stream",
     "text": [
      "Epoch [278/3000]: Train loss: 0.8846, Valid loss: 1.0782\n"
     ]
    },
    {
     "name": "stderr",
     "output_type": "stream",
     "text": [
      "Epoch [279/3000]: 100%|█████████████████████████████████████████████████████| 9/9 [00:00<00:00, 244.06it/s, loss=0.613]\n"
     ]
    },
    {
     "name": "stdout",
     "output_type": "stream",
     "text": [
      "Epoch [279/3000]: Train loss: 0.8075, Valid loss: 1.1421\n"
     ]
    },
    {
     "name": "stderr",
     "output_type": "stream",
     "text": [
      "Epoch [280/3000]: 100%|██████████████████████████████████████████████████████| 9/9 [00:00<00:00, 246.53it/s, loss=1.05]\n"
     ]
    },
    {
     "name": "stdout",
     "output_type": "stream",
     "text": [
      "Epoch [280/3000]: Train loss: 0.8626, Valid loss: 1.1118\n"
     ]
    },
    {
     "name": "stderr",
     "output_type": "stream",
     "text": [
      "Epoch [281/3000]: 100%|█████████████████████████████████████████████████████| 9/9 [00:00<00:00, 244.06it/s, loss=0.907]\n"
     ]
    },
    {
     "name": "stdout",
     "output_type": "stream",
     "text": [
      "Epoch [281/3000]: Train loss: 0.8131, Valid loss: 0.8571\n"
     ]
    },
    {
     "name": "stderr",
     "output_type": "stream",
     "text": [
      "Epoch [282/3000]: 100%|█████████████████████████████████████████████████████| 9/9 [00:00<00:00, 252.17it/s, loss=0.926]\n"
     ]
    },
    {
     "name": "stdout",
     "output_type": "stream",
     "text": [
      "Epoch [282/3000]: Train loss: 0.8290, Valid loss: 1.0218\n"
     ]
    },
    {
     "name": "stderr",
     "output_type": "stream",
     "text": [
      "Epoch [283/3000]: 100%|█████████████████████████████████████████████████████| 9/9 [00:00<00:00, 259.07it/s, loss=0.874]\n"
     ]
    },
    {
     "name": "stdout",
     "output_type": "stream",
     "text": [
      "Epoch [283/3000]: Train loss: 0.8625, Valid loss: 0.9783\n"
     ]
    },
    {
     "name": "stderr",
     "output_type": "stream",
     "text": [
      "Epoch [284/3000]: 100%|█████████████████████████████████████████████████████| 9/9 [00:00<00:00, 273.64it/s, loss=0.786]\n"
     ]
    },
    {
     "name": "stdout",
     "output_type": "stream",
     "text": [
      "Epoch [284/3000]: Train loss: 0.9621, Valid loss: 0.9551\n"
     ]
    },
    {
     "name": "stderr",
     "output_type": "stream",
     "text": [
      "Epoch [285/3000]: 100%|███████████████████████████████████████████████████████| 9/9 [00:00<00:00, 273.66it/s, loss=1.1]\n"
     ]
    },
    {
     "name": "stdout",
     "output_type": "stream",
     "text": [
      "Epoch [285/3000]: Train loss: 0.8597, Valid loss: 1.0564\n"
     ]
    },
    {
     "name": "stderr",
     "output_type": "stream",
     "text": [
      "Epoch [286/3000]: 100%|█████████████████████████████████████████████████████| 9/9 [00:00<00:00, 258.00it/s, loss=0.892]\n"
     ]
    },
    {
     "name": "stdout",
     "output_type": "stream",
     "text": [
      "Epoch [286/3000]: Train loss: 0.8744, Valid loss: 0.9625\n"
     ]
    },
    {
     "name": "stderr",
     "output_type": "stream",
     "text": [
      "Epoch [287/3000]: 100%|██████████████████████████████████████████████████████| 9/9 [00:00<00:00, 180.85it/s, loss=1.43]\n"
     ]
    },
    {
     "name": "stdout",
     "output_type": "stream",
     "text": [
      "Epoch [287/3000]: Train loss: 0.9575, Valid loss: 1.1569\n"
     ]
    },
    {
     "name": "stderr",
     "output_type": "stream",
     "text": [
      "Epoch [288/3000]: 100%|█████████████████████████████████████████████████████| 9/9 [00:00<00:00, 265.59it/s, loss=0.579]\n"
     ]
    },
    {
     "name": "stdout",
     "output_type": "stream",
     "text": [
      "Epoch [288/3000]: Train loss: 0.7915, Valid loss: 1.0505\n"
     ]
    },
    {
     "name": "stderr",
     "output_type": "stream",
     "text": [
      "Epoch [289/3000]: 100%|██████████████████████████████████████████████████████| 9/9 [00:00<00:00, 257.48it/s, loss=1.01]\n"
     ]
    },
    {
     "name": "stdout",
     "output_type": "stream",
     "text": [
      "Epoch [289/3000]: Train loss: 0.8164, Valid loss: 1.1793\n"
     ]
    },
    {
     "name": "stderr",
     "output_type": "stream",
     "text": [
      "Epoch [290/3000]: 100%|█████████████████████████████████████████████████████| 9/9 [00:00<00:00, 282.19it/s, loss=0.835]\n"
     ]
    },
    {
     "name": "stdout",
     "output_type": "stream",
     "text": [
      "Epoch [290/3000]: Train loss: 0.8836, Valid loss: 1.2075\n"
     ]
    },
    {
     "name": "stderr",
     "output_type": "stream",
     "text": [
      "Epoch [291/3000]: 100%|█████████████████████████████████████████████████████| 9/9 [00:00<00:00, 257.83it/s, loss=0.581]\n"
     ]
    },
    {
     "name": "stdout",
     "output_type": "stream",
     "text": [
      "Epoch [291/3000]: Train loss: 0.8504, Valid loss: 1.3273\n"
     ]
    },
    {
     "name": "stderr",
     "output_type": "stream",
     "text": [
      "Epoch [292/3000]: 100%|█████████████████████████████████████████████████████| 9/9 [00:00<00:00, 273.64it/s, loss=0.713]\n"
     ]
    },
    {
     "name": "stdout",
     "output_type": "stream",
     "text": [
      "Epoch [292/3000]: Train loss: 0.8119, Valid loss: 1.1546\n"
     ]
    },
    {
     "name": "stderr",
     "output_type": "stream",
     "text": [
      "Epoch [293/3000]: 100%|█████████████████████████████████████████████████████| 9/9 [00:00<00:00, 265.59it/s, loss=0.979]\n"
     ]
    },
    {
     "name": "stdout",
     "output_type": "stream",
     "text": [
      "Epoch [293/3000]: Train loss: 0.8340, Valid loss: 1.1819\n"
     ]
    },
    {
     "name": "stderr",
     "output_type": "stream",
     "text": [
      "Epoch [294/3000]: 100%|██████████████████████████████████████████████████████| 9/9 [00:00<00:00, 265.59it/s, loss=1.41]\n"
     ]
    },
    {
     "name": "stdout",
     "output_type": "stream",
     "text": [
      "Epoch [294/3000]: Train loss: 0.8510, Valid loss: 1.0848\n"
     ]
    },
    {
     "name": "stderr",
     "output_type": "stream",
     "text": [
      "Epoch [295/3000]: 100%|█████████████████████████████████████████████████████| 9/9 [00:00<00:00, 250.84it/s, loss=0.666]\n"
     ]
    },
    {
     "name": "stdout",
     "output_type": "stream",
     "text": [
      "Epoch [295/3000]: Train loss: 0.8477, Valid loss: 0.9221\n"
     ]
    },
    {
     "name": "stderr",
     "output_type": "stream",
     "text": [
      "Epoch [296/3000]: 100%|█████████████████████████████████████████████████████| 9/9 [00:00<00:00, 258.00it/s, loss=0.918]\n"
     ]
    },
    {
     "name": "stdout",
     "output_type": "stream",
     "text": [
      "Epoch [296/3000]: Train loss: 0.8222, Valid loss: 0.9963\n"
     ]
    },
    {
     "name": "stderr",
     "output_type": "stream",
     "text": [
      "Epoch [297/3000]: 100%|█████████████████████████████████████████████████████| 9/9 [00:00<00:00, 244.06it/s, loss=0.734]\n"
     ]
    },
    {
     "name": "stdout",
     "output_type": "stream",
     "text": [
      "Epoch [297/3000]: Train loss: 0.8225, Valid loss: 1.2054\n"
     ]
    },
    {
     "name": "stderr",
     "output_type": "stream",
     "text": [
      "Epoch [298/3000]: 100%|█████████████████████████████████████████████████████| 9/9 [00:00<00:00, 249.09it/s, loss=0.875]\n"
     ]
    },
    {
     "name": "stdout",
     "output_type": "stream",
     "text": [
      "Epoch [298/3000]: Train loss: 0.8751, Valid loss: 1.1077\n"
     ]
    },
    {
     "name": "stderr",
     "output_type": "stream",
     "text": [
      "Epoch [299/3000]: 100%|█████████████████████████████████████████████████████| 9/9 [00:00<00:00, 234.79it/s, loss=0.646]\n"
     ]
    },
    {
     "name": "stdout",
     "output_type": "stream",
     "text": [
      "Epoch [299/3000]: Train loss: 0.7956, Valid loss: 1.0496\n"
     ]
    },
    {
     "name": "stderr",
     "output_type": "stream",
     "text": [
      "Epoch [300/3000]: 100%|█████████████████████████████████████████████████████| 9/9 [00:00<00:00, 244.06it/s, loss=0.684]\n"
     ]
    },
    {
     "name": "stdout",
     "output_type": "stream",
     "text": [
      "Epoch [300/3000]: Train loss: 0.8172, Valid loss: 1.0289\n"
     ]
    },
    {
     "name": "stderr",
     "output_type": "stream",
     "text": [
      "Epoch [301/3000]: 100%|█████████████████████████████████████████████████████| 9/9 [00:00<00:00, 244.06it/s, loss=0.629]\n"
     ]
    },
    {
     "name": "stdout",
     "output_type": "stream",
     "text": [
      "Epoch [301/3000]: Train loss: 0.8212, Valid loss: 1.1500\n"
     ]
    },
    {
     "name": "stderr",
     "output_type": "stream",
     "text": [
      "Epoch [302/3000]: 100%|█████████████████████████████████████████████████████| 9/9 [00:00<00:00, 249.34it/s, loss=0.768]\n"
     ]
    },
    {
     "name": "stdout",
     "output_type": "stream",
     "text": [
      "Epoch [302/3000]: Train loss: 0.8696, Valid loss: 1.0131\n"
     ]
    },
    {
     "name": "stderr",
     "output_type": "stream",
     "text": [
      "Epoch [303/3000]: 100%|██████████████████████████████████████████████████████| 9/9 [00:00<00:00, 250.85it/s, loss=0.97]\n"
     ]
    },
    {
     "name": "stdout",
     "output_type": "stream",
     "text": [
      "Epoch [303/3000]: Train loss: 0.8758, Valid loss: 1.4670\n"
     ]
    },
    {
     "name": "stderr",
     "output_type": "stream",
     "text": [
      "Epoch [304/3000]: 100%|██████████████████████████████████████████████████████| 9/9 [00:00<00:00, 226.37it/s, loss=0.93]\n"
     ]
    },
    {
     "name": "stdout",
     "output_type": "stream",
     "text": [
      "Epoch [304/3000]: Train loss: 0.8229, Valid loss: 0.9672\n"
     ]
    },
    {
     "name": "stderr",
     "output_type": "stream",
     "text": [
      "Epoch [305/3000]: 100%|█████████████████████████████████████████████████████| 9/9 [00:00<00:00, 244.05it/s, loss=0.955]\n"
     ]
    },
    {
     "name": "stdout",
     "output_type": "stream",
     "text": [
      "Epoch [305/3000]: Train loss: 0.7975, Valid loss: 1.3113\n"
     ]
    },
    {
     "name": "stderr",
     "output_type": "stream",
     "text": [
      "Epoch [306/3000]: 100%|█████████████████████████████████████████████████████| 9/9 [00:00<00:00, 265.58it/s, loss=0.775]\n"
     ]
    },
    {
     "name": "stdout",
     "output_type": "stream",
     "text": [
      "Epoch [306/3000]: Train loss: 0.8521, Valid loss: 1.1083\n"
     ]
    },
    {
     "name": "stderr",
     "output_type": "stream",
     "text": [
      "Epoch [307/3000]: 100%|█████████████████████████████████████████████████████| 9/9 [00:00<00:00, 258.00it/s, loss=0.967]\n"
     ]
    },
    {
     "name": "stdout",
     "output_type": "stream",
     "text": [
      "Epoch [307/3000]: Train loss: 0.7944, Valid loss: 1.3157\n"
     ]
    },
    {
     "name": "stderr",
     "output_type": "stream",
     "text": [
      "Epoch [308/3000]: 100%|█████████████████████████████████████████████████████| 9/9 [00:00<00:00, 277.52it/s, loss=0.792]\n"
     ]
    },
    {
     "name": "stdout",
     "output_type": "stream",
     "text": [
      "Epoch [308/3000]: Train loss: 0.7868, Valid loss: 1.1110\n"
     ]
    },
    {
     "name": "stderr",
     "output_type": "stream",
     "text": [
      "Epoch [309/3000]: 100%|█████████████████████████████████████████████████████| 9/9 [00:00<00:00, 273.67it/s, loss=0.759]\n"
     ]
    },
    {
     "name": "stdout",
     "output_type": "stream",
     "text": [
      "Epoch [309/3000]: Train loss: 0.8255, Valid loss: 1.2770\n"
     ]
    },
    {
     "name": "stderr",
     "output_type": "stream",
     "text": [
      "Epoch [310/3000]: 100%|██████████████████████████████████████████████████████| 9/9 [00:00<00:00, 282.19it/s, loss=0.55]\n"
     ]
    },
    {
     "name": "stdout",
     "output_type": "stream",
     "text": [
      "Epoch [310/3000]: Train loss: 0.8052, Valid loss: 1.0457\n"
     ]
    },
    {
     "name": "stderr",
     "output_type": "stream",
     "text": [
      "Epoch [311/3000]: 100%|█████████████████████████████████████████████████████| 9/9 [00:00<00:00, 257.88it/s, loss=0.911]\n"
     ]
    },
    {
     "name": "stdout",
     "output_type": "stream",
     "text": [
      "Epoch [311/3000]: Train loss: 0.8873, Valid loss: 1.5020\n"
     ]
    },
    {
     "name": "stderr",
     "output_type": "stream",
     "text": [
      "Epoch [312/3000]: 100%|██████████████████████████████████████████████████████| 9/9 [00:00<00:00, 250.84it/s, loss=0.64]\n"
     ]
    },
    {
     "name": "stdout",
     "output_type": "stream",
     "text": [
      "Epoch [312/3000]: Train loss: 0.8484, Valid loss: 1.4813\n"
     ]
    },
    {
     "name": "stderr",
     "output_type": "stream",
     "text": [
      "Epoch [313/3000]: 100%|█████████████████████████████████████████████████████| 9/9 [00:00<00:00, 251.21it/s, loss=0.798]\n"
     ]
    },
    {
     "name": "stdout",
     "output_type": "stream",
     "text": [
      "Epoch [313/3000]: Train loss: 0.8012, Valid loss: 0.9902\n"
     ]
    },
    {
     "name": "stderr",
     "output_type": "stream",
     "text": [
      "Epoch [314/3000]: 100%|█████████████████████████████████████████████████████| 9/9 [00:00<00:00, 240.19it/s, loss=0.856]\n"
     ]
    },
    {
     "name": "stdout",
     "output_type": "stream",
     "text": [
      "Epoch [314/3000]: Train loss: 0.7794, Valid loss: 1.0065\n"
     ]
    },
    {
     "name": "stderr",
     "output_type": "stream",
     "text": [
      "Epoch [315/3000]: 100%|█████████████████████████████████████████████████████| 9/9 [00:00<00:00, 237.65it/s, loss=0.813]\n"
     ]
    },
    {
     "name": "stdout",
     "output_type": "stream",
     "text": [
      "Epoch [315/3000]: Train loss: 0.8503, Valid loss: 0.9731\n"
     ]
    },
    {
     "name": "stderr",
     "output_type": "stream",
     "text": [
      "Epoch [316/3000]: 100%|█████████████████████████████████████████████████████| 9/9 [00:00<00:00, 250.83it/s, loss=0.755]\n"
     ]
    },
    {
     "name": "stdout",
     "output_type": "stream",
     "text": [
      "Epoch [316/3000]: Train loss: 0.8214, Valid loss: 1.2148\n"
     ]
    },
    {
     "name": "stderr",
     "output_type": "stream",
     "text": [
      "Epoch [317/3000]: 100%|███████████████████████████████████████████████████████| 9/9 [00:00<00:00, 250.84it/s, loss=1.4]\n"
     ]
    },
    {
     "name": "stdout",
     "output_type": "stream",
     "text": [
      "Epoch [317/3000]: Train loss: 0.8222, Valid loss: 1.0201\n"
     ]
    },
    {
     "name": "stderr",
     "output_type": "stream",
     "text": [
      "Epoch [318/3000]: 100%|█████████████████████████████████████████████████████| 9/9 [00:00<00:00, 250.83it/s, loss=0.666]\n"
     ]
    },
    {
     "name": "stdout",
     "output_type": "stream",
     "text": [
      "Epoch [318/3000]: Train loss: 0.8217, Valid loss: 0.9964\n"
     ]
    },
    {
     "name": "stderr",
     "output_type": "stream",
     "text": [
      "Epoch [319/3000]: 100%|█████████████████████████████████████████████████████| 9/9 [00:00<00:00, 250.83it/s, loss=0.792]\n"
     ]
    },
    {
     "name": "stdout",
     "output_type": "stream",
     "text": [
      "Epoch [319/3000]: Train loss: 0.8237, Valid loss: 1.0759\n"
     ]
    },
    {
     "name": "stderr",
     "output_type": "stream",
     "text": [
      "Epoch [320/3000]: 100%|█████████████████████████████████████████████████████| 9/9 [00:00<00:00, 258.00it/s, loss=0.843]\n"
     ]
    },
    {
     "name": "stdout",
     "output_type": "stream",
     "text": [
      "Epoch [320/3000]: Train loss: 0.9079, Valid loss: 1.0967\n"
     ]
    },
    {
     "name": "stderr",
     "output_type": "stream",
     "text": [
      "Epoch [321/3000]: 100%|█████████████████████████████████████████████████████| 9/9 [00:00<00:00, 273.56it/s, loss=0.834]\n"
     ]
    },
    {
     "name": "stdout",
     "output_type": "stream",
     "text": [
      "Epoch [321/3000]: Train loss: 0.8515, Valid loss: 0.9844\n"
     ]
    },
    {
     "name": "stderr",
     "output_type": "stream",
     "text": [
      "Epoch [322/3000]: 100%|█████████████████████████████████████████████████████| 9/9 [00:00<00:00, 259.79it/s, loss=0.612]\n"
     ]
    },
    {
     "name": "stdout",
     "output_type": "stream",
     "text": [
      "Epoch [322/3000]: Train loss: 0.7846, Valid loss: 0.9473\n"
     ]
    },
    {
     "name": "stderr",
     "output_type": "stream",
     "text": [
      "Epoch [323/3000]: 100%|█████████████████████████████████████████████████████| 9/9 [00:00<00:00, 258.64it/s, loss=0.974]\n"
     ]
    },
    {
     "name": "stdout",
     "output_type": "stream",
     "text": [
      "Epoch [323/3000]: Train loss: 0.8403, Valid loss: 1.2067\n"
     ]
    },
    {
     "name": "stderr",
     "output_type": "stream",
     "text": [
      "Epoch [324/3000]: 100%|█████████████████████████████████████████████████████| 9/9 [00:00<00:00, 270.03it/s, loss=0.956]\n"
     ]
    },
    {
     "name": "stdout",
     "output_type": "stream",
     "text": [
      "Epoch [324/3000]: Train loss: 0.8131, Valid loss: 1.1780\n"
     ]
    },
    {
     "name": "stderr",
     "output_type": "stream",
     "text": [
      "Epoch [325/3000]: 100%|██████████████████████████████████████████████████████| 9/9 [00:00<00:00, 273.64it/s, loss=0.91]\n"
     ]
    },
    {
     "name": "stdout",
     "output_type": "stream",
     "text": [
      "Epoch [325/3000]: Train loss: 0.8132, Valid loss: 0.9176\n"
     ]
    },
    {
     "name": "stderr",
     "output_type": "stream",
     "text": [
      "Epoch [326/3000]: 100%|█████████████████████████████████████████████████████| 9/9 [00:00<00:00, 250.83it/s, loss=0.748]\n"
     ]
    },
    {
     "name": "stdout",
     "output_type": "stream",
     "text": [
      "Epoch [326/3000]: Train loss: 0.7902, Valid loss: 1.0599\n"
     ]
    },
    {
     "name": "stderr",
     "output_type": "stream",
     "text": [
      "Epoch [327/3000]: 100%|█████████████████████████████████████████████████████| 9/9 [00:00<00:00, 244.10it/s, loss=0.914]\n"
     ]
    },
    {
     "name": "stdout",
     "output_type": "stream",
     "text": [
      "Epoch [327/3000]: Train loss: 0.8137, Valid loss: 0.9737\n"
     ]
    },
    {
     "name": "stderr",
     "output_type": "stream",
     "text": [
      "Epoch [328/3000]: 100%|█████████████████████████████████████████████████████| 9/9 [00:00<00:00, 250.83it/s, loss=0.941]\n"
     ]
    },
    {
     "name": "stdout",
     "output_type": "stream",
     "text": [
      "Epoch [328/3000]: Train loss: 0.8469, Valid loss: 1.0796\n"
     ]
    },
    {
     "name": "stderr",
     "output_type": "stream",
     "text": [
      "Epoch [329/3000]: 100%|██████████████████████████████████████████████████████| 9/9 [00:00<00:00, 237.63it/s, loss=1.02]\n"
     ]
    },
    {
     "name": "stdout",
     "output_type": "stream",
     "text": [
      "Epoch [329/3000]: Train loss: 0.8401, Valid loss: 1.0047\n"
     ]
    },
    {
     "name": "stderr",
     "output_type": "stream",
     "text": [
      "Epoch [330/3000]: 100%|██████████████████████████████████████████████████████| 9/9 [00:00<00:00, 241.41it/s, loss=1.04]\n"
     ]
    },
    {
     "name": "stdout",
     "output_type": "stream",
     "text": [
      "Epoch [330/3000]: Train loss: 0.8301, Valid loss: 1.0700\n"
     ]
    },
    {
     "name": "stderr",
     "output_type": "stream",
     "text": [
      "Epoch [331/3000]: 100%|█████████████████████████████████████████████████████| 9/9 [00:00<00:00, 250.19it/s, loss=0.767]\n"
     ]
    },
    {
     "name": "stdout",
     "output_type": "stream",
     "text": [
      "Epoch [331/3000]: Train loss: 0.7664, Valid loss: 1.0050\n"
     ]
    },
    {
     "name": "stderr",
     "output_type": "stream",
     "text": [
      "Epoch [332/3000]: 100%|█████████████████████████████████████████████████████| 9/9 [00:00<00:00, 249.13it/s, loss=0.851]\n"
     ]
    },
    {
     "name": "stdout",
     "output_type": "stream",
     "text": [
      "Epoch [332/3000]: Train loss: 0.7997, Valid loss: 1.1055\n"
     ]
    },
    {
     "name": "stderr",
     "output_type": "stream",
     "text": [
      "Epoch [333/3000]: 100%|███████████████████████████████████████████████████████| 9/9 [00:00<00:00, 240.40it/s, loss=0.9]\n"
     ]
    },
    {
     "name": "stdout",
     "output_type": "stream",
     "text": [
      "Epoch [333/3000]: Train loss: 0.8062, Valid loss: 0.9997\n"
     ]
    },
    {
     "name": "stderr",
     "output_type": "stream",
     "text": [
      "Epoch [334/3000]: 100%|█████████████████████████████████████████████████████| 9/9 [00:00<00:00, 244.05it/s, loss=0.831]\n"
     ]
    },
    {
     "name": "stdout",
     "output_type": "stream",
     "text": [
      "Epoch [334/3000]: Train loss: 0.7955, Valid loss: 1.3891\n"
     ]
    },
    {
     "name": "stderr",
     "output_type": "stream",
     "text": [
      "Epoch [335/3000]: 100%|█████████████████████████████████████████████████████| 9/9 [00:00<00:00, 250.76it/s, loss=0.963]\n"
     ]
    },
    {
     "name": "stdout",
     "output_type": "stream",
     "text": [
      "Epoch [335/3000]: Train loss: 0.8205, Valid loss: 1.0137\n"
     ]
    },
    {
     "name": "stderr",
     "output_type": "stream",
     "text": [
      "Epoch [336/3000]: 100%|██████████████████████████████████████████████████████| 9/9 [00:00<00:00, 262.72it/s, loss=1.18]\n"
     ]
    },
    {
     "name": "stdout",
     "output_type": "stream",
     "text": [
      "Epoch [336/3000]: Train loss: 0.7995, Valid loss: 1.4509\n"
     ]
    },
    {
     "name": "stderr",
     "output_type": "stream",
     "text": [
      "Epoch [337/3000]: 100%|█████████████████████████████████████████████████████| 9/9 [00:00<00:00, 258.00it/s, loss=0.959]\n"
     ]
    },
    {
     "name": "stdout",
     "output_type": "stream",
     "text": [
      "Epoch [337/3000]: Train loss: 0.9873, Valid loss: 1.4607\n"
     ]
    },
    {
     "name": "stderr",
     "output_type": "stream",
     "text": [
      "Epoch [338/3000]: 100%|██████████████████████████████████████████████████████| 9/9 [00:00<00:00, 248.69it/s, loss=1.02]\n"
     ]
    },
    {
     "name": "stdout",
     "output_type": "stream",
     "text": [
      "Epoch [338/3000]: Train loss: 0.7883, Valid loss: 1.7412\n"
     ]
    },
    {
     "name": "stderr",
     "output_type": "stream",
     "text": [
      "Epoch [339/3000]: 100%|██████████████████████████████████████████████████████| 9/9 [00:00<00:00, 244.47it/s, loss=1.19]\n"
     ]
    },
    {
     "name": "stdout",
     "output_type": "stream",
     "text": [
      "Epoch [339/3000]: Train loss: 0.8290, Valid loss: 1.0496\n"
     ]
    },
    {
     "name": "stderr",
     "output_type": "stream",
     "text": [
      "Epoch [340/3000]: 100%|█████████████████████████████████████████████████████| 9/9 [00:00<00:00, 263.77it/s, loss=0.668]\n"
     ]
    },
    {
     "name": "stdout",
     "output_type": "stream",
     "text": [
      "Epoch [340/3000]: Train loss: 0.8120, Valid loss: 1.0269\n"
     ]
    },
    {
     "name": "stderr",
     "output_type": "stream",
     "text": [
      "Epoch [341/3000]: 100%|█████████████████████████████████████████████████████| 9/9 [00:00<00:00, 273.42it/s, loss=0.667]\n"
     ]
    },
    {
     "name": "stdout",
     "output_type": "stream",
     "text": [
      "Epoch [341/3000]: Train loss: 0.7943, Valid loss: 1.1996\n"
     ]
    },
    {
     "name": "stderr",
     "output_type": "stream",
     "text": [
      "Epoch [342/3000]: 100%|█████████████████████████████████████████████████████| 9/9 [00:00<00:00, 274.74it/s, loss=0.957]\n"
     ]
    },
    {
     "name": "stdout",
     "output_type": "stream",
     "text": [
      "Epoch [342/3000]: Train loss: 0.8773, Valid loss: 0.9892\n"
     ]
    },
    {
     "name": "stderr",
     "output_type": "stream",
     "text": [
      "Epoch [343/3000]: 100%|██████████████████████████████████████████████████████| 9/9 [00:00<00:00, 266.61it/s, loss=1.03]\n"
     ]
    },
    {
     "name": "stdout",
     "output_type": "stream",
     "text": [
      "Epoch [343/3000]: Train loss: 0.8237, Valid loss: 1.0008\n"
     ]
    },
    {
     "name": "stderr",
     "output_type": "stream",
     "text": [
      "Epoch [344/3000]: 100%|█████████████████████████████████████████████████████| 9/9 [00:00<00:00, 250.89it/s, loss=0.819]\n"
     ]
    },
    {
     "name": "stdout",
     "output_type": "stream",
     "text": [
      "Epoch [344/3000]: Train loss: 0.7819, Valid loss: 1.1429\n"
     ]
    },
    {
     "name": "stderr",
     "output_type": "stream",
     "text": [
      "Epoch [345/3000]: 100%|█████████████████████████████████████████████████████| 9/9 [00:00<00:00, 254.39it/s, loss=0.695]\n"
     ]
    },
    {
     "name": "stdout",
     "output_type": "stream",
     "text": [
      "Epoch [345/3000]: Train loss: 0.8317, Valid loss: 1.0807\n"
     ]
    },
    {
     "name": "stderr",
     "output_type": "stream",
     "text": [
      "Epoch [346/3000]: 100%|█████████████████████████████████████████████████████| 9/9 [00:00<00:00, 260.99it/s, loss=0.552]\n"
     ]
    },
    {
     "name": "stdout",
     "output_type": "stream",
     "text": [
      "Epoch [346/3000]: Train loss: 0.7816, Valid loss: 1.0692\n"
     ]
    },
    {
     "name": "stderr",
     "output_type": "stream",
     "text": [
      "Epoch [347/3000]: 100%|█████████████████████████████████████████████████████| 9/9 [00:00<00:00, 264.44it/s, loss=0.575]\n"
     ]
    },
    {
     "name": "stdout",
     "output_type": "stream",
     "text": [
      "Epoch [347/3000]: Train loss: 0.8354, Valid loss: 1.1663\n"
     ]
    },
    {
     "name": "stderr",
     "output_type": "stream",
     "text": [
      "Epoch [348/3000]: 100%|██████████████████████████████████████████████████████| 9/9 [00:00<00:00, 256.59it/s, loss=1.25]\n"
     ]
    },
    {
     "name": "stdout",
     "output_type": "stream",
     "text": [
      "Epoch [348/3000]: Train loss: 0.8594, Valid loss: 1.3629\n"
     ]
    },
    {
     "name": "stderr",
     "output_type": "stream",
     "text": [
      "Epoch [349/3000]: 100%|██████████████████████████████████████████████████████| 9/9 [00:00<00:00, 256.29it/s, loss=0.89]\n"
     ]
    },
    {
     "name": "stdout",
     "output_type": "stream",
     "text": [
      "Epoch [349/3000]: Train loss: 0.7919, Valid loss: 1.2350\n"
     ]
    },
    {
     "name": "stderr",
     "output_type": "stream",
     "text": [
      "Epoch [350/3000]: 100%|█████████████████████████████████████████████████████| 9/9 [00:00<00:00, 256.27it/s, loss=0.764]\n"
     ]
    },
    {
     "name": "stdout",
     "output_type": "stream",
     "text": [
      "Epoch [350/3000]: Train loss: 0.7945, Valid loss: 0.9800\n"
     ]
    },
    {
     "name": "stderr",
     "output_type": "stream",
     "text": [
      "Epoch [351/3000]: 100%|██████████████████████████████████████████████████████| 9/9 [00:00<00:00, 239.85it/s, loss=1.01]\n"
     ]
    },
    {
     "name": "stdout",
     "output_type": "stream",
     "text": [
      "Epoch [351/3000]: Train loss: 0.8592, Valid loss: 1.3205\n"
     ]
    },
    {
     "name": "stderr",
     "output_type": "stream",
     "text": [
      "Epoch [352/3000]: 100%|█████████████████████████████████████████████████████| 9/9 [00:00<00:00, 244.06it/s, loss=0.793]\n"
     ]
    },
    {
     "name": "stdout",
     "output_type": "stream",
     "text": [
      "Epoch [352/3000]: Train loss: 0.8535, Valid loss: 1.1196\n"
     ]
    },
    {
     "name": "stderr",
     "output_type": "stream",
     "text": [
      "Epoch [353/3000]: 100%|█████████████████████████████████████████████████████| 9/9 [00:00<00:00, 231.46it/s, loss=0.516]\n"
     ]
    },
    {
     "name": "stdout",
     "output_type": "stream",
     "text": [
      "Epoch [353/3000]: Train loss: 0.8242, Valid loss: 1.1965\n"
     ]
    },
    {
     "name": "stderr",
     "output_type": "stream",
     "text": [
      "Epoch [354/3000]: 100%|█████████████████████████████████████████████████████| 9/9 [00:00<00:00, 237.63it/s, loss=0.811]\n"
     ]
    },
    {
     "name": "stdout",
     "output_type": "stream",
     "text": [
      "Epoch [354/3000]: Train loss: 0.8071, Valid loss: 1.2625\n"
     ]
    },
    {
     "name": "stderr",
     "output_type": "stream",
     "text": [
      "Epoch [355/3000]: 100%|█████████████████████████████████████████████████████| 9/9 [00:00<00:00, 225.75it/s, loss=0.865]\n"
     ]
    },
    {
     "name": "stdout",
     "output_type": "stream",
     "text": [
      "Epoch [355/3000]: Train loss: 0.8105, Valid loss: 1.1501\n"
     ]
    },
    {
     "name": "stderr",
     "output_type": "stream",
     "text": [
      "Epoch [356/3000]: 100%|█████████████████████████████████████████████████████| 9/9 [00:00<00:00, 244.06it/s, loss=0.738]\n"
     ]
    },
    {
     "name": "stdout",
     "output_type": "stream",
     "text": [
      "Epoch [356/3000]: Train loss: 0.8008, Valid loss: 1.1272\n"
     ]
    },
    {
     "name": "stderr",
     "output_type": "stream",
     "text": [
      "Epoch [357/3000]: 100%|█████████████████████████████████████████████████████| 9/9 [00:00<00:00, 231.46it/s, loss=0.717]\n"
     ]
    },
    {
     "name": "stdout",
     "output_type": "stream",
     "text": [
      "Epoch [357/3000]: Train loss: 0.7993, Valid loss: 1.1388\n"
     ]
    },
    {
     "name": "stderr",
     "output_type": "stream",
     "text": [
      "Epoch [358/3000]: 100%|██████████████████████████████████████████████████████| 9/9 [00:00<00:00, 224.12it/s, loss=0.71]\n"
     ]
    },
    {
     "name": "stdout",
     "output_type": "stream",
     "text": [
      "Epoch [358/3000]: Train loss: 0.8404, Valid loss: 1.1112\n"
     ]
    },
    {
     "name": "stderr",
     "output_type": "stream",
     "text": [
      "Epoch [359/3000]: 100%|█████████████████████████████████████████████████████| 9/9 [00:00<00:00, 244.06it/s, loss=0.676]\n"
     ]
    },
    {
     "name": "stdout",
     "output_type": "stream",
     "text": [
      "Epoch [359/3000]: Train loss: 0.7934, Valid loss: 1.3163\n"
     ]
    },
    {
     "name": "stderr",
     "output_type": "stream",
     "text": [
      "Epoch [360/3000]: 100%|██████████████████████████████████████████████████████| 9/9 [00:00<00:00, 236.62it/s, loss=1.33]\n"
     ]
    },
    {
     "name": "stdout",
     "output_type": "stream",
     "text": [
      "Epoch [360/3000]: Train loss: 0.8445, Valid loss: 1.1466\n"
     ]
    },
    {
     "name": "stderr",
     "output_type": "stream",
     "text": [
      "Epoch [361/3000]: 100%|█████████████████████████████████████████████████████| 9/9 [00:00<00:00, 250.84it/s, loss=0.641]\n"
     ]
    },
    {
     "name": "stdout",
     "output_type": "stream",
     "text": [
      "Epoch [361/3000]: Train loss: 0.8145, Valid loss: 1.4792\n"
     ]
    },
    {
     "name": "stderr",
     "output_type": "stream",
     "text": [
      "Epoch [362/3000]: 100%|█████████████████████████████████████████████████████| 9/9 [00:00<00:00, 244.76it/s, loss=0.744]\n"
     ]
    },
    {
     "name": "stdout",
     "output_type": "stream",
     "text": [
      "Epoch [362/3000]: Train loss: 0.8239, Valid loss: 1.1424\n"
     ]
    },
    {
     "name": "stderr",
     "output_type": "stream",
     "text": [
      "Epoch [363/3000]: 100%|█████████████████████████████████████████████████████| 9/9 [00:00<00:00, 237.63it/s, loss=0.571]\n"
     ]
    },
    {
     "name": "stdout",
     "output_type": "stream",
     "text": [
      "Epoch [363/3000]: Train loss: 0.7829, Valid loss: 1.0544\n"
     ]
    },
    {
     "name": "stderr",
     "output_type": "stream",
     "text": [
      "Epoch [364/3000]: 100%|█████████████████████████████████████████████████████| 9/9 [00:00<00:00, 241.35it/s, loss=0.911]\n"
     ]
    },
    {
     "name": "stdout",
     "output_type": "stream",
     "text": [
      "Epoch [364/3000]: Train loss: 0.8874, Valid loss: 1.4236\n"
     ]
    },
    {
     "name": "stderr",
     "output_type": "stream",
     "text": [
      "Epoch [365/3000]: 100%|█████████████████████████████████████████████████████| 9/9 [00:00<00:00, 250.83it/s, loss=0.685]\n"
     ]
    },
    {
     "name": "stdout",
     "output_type": "stream",
     "text": [
      "Epoch [365/3000]: Train loss: 0.8583, Valid loss: 1.0186\n"
     ]
    },
    {
     "name": "stderr",
     "output_type": "stream",
     "text": [
      "Epoch [366/3000]: 100%|█████████████████████████████████████████████████████| 9/9 [00:00<00:00, 250.84it/s, loss=0.628]\n"
     ]
    },
    {
     "name": "stdout",
     "output_type": "stream",
     "text": [
      "Epoch [366/3000]: Train loss: 0.7759, Valid loss: 0.9079\n"
     ]
    },
    {
     "name": "stderr",
     "output_type": "stream",
     "text": [
      "Epoch [367/3000]: 100%|█████████████████████████████████████████████████████| 9/9 [00:00<00:00, 253.92it/s, loss=0.769]\n"
     ]
    },
    {
     "name": "stdout",
     "output_type": "stream",
     "text": [
      "Epoch [367/3000]: Train loss: 0.7865, Valid loss: 1.2171\n"
     ]
    },
    {
     "name": "stderr",
     "output_type": "stream",
     "text": [
      "Epoch [368/3000]: 100%|█████████████████████████████████████████████████████| 9/9 [00:00<00:00, 250.83it/s, loss=0.835]\n"
     ]
    },
    {
     "name": "stdout",
     "output_type": "stream",
     "text": [
      "Epoch [368/3000]: Train loss: 0.8027, Valid loss: 1.1032\n"
     ]
    },
    {
     "name": "stderr",
     "output_type": "stream",
     "text": [
      "Epoch [369/3000]: 100%|██████████████████████████████████████████████████████| 9/9 [00:00<00:00, 256.88it/s, loss=1.05]\n"
     ]
    },
    {
     "name": "stdout",
     "output_type": "stream",
     "text": [
      "Epoch [369/3000]: Train loss: 0.8141, Valid loss: 1.0294\n"
     ]
    },
    {
     "name": "stderr",
     "output_type": "stream",
     "text": [
      "Epoch [370/3000]: 100%|█████████████████████████████████████████████████████| 9/9 [00:00<00:00, 258.00it/s, loss=0.899]\n"
     ]
    },
    {
     "name": "stdout",
     "output_type": "stream",
     "text": [
      "Epoch [370/3000]: Train loss: 0.8083, Valid loss: 1.1460\n"
     ]
    },
    {
     "name": "stderr",
     "output_type": "stream",
     "text": [
      "Epoch [371/3000]: 100%|█████████████████████████████████████████████████████| 9/9 [00:00<00:00, 245.25it/s, loss=0.629]\n"
     ]
    },
    {
     "name": "stdout",
     "output_type": "stream",
     "text": [
      "Epoch [371/3000]: Train loss: 0.7842, Valid loss: 1.0320\n"
     ]
    },
    {
     "name": "stderr",
     "output_type": "stream",
     "text": [
      "Epoch [372/3000]: 100%|█████████████████████████████████████████████████████| 9/9 [00:00<00:00, 265.59it/s, loss=0.656]\n"
     ]
    },
    {
     "name": "stdout",
     "output_type": "stream",
     "text": [
      "Epoch [372/3000]: Train loss: 0.7893, Valid loss: 1.0646\n"
     ]
    },
    {
     "name": "stderr",
     "output_type": "stream",
     "text": [
      "Epoch [373/3000]: 100%|█████████████████████████████████████████████████████| 9/9 [00:00<00:00, 265.59it/s, loss=0.737]\n"
     ]
    },
    {
     "name": "stdout",
     "output_type": "stream",
     "text": [
      "Epoch [373/3000]: Train loss: 0.8154, Valid loss: 1.3415\n"
     ]
    },
    {
     "name": "stderr",
     "output_type": "stream",
     "text": [
      "Epoch [374/3000]: 100%|█████████████████████████████████████████████████████| 9/9 [00:00<00:00, 280.02it/s, loss=0.943]\n"
     ]
    },
    {
     "name": "stdout",
     "output_type": "stream",
     "text": [
      "Epoch [374/3000]: Train loss: 0.8552, Valid loss: 1.1395\n"
     ]
    },
    {
     "name": "stderr",
     "output_type": "stream",
     "text": [
      "Epoch [375/3000]: 100%|█████████████████████████████████████████████████████| 9/9 [00:00<00:00, 273.23it/s, loss=0.868]\n"
     ]
    },
    {
     "name": "stdout",
     "output_type": "stream",
     "text": [
      "Epoch [375/3000]: Train loss: 0.7891, Valid loss: 1.2143\n"
     ]
    },
    {
     "name": "stderr",
     "output_type": "stream",
     "text": [
      "Epoch [376/3000]: 100%|█████████████████████████████████████████████████████| 9/9 [00:00<00:00, 252.61it/s, loss=0.793]\n"
     ]
    },
    {
     "name": "stdout",
     "output_type": "stream",
     "text": [
      "Epoch [376/3000]: Train loss: 0.7780, Valid loss: 1.1425\n"
     ]
    },
    {
     "name": "stderr",
     "output_type": "stream",
     "text": [
      "Epoch [377/3000]: 100%|█████████████████████████████████████████████████████| 9/9 [00:00<00:00, 240.43it/s, loss=0.707]\n"
     ]
    },
    {
     "name": "stdout",
     "output_type": "stream",
     "text": [
      "Epoch [377/3000]: Train loss: 0.7899, Valid loss: 0.9660\n"
     ]
    },
    {
     "name": "stderr",
     "output_type": "stream",
     "text": [
      "Epoch [378/3000]: 100%|█████████████████████████████████████████████████████| 9/9 [00:00<00:00, 242.24it/s, loss=0.587]\n"
     ]
    },
    {
     "name": "stdout",
     "output_type": "stream",
     "text": [
      "Epoch [378/3000]: Train loss: 0.8004, Valid loss: 1.3580\n"
     ]
    },
    {
     "name": "stderr",
     "output_type": "stream",
     "text": [
      "Epoch [379/3000]: 100%|█████████████████████████████████████████████████████| 9/9 [00:00<00:00, 244.05it/s, loss=0.827]\n"
     ]
    },
    {
     "name": "stdout",
     "output_type": "stream",
     "text": [
      "Epoch [379/3000]: Train loss: 0.7896, Valid loss: 1.2382\n"
     ]
    },
    {
     "name": "stderr",
     "output_type": "stream",
     "text": [
      "Epoch [380/3000]: 100%|█████████████████████████████████████████████████████| 9/9 [00:00<00:00, 249.51it/s, loss=0.764]\n"
     ]
    },
    {
     "name": "stdout",
     "output_type": "stream",
     "text": [
      "Epoch [380/3000]: Train loss: 0.7956, Valid loss: 2.0339\n"
     ]
    },
    {
     "name": "stderr",
     "output_type": "stream",
     "text": [
      "Epoch [381/3000]: 100%|███████████████████████████████████████████████████████| 9/9 [00:00<00:00, 87.20it/s, loss=0.95]\n"
     ]
    },
    {
     "name": "stdout",
     "output_type": "stream",
     "text": [
      "Epoch [381/3000]: Train loss: 0.8706, Valid loss: 1.4441\n"
     ]
    },
    {
     "name": "stderr",
     "output_type": "stream",
     "text": [
      "Epoch [382/3000]: 100%|█████████████████████████████████████████████████████| 9/9 [00:00<00:00, 244.06it/s, loss=0.799]\n"
     ]
    },
    {
     "name": "stdout",
     "output_type": "stream",
     "text": [
      "Epoch [382/3000]: Train loss: 0.8313, Valid loss: 0.8839\n"
     ]
    },
    {
     "name": "stderr",
     "output_type": "stream",
     "text": [
      "Epoch [383/3000]: 100%|██████████████████████████████████████████████████████| 9/9 [00:00<00:00, 237.39it/s, loss=1.18]\n"
     ]
    },
    {
     "name": "stdout",
     "output_type": "stream",
     "text": [
      "Epoch [383/3000]: Train loss: 0.7831, Valid loss: 1.1067\n"
     ]
    },
    {
     "name": "stderr",
     "output_type": "stream",
     "text": [
      "Epoch [384/3000]: 100%|█████████████████████████████████████████████████████| 9/9 [00:00<00:00, 256.04it/s, loss=0.665]\n"
     ]
    },
    {
     "name": "stdout",
     "output_type": "stream",
     "text": [
      "Epoch [384/3000]: Train loss: 0.8176, Valid loss: 1.7198\n"
     ]
    },
    {
     "name": "stderr",
     "output_type": "stream",
     "text": [
      "Epoch [385/3000]: 100%|█████████████████████████████████████████████████████| 9/9 [00:00<00:00, 248.94it/s, loss=0.706]\n"
     ]
    },
    {
     "name": "stdout",
     "output_type": "stream",
     "text": [
      "Epoch [385/3000]: Train loss: 0.8263, Valid loss: 1.0634\n"
     ]
    },
    {
     "name": "stderr",
     "output_type": "stream",
     "text": [
      "Epoch [386/3000]: 100%|█████████████████████████████████████████████████████| 9/9 [00:00<00:00, 251.46it/s, loss=0.889]\n"
     ]
    },
    {
     "name": "stdout",
     "output_type": "stream",
     "text": [
      "Epoch [386/3000]: Train loss: 0.8216, Valid loss: 1.0358\n"
     ]
    },
    {
     "name": "stderr",
     "output_type": "stream",
     "text": [
      "Epoch [387/3000]: 100%|█████████████████████████████████████████████████████| 9/9 [00:00<00:00, 265.59it/s, loss=0.703]\n"
     ]
    },
    {
     "name": "stdout",
     "output_type": "stream",
     "text": [
      "Epoch [387/3000]: Train loss: 0.7762, Valid loss: 1.2769\n"
     ]
    },
    {
     "name": "stderr",
     "output_type": "stream",
     "text": [
      "Epoch [388/3000]: 100%|█████████████████████████████████████████████████████| 9/9 [00:00<00:00, 258.66it/s, loss=0.847]\n"
     ]
    },
    {
     "name": "stdout",
     "output_type": "stream",
     "text": [
      "Epoch [388/3000]: Train loss: 0.7739, Valid loss: 1.2850\n"
     ]
    },
    {
     "name": "stderr",
     "output_type": "stream",
     "text": [
      "Epoch [389/3000]: 100%|██████████████████████████████████████████████████████| 9/9 [00:00<00:00, 264.70it/s, loss=1.29]\n"
     ]
    },
    {
     "name": "stdout",
     "output_type": "stream",
     "text": [
      "Epoch [389/3000]: Train loss: 0.8065, Valid loss: 1.0198\n"
     ]
    },
    {
     "name": "stderr",
     "output_type": "stream",
     "text": [
      "Epoch [390/3000]: 100%|█████████████████████████████████████████████████████| 9/9 [00:00<00:00, 273.64it/s, loss=0.629]\n"
     ]
    },
    {
     "name": "stdout",
     "output_type": "stream",
     "text": [
      "Epoch [390/3000]: Train loss: 0.7974, Valid loss: 0.9957\n"
     ]
    },
    {
     "name": "stderr",
     "output_type": "stream",
     "text": [
      "Epoch [391/3000]: 100%|███████████████████████████████████████████████████████| 9/9 [00:00<00:00, 270.12it/s, loss=0.7]\n"
     ]
    },
    {
     "name": "stdout",
     "output_type": "stream",
     "text": [
      "Epoch [391/3000]: Train loss: 0.7589, Valid loss: 1.2811\n"
     ]
    },
    {
     "name": "stderr",
     "output_type": "stream",
     "text": [
      "Epoch [392/3000]: 100%|█████████████████████████████████████████████████████| 9/9 [00:00<00:00, 274.84it/s, loss=0.665]\n"
     ]
    },
    {
     "name": "stdout",
     "output_type": "stream",
     "text": [
      "Epoch [392/3000]: Train loss: 0.8279, Valid loss: 0.9290\n"
     ]
    },
    {
     "name": "stderr",
     "output_type": "stream",
     "text": [
      "Epoch [393/3000]: 100%|█████████████████████████████████████████████████████| 9/9 [00:00<00:00, 264.22it/s, loss=0.847]\n"
     ]
    },
    {
     "name": "stdout",
     "output_type": "stream",
     "text": [
      "Epoch [393/3000]: Train loss: 0.8078, Valid loss: 0.9664\n"
     ]
    },
    {
     "name": "stderr",
     "output_type": "stream",
     "text": [
      "Epoch [394/3000]: 100%|█████████████████████████████████████████████████████| 9/9 [00:00<00:00, 258.01it/s, loss=0.773]\n"
     ]
    },
    {
     "name": "stdout",
     "output_type": "stream",
     "text": [
      "Epoch [394/3000]: Train loss: 0.8205, Valid loss: 1.0520\n"
     ]
    },
    {
     "name": "stderr",
     "output_type": "stream",
     "text": [
      "Epoch [395/3000]: 100%|█████████████████████████████████████████████████████| 9/9 [00:00<00:00, 250.84it/s, loss=0.814]\n"
     ]
    },
    {
     "name": "stdout",
     "output_type": "stream",
     "text": [
      "Epoch [395/3000]: Train loss: 0.8003, Valid loss: 1.2529\n"
     ]
    },
    {
     "name": "stderr",
     "output_type": "stream",
     "text": [
      "Epoch [396/3000]: 100%|█████████████████████████████████████████████████████| 9/9 [00:00<00:00, 246.94it/s, loss=0.806]\n"
     ]
    },
    {
     "name": "stdout",
     "output_type": "stream",
     "text": [
      "Epoch [396/3000]: Train loss: 0.7760, Valid loss: 1.0081\n"
     ]
    },
    {
     "name": "stderr",
     "output_type": "stream",
     "text": [
      "Epoch [397/3000]: 100%|█████████████████████████████████████████████████████| 9/9 [00:00<00:00, 231.54it/s, loss=0.766]\n"
     ]
    },
    {
     "name": "stdout",
     "output_type": "stream",
     "text": [
      "Epoch [397/3000]: Train loss: 0.8439, Valid loss: 1.2573\n"
     ]
    },
    {
     "name": "stderr",
     "output_type": "stream",
     "text": [
      "Epoch [398/3000]: 100%|█████████████████████████████████████████████████████| 9/9 [00:00<00:00, 236.67it/s, loss=0.868]\n"
     ]
    },
    {
     "name": "stdout",
     "output_type": "stream",
     "text": [
      "Epoch [398/3000]: Train loss: 0.7897, Valid loss: 1.3610\n"
     ]
    },
    {
     "name": "stderr",
     "output_type": "stream",
     "text": [
      "Epoch [399/3000]: 100%|██████████████████████████████████████████████████████| 9/9 [00:00<00:00, 237.64it/s, loss=1.13]\n"
     ]
    },
    {
     "name": "stdout",
     "output_type": "stream",
     "text": [
      "Epoch [399/3000]: Train loss: 0.8336, Valid loss: 1.0401\n"
     ]
    },
    {
     "name": "stderr",
     "output_type": "stream",
     "text": [
      "Epoch [400/3000]: 100%|█████████████████████████████████████████████████████| 9/9 [00:00<00:00, 244.05it/s, loss=0.706]\n"
     ]
    },
    {
     "name": "stdout",
     "output_type": "stream",
     "text": [
      "Epoch [400/3000]: Train loss: 0.7544, Valid loss: 1.0670\n"
     ]
    },
    {
     "name": "stderr",
     "output_type": "stream",
     "text": [
      "Epoch [401/3000]: 100%|█████████████████████████████████████████████████████| 9/9 [00:00<00:00, 168.52it/s, loss=0.868]\n"
     ]
    },
    {
     "name": "stdout",
     "output_type": "stream",
     "text": [
      "Epoch [401/3000]: Train loss: 0.8002, Valid loss: 1.3517\n"
     ]
    },
    {
     "name": "stderr",
     "output_type": "stream",
     "text": [
      "Epoch [402/3000]: 100%|█████████████████████████████████████████████████████| 9/9 [00:00<00:00, 229.76it/s, loss=0.835]\n"
     ]
    },
    {
     "name": "stdout",
     "output_type": "stream",
     "text": [
      "Epoch [402/3000]: Train loss: 0.8177, Valid loss: 1.2001\n"
     ]
    },
    {
     "name": "stderr",
     "output_type": "stream",
     "text": [
      "Epoch [403/3000]: 100%|█████████████████████████████████████████████████████| 9/9 [00:00<00:00, 246.02it/s, loss=0.849]\n"
     ]
    },
    {
     "name": "stdout",
     "output_type": "stream",
     "text": [
      "Epoch [403/3000]: Train loss: 0.8352, Valid loss: 1.1348\n"
     ]
    },
    {
     "name": "stderr",
     "output_type": "stream",
     "text": [
      "Epoch [404/3000]: 100%|██████████████████████████████████████████████████████| 9/9 [00:00<00:00, 247.17it/s, loss=1.13]\n"
     ]
    },
    {
     "name": "stdout",
     "output_type": "stream",
     "text": [
      "Epoch [404/3000]: Train loss: 0.9042, Valid loss: 1.2769\n"
     ]
    },
    {
     "name": "stderr",
     "output_type": "stream",
     "text": [
      "Epoch [405/3000]: 100%|█████████████████████████████████████████████████████| 9/9 [00:00<00:00, 237.63it/s, loss=0.797]\n"
     ]
    },
    {
     "name": "stdout",
     "output_type": "stream",
     "text": [
      "Epoch [405/3000]: Train loss: 0.8184, Valid loss: 0.9870\n"
     ]
    },
    {
     "name": "stderr",
     "output_type": "stream",
     "text": [
      "Epoch [406/3000]: 100%|█████████████████████████████████████████████████████| 9/9 [00:00<00:00, 244.06it/s, loss=0.567]\n"
     ]
    },
    {
     "name": "stdout",
     "output_type": "stream",
     "text": [
      "Epoch [406/3000]: Train loss: 0.7731, Valid loss: 1.1534\n"
     ]
    },
    {
     "name": "stderr",
     "output_type": "stream",
     "text": [
      "Epoch [407/3000]: 100%|█████████████████████████████████████████████████████| 9/9 [00:00<00:00, 237.63it/s, loss=0.991]\n"
     ]
    },
    {
     "name": "stdout",
     "output_type": "stream",
     "text": [
      "Epoch [407/3000]: Train loss: 0.7873, Valid loss: 1.1694\n"
     ]
    },
    {
     "name": "stderr",
     "output_type": "stream",
     "text": [
      "Epoch [408/3000]: 100%|█████████████████████████████████████████████████████| 9/9 [00:00<00:00, 225.76it/s, loss=0.782]\n"
     ]
    },
    {
     "name": "stdout",
     "output_type": "stream",
     "text": [
      "Epoch [408/3000]: Train loss: 0.8093, Valid loss: 1.5109\n"
     ]
    },
    {
     "name": "stderr",
     "output_type": "stream",
     "text": [
      "Epoch [409/3000]: 100%|█████████████████████████████████████████████████████| 9/9 [00:00<00:00, 251.59it/s, loss=0.925]\n"
     ]
    },
    {
     "name": "stdout",
     "output_type": "stream",
     "text": [
      "Epoch [409/3000]: Train loss: 0.7957, Valid loss: 1.1382\n"
     ]
    },
    {
     "name": "stderr",
     "output_type": "stream",
     "text": [
      "Epoch [410/3000]: 100%|█████████████████████████████████████████████████████| 9/9 [00:00<00:00, 250.85it/s, loss=0.695]\n"
     ]
    },
    {
     "name": "stdout",
     "output_type": "stream",
     "text": [
      "Epoch [410/3000]: Train loss: 0.8281, Valid loss: 1.2163\n"
     ]
    },
    {
     "name": "stderr",
     "output_type": "stream",
     "text": [
      "Epoch [411/3000]: 100%|█████████████████████████████████████████████████████| 9/9 [00:00<00:00, 276.54it/s, loss=0.845]\n"
     ]
    },
    {
     "name": "stdout",
     "output_type": "stream",
     "text": [
      "Epoch [411/3000]: Train loss: 0.8113, Valid loss: 1.6670\n"
     ]
    },
    {
     "name": "stderr",
     "output_type": "stream",
     "text": [
      "Epoch [412/3000]: 100%|█████████████████████████████████████████████████████| 9/9 [00:00<00:00, 265.44it/s, loss=0.515]\n"
     ]
    },
    {
     "name": "stdout",
     "output_type": "stream",
     "text": [
      "Epoch [412/3000]: Train loss: 0.7995, Valid loss: 1.1104\n"
     ]
    },
    {
     "name": "stderr",
     "output_type": "stream",
     "text": [
      "Epoch [413/3000]: 100%|█████████████████████████████████████████████████████| 9/9 [00:00<00:00, 268.73it/s, loss=0.688]\n"
     ]
    },
    {
     "name": "stdout",
     "output_type": "stream",
     "text": [
      "Epoch [413/3000]: Train loss: 0.7931, Valid loss: 1.0316\n"
     ]
    },
    {
     "name": "stderr",
     "output_type": "stream",
     "text": [
      "Epoch [414/3000]: 100%|█████████████████████████████████████████████████████| 9/9 [00:00<00:00, 272.20it/s, loss=0.758]\n"
     ]
    },
    {
     "name": "stdout",
     "output_type": "stream",
     "text": [
      "Epoch [414/3000]: Train loss: 0.8019, Valid loss: 1.5137\n"
     ]
    },
    {
     "name": "stderr",
     "output_type": "stream",
     "text": [
      "Epoch [415/3000]: 100%|█████████████████████████████████████████████████████| 9/9 [00:00<00:00, 251.51it/s, loss=0.599]\n"
     ]
    },
    {
     "name": "stdout",
     "output_type": "stream",
     "text": [
      "Epoch [415/3000]: Train loss: 0.7925, Valid loss: 0.9958\n"
     ]
    },
    {
     "name": "stderr",
     "output_type": "stream",
     "text": [
      "Epoch [416/3000]: 100%|█████████████████████████████████████████████████████| 9/9 [00:00<00:00, 254.51it/s, loss=0.616]\n"
     ]
    },
    {
     "name": "stdout",
     "output_type": "stream",
     "text": [
      "Epoch [416/3000]: Train loss: 0.8433, Valid loss: 1.5311\n"
     ]
    },
    {
     "name": "stderr",
     "output_type": "stream",
     "text": [
      "Epoch [417/3000]: 100%|██████████████████████████████████████████████████████| 9/9 [00:00<00:00, 250.85it/s, loss=0.71]\n"
     ]
    },
    {
     "name": "stdout",
     "output_type": "stream",
     "text": [
      "Epoch [417/3000]: Train loss: 0.7924, Valid loss: 1.6322\n"
     ]
    },
    {
     "name": "stderr",
     "output_type": "stream",
     "text": [
      "Epoch [418/3000]: 100%|█████████████████████████████████████████████████████| 9/9 [00:00<00:00, 243.89it/s, loss=0.867]\n"
     ]
    },
    {
     "name": "stdout",
     "output_type": "stream",
     "text": [
      "Epoch [418/3000]: Train loss: 0.8071, Valid loss: 1.6646\n"
     ]
    },
    {
     "name": "stderr",
     "output_type": "stream",
     "text": [
      "Epoch [419/3000]: 100%|██████████████████████████████████████████████████████| 9/9 [00:00<00:00, 244.06it/s, loss=1.22]\n"
     ]
    },
    {
     "name": "stdout",
     "output_type": "stream",
     "text": [
      "Epoch [419/3000]: Train loss: 0.8173, Valid loss: 0.9692\n"
     ]
    },
    {
     "name": "stderr",
     "output_type": "stream",
     "text": [
      "Epoch [420/3000]: 100%|█████████████████████████████████████████████████████| 9/9 [00:00<00:00, 250.84it/s, loss=0.583]\n"
     ]
    },
    {
     "name": "stdout",
     "output_type": "stream",
     "text": [
      "Epoch [420/3000]: Train loss: 0.7853, Valid loss: 0.9532\n"
     ]
    },
    {
     "name": "stderr",
     "output_type": "stream",
     "text": [
      "Epoch [421/3000]: 100%|█████████████████████████████████████████████████████| 9/9 [00:00<00:00, 237.68it/s, loss=0.601]\n"
     ]
    },
    {
     "name": "stdout",
     "output_type": "stream",
     "text": [
      "Epoch [421/3000]: Train loss: 0.7971, Valid loss: 1.0442\n"
     ]
    },
    {
     "name": "stderr",
     "output_type": "stream",
     "text": [
      "Epoch [422/3000]: 100%|█████████████████████████████████████████████████████| 9/9 [00:00<00:00, 246.28it/s, loss=0.707]\n"
     ]
    },
    {
     "name": "stdout",
     "output_type": "stream",
     "text": [
      "Epoch [422/3000]: Train loss: 0.8422, Valid loss: 1.1259\n"
     ]
    },
    {
     "name": "stderr",
     "output_type": "stream",
     "text": [
      "Epoch [423/3000]: 100%|█████████████████████████████████████████████████████| 9/9 [00:00<00:00, 244.65it/s, loss=0.948]\n"
     ]
    },
    {
     "name": "stdout",
     "output_type": "stream",
     "text": [
      "Epoch [423/3000]: Train loss: 0.7901, Valid loss: 1.5023\n"
     ]
    },
    {
     "name": "stderr",
     "output_type": "stream",
     "text": [
      "Epoch [424/3000]: 100%|█████████████████████████████████████████████████████| 9/9 [00:00<00:00, 236.88it/s, loss=0.718]\n"
     ]
    },
    {
     "name": "stdout",
     "output_type": "stream",
     "text": [
      "Epoch [424/3000]: Train loss: 0.8463, Valid loss: 1.2945\n"
     ]
    },
    {
     "name": "stderr",
     "output_type": "stream",
     "text": [
      "Epoch [425/3000]: 100%|██████████████████████████████████████████████████████| 9/9 [00:00<00:00, 235.81it/s, loss=0.84]\n"
     ]
    },
    {
     "name": "stdout",
     "output_type": "stream",
     "text": [
      "Epoch [425/3000]: Train loss: 0.8037, Valid loss: 1.4812\n"
     ]
    },
    {
     "name": "stderr",
     "output_type": "stream",
     "text": [
      "Epoch [426/3000]: 100%|█████████████████████████████████████████████████████| 9/9 [00:00<00:00, 243.52it/s, loss=0.478]\n"
     ]
    },
    {
     "name": "stdout",
     "output_type": "stream",
     "text": [
      "Epoch [426/3000]: Train loss: 0.7931, Valid loss: 1.0792\n"
     ]
    },
    {
     "name": "stderr",
     "output_type": "stream",
     "text": [
      "Epoch [427/3000]: 100%|█████████████████████████████████████████████████████| 9/9 [00:00<00:00, 249.60it/s, loss=0.547]\n"
     ]
    },
    {
     "name": "stdout",
     "output_type": "stream",
     "text": [
      "Epoch [427/3000]: Train loss: 0.7604, Valid loss: 1.0000\n"
     ]
    },
    {
     "name": "stderr",
     "output_type": "stream",
     "text": [
      "Epoch [428/3000]: 100%|█████████████████████████████████████████████████████| 9/9 [00:00<00:00, 241.30it/s, loss=0.849]\n"
     ]
    },
    {
     "name": "stdout",
     "output_type": "stream",
     "text": [
      "Epoch [428/3000]: Train loss: 0.7796, Valid loss: 0.9735\n"
     ]
    },
    {
     "name": "stderr",
     "output_type": "stream",
     "text": [
      "Epoch [429/3000]: 100%|██████████████████████████████████████████████████████| 9/9 [00:00<00:00, 247.93it/s, loss=0.79]\n"
     ]
    },
    {
     "name": "stdout",
     "output_type": "stream",
     "text": [
      "Epoch [429/3000]: Train loss: 0.8034, Valid loss: 1.1707\n"
     ]
    },
    {
     "name": "stderr",
     "output_type": "stream",
     "text": [
      "Epoch [430/3000]: 100%|█████████████████████████████████████████████████████| 9/9 [00:00<00:00, 243.38it/s, loss=0.771]\n"
     ]
    },
    {
     "name": "stdout",
     "output_type": "stream",
     "text": [
      "Epoch [430/3000]: Train loss: 0.8104, Valid loss: 1.1176\n"
     ]
    },
    {
     "name": "stderr",
     "output_type": "stream",
     "text": [
      "Epoch [431/3000]: 100%|█████████████████████████████████████████████████████| 9/9 [00:00<00:00, 250.83it/s, loss=0.758]\n"
     ]
    },
    {
     "name": "stdout",
     "output_type": "stream",
     "text": [
      "Epoch [431/3000]: Train loss: 0.7821, Valid loss: 1.1948\n"
     ]
    },
    {
     "name": "stderr",
     "output_type": "stream",
     "text": [
      "Epoch [432/3000]: 100%|██████████████████████████████████████████████████████| 9/9 [00:00<00:00, 237.63it/s, loss=1.01]\n"
     ]
    },
    {
     "name": "stdout",
     "output_type": "stream",
     "text": [
      "Epoch [432/3000]: Train loss: 0.9455, Valid loss: 1.1119\n"
     ]
    },
    {
     "name": "stderr",
     "output_type": "stream",
     "text": [
      "Epoch [433/3000]: 100%|█████████████████████████████████████████████████████| 9/9 [00:00<00:00, 258.01it/s, loss=0.612]\n"
     ]
    },
    {
     "name": "stdout",
     "output_type": "stream",
     "text": [
      "Epoch [433/3000]: Train loss: 0.7539, Valid loss: 0.9805\n"
     ]
    },
    {
     "name": "stderr",
     "output_type": "stream",
     "text": [
      "Epoch [434/3000]: 100%|█████████████████████████████████████████████████████| 9/9 [00:00<00:00, 250.84it/s, loss=0.812]\n"
     ]
    },
    {
     "name": "stdout",
     "output_type": "stream",
     "text": [
      "Epoch [434/3000]: Train loss: 0.7902, Valid loss: 1.2484\n"
     ]
    },
    {
     "name": "stderr",
     "output_type": "stream",
     "text": [
      "Epoch [435/3000]: 100%|█████████████████████████████████████████████████████| 9/9 [00:00<00:00, 247.02it/s, loss=0.862]\n"
     ]
    },
    {
     "name": "stdout",
     "output_type": "stream",
     "text": [
      "Epoch [435/3000]: Train loss: 0.8111, Valid loss: 1.1468\n"
     ]
    },
    {
     "name": "stderr",
     "output_type": "stream",
     "text": [
      "Epoch [436/3000]: 100%|█████████████████████████████████████████████████████| 9/9 [00:00<00:00, 250.84it/s, loss=0.496]\n"
     ]
    },
    {
     "name": "stdout",
     "output_type": "stream",
     "text": [
      "Epoch [436/3000]: Train loss: 0.7780, Valid loss: 1.0740\n"
     ]
    },
    {
     "name": "stderr",
     "output_type": "stream",
     "text": [
      "Epoch [437/3000]: 100%|█████████████████████████████████████████████████████| 9/9 [00:00<00:00, 264.38it/s, loss=0.724]\n"
     ]
    },
    {
     "name": "stdout",
     "output_type": "stream",
     "text": [
      "Epoch [437/3000]: Train loss: 0.7890, Valid loss: 1.2772\n"
     ]
    },
    {
     "name": "stderr",
     "output_type": "stream",
     "text": [
      "Epoch [438/3000]: 100%|█████████████████████████████████████████████████████| 9/9 [00:00<00:00, 265.59it/s, loss=0.601]\n"
     ]
    },
    {
     "name": "stdout",
     "output_type": "stream",
     "text": [
      "Epoch [438/3000]: Train loss: 0.8060, Valid loss: 1.1132\n"
     ]
    },
    {
     "name": "stderr",
     "output_type": "stream",
     "text": [
      "Epoch [439/3000]: 100%|█████████████████████████████████████████████████████| 9/9 [00:00<00:00, 265.59it/s, loss=0.908]\n"
     ]
    },
    {
     "name": "stdout",
     "output_type": "stream",
     "text": [
      "Epoch [439/3000]: Train loss: 0.8183, Valid loss: 1.1498\n"
     ]
    },
    {
     "name": "stderr",
     "output_type": "stream",
     "text": [
      "Epoch [440/3000]: 100%|██████████████████████████████████████████████████████| 9/9 [00:00<00:00, 265.58it/s, loss=1.07]\n"
     ]
    },
    {
     "name": "stdout",
     "output_type": "stream",
     "text": [
      "Epoch [440/3000]: Train loss: 0.8298, Valid loss: 1.1494\n"
     ]
    },
    {
     "name": "stderr",
     "output_type": "stream",
     "text": [
      "Epoch [441/3000]: 100%|█████████████████████████████████████████████████████| 9/9 [00:00<00:00, 253.77it/s, loss=0.888]\n"
     ]
    },
    {
     "name": "stdout",
     "output_type": "stream",
     "text": [
      "Epoch [441/3000]: Train loss: 0.7843, Valid loss: 1.0895\n"
     ]
    },
    {
     "name": "stderr",
     "output_type": "stream",
     "text": [
      "Epoch [442/3000]: 100%|█████████████████████████████████████████████████████| 9/9 [00:00<00:00, 250.83it/s, loss=0.957]\n"
     ]
    },
    {
     "name": "stdout",
     "output_type": "stream",
     "text": [
      "Epoch [442/3000]: Train loss: 0.7718, Valid loss: 1.0861\n"
     ]
    },
    {
     "name": "stderr",
     "output_type": "stream",
     "text": [
      "Epoch [443/3000]: 100%|█████████████████████████████████████████████████████| 9/9 [00:00<00:00, 248.19it/s, loss=0.552]\n"
     ]
    },
    {
     "name": "stdout",
     "output_type": "stream",
     "text": [
      "Epoch [443/3000]: Train loss: 0.7593, Valid loss: 1.0309\n"
     ]
    },
    {
     "name": "stderr",
     "output_type": "stream",
     "text": [
      "Epoch [444/3000]: 100%|█████████████████████████████████████████████████████| 9/9 [00:00<00:00, 243.37it/s, loss=0.597]\n"
     ]
    },
    {
     "name": "stdout",
     "output_type": "stream",
     "text": [
      "Epoch [444/3000]: Train loss: 0.7585, Valid loss: 1.5426\n"
     ]
    },
    {
     "name": "stderr",
     "output_type": "stream",
     "text": [
      "Epoch [445/3000]: 100%|█████████████████████████████████████████████████████| 9/9 [00:00<00:00, 250.34it/s, loss=0.781]\n"
     ]
    },
    {
     "name": "stdout",
     "output_type": "stream",
     "text": [
      "Epoch [445/3000]: Train loss: 0.8289, Valid loss: 0.9630\n"
     ]
    },
    {
     "name": "stderr",
     "output_type": "stream",
     "text": [
      "Epoch [446/3000]: 100%|█████████████████████████████████████████████████████| 9/9 [00:00<00:00, 243.91it/s, loss=0.564]\n"
     ]
    },
    {
     "name": "stdout",
     "output_type": "stream",
     "text": [
      "Epoch [446/3000]: Train loss: 0.8016, Valid loss: 1.2586\n"
     ]
    },
    {
     "name": "stderr",
     "output_type": "stream",
     "text": [
      "Epoch [447/3000]: 100%|█████████████████████████████████████████████████████| 9/9 [00:00<00:00, 244.05it/s, loss=0.531]\n"
     ]
    },
    {
     "name": "stdout",
     "output_type": "stream",
     "text": [
      "Epoch [447/3000]: Train loss: 0.7919, Valid loss: 1.0279\n"
     ]
    },
    {
     "name": "stderr",
     "output_type": "stream",
     "text": [
      "Epoch [448/3000]: 100%|██████████████████████████████████████████████████████| 9/9 [00:00<00:00, 244.05it/s, loss=1.06]\n"
     ]
    },
    {
     "name": "stdout",
     "output_type": "stream",
     "text": [
      "Epoch [448/3000]: Train loss: 0.7841, Valid loss: 0.9903\n"
     ]
    },
    {
     "name": "stderr",
     "output_type": "stream",
     "text": [
      "Epoch [449/3000]: 100%|█████████████████████████████████████████████████████| 9/9 [00:00<00:00, 260.29it/s, loss=0.705]\n"
     ]
    },
    {
     "name": "stdout",
     "output_type": "stream",
     "text": [
      "Epoch [449/3000]: Train loss: 0.7839, Valid loss: 1.1030\n"
     ]
    },
    {
     "name": "stderr",
     "output_type": "stream",
     "text": [
      "Epoch [450/3000]: 100%|█████████████████████████████████████████████████████| 9/9 [00:00<00:00, 265.62it/s, loss=0.932]\n"
     ]
    },
    {
     "name": "stdout",
     "output_type": "stream",
     "text": [
      "Epoch [450/3000]: Train loss: 0.8241, Valid loss: 1.1739\n"
     ]
    },
    {
     "name": "stderr",
     "output_type": "stream",
     "text": [
      "Epoch [451/3000]: 100%|█████████████████████████████████████████████████████| 9/9 [00:00<00:00, 263.16it/s, loss=0.731]\n"
     ]
    },
    {
     "name": "stdout",
     "output_type": "stream",
     "text": [
      "Epoch [451/3000]: Train loss: 0.7791, Valid loss: 0.9152\n"
     ]
    },
    {
     "name": "stderr",
     "output_type": "stream",
     "text": [
      "Epoch [452/3000]: 100%|█████████████████████████████████████████████████████| 9/9 [00:00<00:00, 262.35it/s, loss=0.701]\n"
     ]
    },
    {
     "name": "stdout",
     "output_type": "stream",
     "text": [
      "Epoch [452/3000]: Train loss: 0.8421, Valid loss: 1.2738\n"
     ]
    },
    {
     "name": "stderr",
     "output_type": "stream",
     "text": [
      "Epoch [453/3000]: 100%|█████████████████████████████████████████████████████| 9/9 [00:00<00:00, 272.54it/s, loss=0.608]\n"
     ]
    },
    {
     "name": "stdout",
     "output_type": "stream",
     "text": [
      "Epoch [453/3000]: Train loss: 0.8259, Valid loss: 1.0250\n"
     ]
    },
    {
     "name": "stderr",
     "output_type": "stream",
     "text": [
      "Epoch [454/3000]: 100%|█████████████████████████████████████████████████████| 9/9 [00:00<00:00, 265.53it/s, loss=0.749]\n"
     ]
    },
    {
     "name": "stdout",
     "output_type": "stream",
     "text": [
      "Epoch [454/3000]: Train loss: 0.7858, Valid loss: 1.0358\n"
     ]
    },
    {
     "name": "stderr",
     "output_type": "stream",
     "text": [
      "Epoch [455/3000]: 100%|█████████████████████████████████████████████████████| 9/9 [00:00<00:00, 256.93it/s, loss=0.827]\n"
     ]
    },
    {
     "name": "stdout",
     "output_type": "stream",
     "text": [
      "Epoch [455/3000]: Train loss: 0.8424, Valid loss: 0.9835\n"
     ]
    },
    {
     "name": "stderr",
     "output_type": "stream",
     "text": [
      "Epoch [456/3000]: 100%|█████████████████████████████████████████████████████| 9/9 [00:00<00:00, 236.37it/s, loss=0.969]\n"
     ]
    },
    {
     "name": "stdout",
     "output_type": "stream",
     "text": [
      "Epoch [456/3000]: Train loss: 0.8045, Valid loss: 0.9315\n"
     ]
    },
    {
     "name": "stderr",
     "output_type": "stream",
     "text": [
      "Epoch [457/3000]: 100%|█████████████████████████████████████████████████████| 9/9 [00:00<00:00, 187.37it/s, loss=0.636]\n"
     ]
    },
    {
     "name": "stdout",
     "output_type": "stream",
     "text": [
      "Epoch [457/3000]: Train loss: 0.7684, Valid loss: 1.1966\n"
     ]
    },
    {
     "name": "stderr",
     "output_type": "stream",
     "text": [
      "Epoch [458/3000]: 100%|█████████████████████████████████████████████████████| 9/9 [00:00<00:00, 244.05it/s, loss=0.849]\n"
     ]
    },
    {
     "name": "stdout",
     "output_type": "stream",
     "text": [
      "Epoch [458/3000]: Train loss: 0.7619, Valid loss: 1.3003\n"
     ]
    },
    {
     "name": "stderr",
     "output_type": "stream",
     "text": [
      "Epoch [459/3000]: 100%|█████████████████████████████████████████████████████| 9/9 [00:00<00:00, 243.96it/s, loss=0.799]\n"
     ]
    },
    {
     "name": "stdout",
     "output_type": "stream",
     "text": [
      "Epoch [459/3000]: Train loss: 0.8420, Valid loss: 1.3952\n"
     ]
    },
    {
     "name": "stderr",
     "output_type": "stream",
     "text": [
      "Epoch [460/3000]: 100%|█████████████████████████████████████████████████████| 9/9 [00:00<00:00, 239.57it/s, loss=0.814]\n"
     ]
    },
    {
     "name": "stdout",
     "output_type": "stream",
     "text": [
      "Epoch [460/3000]: Train loss: 0.7986, Valid loss: 1.3824\n"
     ]
    },
    {
     "name": "stderr",
     "output_type": "stream",
     "text": [
      "Epoch [461/3000]: 100%|█████████████████████████████████████████████████████| 9/9 [00:00<00:00, 248.00it/s, loss=0.501]\n"
     ]
    },
    {
     "name": "stdout",
     "output_type": "stream",
     "text": [
      "Epoch [461/3000]: Train loss: 0.7719, Valid loss: 1.0291\n"
     ]
    },
    {
     "name": "stderr",
     "output_type": "stream",
     "text": [
      "Epoch [462/3000]: 100%|█████████████████████████████████████████████████████| 9/9 [00:00<00:00, 261.16it/s, loss=0.476]\n"
     ]
    },
    {
     "name": "stdout",
     "output_type": "stream",
     "text": [
      "Epoch [462/3000]: Train loss: 0.7825, Valid loss: 1.1029\n"
     ]
    },
    {
     "name": "stderr",
     "output_type": "stream",
     "text": [
      "Epoch [463/3000]: 100%|█████████████████████████████████████████████████████| 9/9 [00:00<00:00, 251.59it/s, loss=0.699]\n"
     ]
    },
    {
     "name": "stdout",
     "output_type": "stream",
     "text": [
      "Epoch [463/3000]: Train loss: 0.8584, Valid loss: 1.4120\n"
     ]
    },
    {
     "name": "stderr",
     "output_type": "stream",
     "text": [
      "Epoch [464/3000]: 100%|█████████████████████████████████████████████████████| 9/9 [00:00<00:00, 249.96it/s, loss=0.824]\n"
     ]
    },
    {
     "name": "stdout",
     "output_type": "stream",
     "text": [
      "Epoch [464/3000]: Train loss: 0.7491, Valid loss: 0.9269\n"
     ]
    },
    {
     "name": "stderr",
     "output_type": "stream",
     "text": [
      "Epoch [465/3000]: 100%|█████████████████████████████████████████████████████| 9/9 [00:00<00:00, 263.43it/s, loss=0.642]\n"
     ]
    },
    {
     "name": "stdout",
     "output_type": "stream",
     "text": [
      "Epoch [465/3000]: Train loss: 0.8204, Valid loss: 1.1134\n"
     ]
    },
    {
     "name": "stderr",
     "output_type": "stream",
     "text": [
      "Epoch [466/3000]: 100%|█████████████████████████████████████████████████████| 9/9 [00:00<00:00, 258.00it/s, loss=0.914]\n"
     ]
    },
    {
     "name": "stdout",
     "output_type": "stream",
     "text": [
      "Epoch [466/3000]: Train loss: 0.8029, Valid loss: 1.2044\n"
     ]
    },
    {
     "name": "stderr",
     "output_type": "stream",
     "text": [
      "Epoch [467/3000]: 100%|██████████████████████████████████████████████████████| 9/9 [00:00<00:00, 265.59it/s, loss=0.93]\n"
     ]
    },
    {
     "name": "stdout",
     "output_type": "stream",
     "text": [
      "Epoch [467/3000]: Train loss: 0.8166, Valid loss: 1.3572\n"
     ]
    },
    {
     "name": "stderr",
     "output_type": "stream",
     "text": [
      "Epoch [468/3000]: 100%|█████████████████████████████████████████████████████| 9/9 [00:00<00:00, 250.83it/s, loss=0.682]\n"
     ]
    },
    {
     "name": "stdout",
     "output_type": "stream",
     "text": [
      "Epoch [468/3000]: Train loss: 0.7584, Valid loss: 1.0810\n"
     ]
    },
    {
     "name": "stderr",
     "output_type": "stream",
     "text": [
      "Epoch [469/3000]: 100%|██████████████████████████████████████████████████████| 9/9 [00:00<00:00, 267.49it/s, loss=0.63]\n"
     ]
    },
    {
     "name": "stdout",
     "output_type": "stream",
     "text": [
      "Epoch [469/3000]: Train loss: 0.7811, Valid loss: 1.2525\n"
     ]
    },
    {
     "name": "stderr",
     "output_type": "stream",
     "text": [
      "Epoch [470/3000]: 100%|█████████████████████████████████████████████████████| 9/9 [00:00<00:00, 258.00it/s, loss=0.968]\n"
     ]
    },
    {
     "name": "stdout",
     "output_type": "stream",
     "text": [
      "Epoch [470/3000]: Train loss: 0.7569, Valid loss: 0.9336\n"
     ]
    },
    {
     "name": "stderr",
     "output_type": "stream",
     "text": [
      "Epoch [471/3000]: 100%|█████████████████████████████████████████████████████| 9/9 [00:00<00:00, 258.00it/s, loss=0.724]\n"
     ]
    },
    {
     "name": "stdout",
     "output_type": "stream",
     "text": [
      "Epoch [471/3000]: Train loss: 0.8204, Valid loss: 0.9798\n"
     ]
    },
    {
     "name": "stderr",
     "output_type": "stream",
     "text": [
      "Epoch [472/3000]: 100%|██████████████████████████████████████████████████████| 9/9 [00:00<00:00, 250.83it/s, loss=0.69]\n"
     ]
    },
    {
     "name": "stdout",
     "output_type": "stream",
     "text": [
      "Epoch [472/3000]: Train loss: 0.7470, Valid loss: 1.0557\n"
     ]
    },
    {
     "name": "stderr",
     "output_type": "stream",
     "text": [
      "Epoch [473/3000]: 100%|█████████████████████████████████████████████████████| 9/9 [00:00<00:00, 263.99it/s, loss=0.875]\n"
     ]
    },
    {
     "name": "stdout",
     "output_type": "stream",
     "text": [
      "Epoch [473/3000]: Train loss: 0.7753, Valid loss: 1.0265\n"
     ]
    },
    {
     "name": "stderr",
     "output_type": "stream",
     "text": [
      "Epoch [474/3000]: 100%|█████████████████████████████████████████████████████| 9/9 [00:00<00:00, 253.91it/s, loss=0.722]\n"
     ]
    },
    {
     "name": "stdout",
     "output_type": "stream",
     "text": [
      "Epoch [474/3000]: Train loss: 0.7534, Valid loss: 1.0706\n"
     ]
    },
    {
     "name": "stderr",
     "output_type": "stream",
     "text": [
      "Epoch [475/3000]: 100%|█████████████████████████████████████████████████████| 9/9 [00:00<00:00, 244.05it/s, loss=0.907]\n"
     ]
    },
    {
     "name": "stdout",
     "output_type": "stream",
     "text": [
      "Epoch [475/3000]: Train loss: 0.7496, Valid loss: 0.9821\n"
     ]
    },
    {
     "name": "stderr",
     "output_type": "stream",
     "text": [
      "Epoch [476/3000]: 100%|█████████████████████████████████████████████████████| 9/9 [00:00<00:00, 244.06it/s, loss=0.795]\n"
     ]
    },
    {
     "name": "stdout",
     "output_type": "stream",
     "text": [
      "Epoch [476/3000]: Train loss: 0.7785, Valid loss: 1.0491\n"
     ]
    },
    {
     "name": "stderr",
     "output_type": "stream",
     "text": [
      "Epoch [477/3000]: 100%|█████████████████████████████████████████████████████| 9/9 [00:00<00:00, 250.84it/s, loss=0.886]\n"
     ]
    },
    {
     "name": "stdout",
     "output_type": "stream",
     "text": [
      "Epoch [477/3000]: Train loss: 0.8184, Valid loss: 1.0448\n"
     ]
    },
    {
     "name": "stderr",
     "output_type": "stream",
     "text": [
      "Epoch [478/3000]: 100%|██████████████████████████████████████████████████████| 9/9 [00:00<00:00, 84.61it/s, loss=0.498]\n"
     ]
    },
    {
     "name": "stdout",
     "output_type": "stream",
     "text": [
      "Epoch [478/3000]: Train loss: 0.8302, Valid loss: 1.1646\n"
     ]
    },
    {
     "name": "stderr",
     "output_type": "stream",
     "text": [
      "Epoch [479/3000]: 100%|██████████████████████████████████████████████████████| 9/9 [00:00<00:00, 257.99it/s, loss=1.36]\n"
     ]
    },
    {
     "name": "stdout",
     "output_type": "stream",
     "text": [
      "Epoch [479/3000]: Train loss: 0.8579, Valid loss: 0.9190\n"
     ]
    },
    {
     "name": "stderr",
     "output_type": "stream",
     "text": [
      "Epoch [480/3000]: 100%|█████████████████████████████████████████████████████| 9/9 [00:00<00:00, 251.60it/s, loss=0.832]\n"
     ]
    },
    {
     "name": "stdout",
     "output_type": "stream",
     "text": [
      "Epoch [480/3000]: Train loss: 0.7680, Valid loss: 1.1933\n"
     ]
    },
    {
     "name": "stderr",
     "output_type": "stream",
     "text": [
      "Epoch [481/3000]: 100%|██████████████████████████████████████████████████████| 9/9 [00:00<00:00, 244.06it/s, loss=1.15]\n"
     ]
    },
    {
     "name": "stdout",
     "output_type": "stream",
     "text": [
      "Epoch [481/3000]: Train loss: 0.8103, Valid loss: 1.3760\n"
     ]
    },
    {
     "name": "stderr",
     "output_type": "stream",
     "text": [
      "Epoch [482/3000]: 100%|██████████████████████████████████████████████████████| 9/9 [00:00<00:00, 250.84it/s, loss=0.78]\n"
     ]
    },
    {
     "name": "stdout",
     "output_type": "stream",
     "text": [
      "Epoch [482/3000]: Train loss: 0.7561, Valid loss: 1.1304\n"
     ]
    },
    {
     "name": "stderr",
     "output_type": "stream",
     "text": [
      "Epoch [483/3000]: 100%|█████████████████████████████████████████████████████| 9/9 [00:00<00:00, 256.60it/s, loss=0.724]\n"
     ]
    },
    {
     "name": "stdout",
     "output_type": "stream",
     "text": [
      "Epoch [483/3000]: Train loss: 0.7670, Valid loss: 2.1026\n"
     ]
    },
    {
     "name": "stderr",
     "output_type": "stream",
     "text": [
      "Epoch [484/3000]: 100%|██████████████████████████████████████████████████████| 9/9 [00:00<00:00, 236.22it/s, loss=1.21]\n"
     ]
    },
    {
     "name": "stdout",
     "output_type": "stream",
     "text": [
      "Epoch [484/3000]: Train loss: 0.8699, Valid loss: 0.9715\n"
     ]
    },
    {
     "name": "stderr",
     "output_type": "stream",
     "text": [
      "Epoch [485/3000]: 100%|██████████████████████████████████████████████████████| 9/9 [00:00<00:00, 264.86it/s, loss=0.88]\n"
     ]
    },
    {
     "name": "stdout",
     "output_type": "stream",
     "text": [
      "Epoch [485/3000]: Train loss: 0.7581, Valid loss: 1.2011\n"
     ]
    },
    {
     "name": "stderr",
     "output_type": "stream",
     "text": [
      "Epoch [486/3000]: 100%|█████████████████████████████████████████████████████| 9/9 [00:00<00:00, 250.84it/s, loss=0.645]\n"
     ]
    },
    {
     "name": "stdout",
     "output_type": "stream",
     "text": [
      "Epoch [486/3000]: Train loss: 0.7668, Valid loss: 1.2767\n"
     ]
    },
    {
     "name": "stderr",
     "output_type": "stream",
     "text": [
      "Epoch [487/3000]: 100%|█████████████████████████████████████████████████████| 9/9 [00:00<00:00, 174.30it/s, loss=0.673]\n"
     ]
    },
    {
     "name": "stdout",
     "output_type": "stream",
     "text": [
      "Epoch [487/3000]: Train loss: 0.7587, Valid loss: 1.2270\n"
     ]
    },
    {
     "name": "stderr",
     "output_type": "stream",
     "text": [
      "Epoch [488/3000]: 100%|██████████████████████████████████████████████████████| 9/9 [00:00<00:00, 244.06it/s, loss=1.19]\n"
     ]
    },
    {
     "name": "stdout",
     "output_type": "stream",
     "text": [
      "Epoch [488/3000]: Train loss: 0.8299, Valid loss: 1.0993\n"
     ]
    },
    {
     "name": "stderr",
     "output_type": "stream",
     "text": [
      "Epoch [489/3000]: 100%|█████████████████████████████████████████████████████| 9/9 [00:00<00:00, 249.52it/s, loss=0.758]\n"
     ]
    },
    {
     "name": "stdout",
     "output_type": "stream",
     "text": [
      "Epoch [489/3000]: Train loss: 0.7623, Valid loss: 0.9374\n"
     ]
    },
    {
     "name": "stderr",
     "output_type": "stream",
     "text": [
      "Epoch [490/3000]: 100%|█████████████████████████████████████████████████████| 9/9 [00:00<00:00, 250.84it/s, loss=0.545]\n"
     ]
    },
    {
     "name": "stdout",
     "output_type": "stream",
     "text": [
      "Epoch [490/3000]: Train loss: 0.8237, Valid loss: 1.3698\n"
     ]
    },
    {
     "name": "stderr",
     "output_type": "stream",
     "text": [
      "Epoch [491/3000]: 100%|██████████████████████████████████████████████████████| 9/9 [00:00<00:00, 258.00it/s, loss=1.03]\n"
     ]
    },
    {
     "name": "stdout",
     "output_type": "stream",
     "text": [
      "Epoch [491/3000]: Train loss: 0.7844, Valid loss: 0.9678\n"
     ]
    },
    {
     "name": "stderr",
     "output_type": "stream",
     "text": [
      "Epoch [492/3000]: 100%|█████████████████████████████████████████████████████| 9/9 [00:00<00:00, 244.07it/s, loss=0.607]\n"
     ]
    },
    {
     "name": "stdout",
     "output_type": "stream",
     "text": [
      "Epoch [492/3000]: Train loss: 0.7386, Valid loss: 1.4802\n"
     ]
    },
    {
     "name": "stderr",
     "output_type": "stream",
     "text": [
      "Epoch [493/3000]: 100%|█████████████████████████████████████████████████████| 9/9 [00:00<00:00, 250.84it/s, loss=0.646]\n"
     ]
    },
    {
     "name": "stdout",
     "output_type": "stream",
     "text": [
      "Epoch [493/3000]: Train loss: 0.7629, Valid loss: 1.0148\n"
     ]
    },
    {
     "name": "stderr",
     "output_type": "stream",
     "text": [
      "Epoch [494/3000]: 100%|██████████████████████████████████████████████████████| 9/9 [00:00<00:00, 237.69it/s, loss=0.67]\n"
     ]
    },
    {
     "name": "stdout",
     "output_type": "stream",
     "text": [
      "Epoch [494/3000]: Train loss: 0.7807, Valid loss: 1.5309\n"
     ]
    },
    {
     "name": "stderr",
     "output_type": "stream",
     "text": [
      "Epoch [495/3000]: 100%|█████████████████████████████████████████████████████| 9/9 [00:00<00:00, 246.84it/s, loss=0.993]\n"
     ]
    },
    {
     "name": "stdout",
     "output_type": "stream",
     "text": [
      "Epoch [495/3000]: Train loss: 0.7833, Valid loss: 1.0567\n"
     ]
    },
    {
     "name": "stderr",
     "output_type": "stream",
     "text": [
      "Epoch [496/3000]: 100%|█████████████████████████████████████████████████████| 9/9 [00:00<00:00, 250.86it/s, loss=0.761]\n"
     ]
    },
    {
     "name": "stdout",
     "output_type": "stream",
     "text": [
      "Epoch [496/3000]: Train loss: 0.7944, Valid loss: 0.9918\n"
     ]
    },
    {
     "name": "stderr",
     "output_type": "stream",
     "text": [
      "Epoch [497/3000]: 100%|██████████████████████████████████████████████████████| 9/9 [00:00<00:00, 234.21it/s, loss=1.28]\n"
     ]
    },
    {
     "name": "stdout",
     "output_type": "stream",
     "text": [
      "Epoch [497/3000]: Train loss: 0.7612, Valid loss: 1.3030\n"
     ]
    },
    {
     "name": "stderr",
     "output_type": "stream",
     "text": [
      "Epoch [498/3000]: 100%|██████████████████████████████████████████████████████| 9/9 [00:00<00:00, 258.00it/s, loss=1.36]\n"
     ]
    },
    {
     "name": "stdout",
     "output_type": "stream",
     "text": [
      "Epoch [498/3000]: Train loss: 0.9132, Valid loss: 1.3931\n"
     ]
    },
    {
     "name": "stderr",
     "output_type": "stream",
     "text": [
      "Epoch [499/3000]: 100%|█████████████████████████████████████████████████████| 9/9 [00:00<00:00, 254.34it/s, loss=0.707]\n"
     ]
    },
    {
     "name": "stdout",
     "output_type": "stream",
     "text": [
      "Epoch [499/3000]: Train loss: 0.7715, Valid loss: 1.1189\n"
     ]
    },
    {
     "name": "stderr",
     "output_type": "stream",
     "text": [
      "Epoch [500/3000]: 100%|█████████████████████████████████████████████████████| 9/9 [00:00<00:00, 231.54it/s, loss=0.891]\n"
     ]
    },
    {
     "name": "stdout",
     "output_type": "stream",
     "text": [
      "Epoch [500/3000]: Train loss: 0.8457, Valid loss: 1.1127\n"
     ]
    },
    {
     "name": "stderr",
     "output_type": "stream",
     "text": [
      "Epoch [501/3000]: 100%|█████████████████████████████████████████████████████| 9/9 [00:00<00:00, 244.06it/s, loss=0.624]\n"
     ]
    },
    {
     "name": "stdout",
     "output_type": "stream",
     "text": [
      "Epoch [501/3000]: Train loss: 0.7682, Valid loss: 1.1038\n"
     ]
    },
    {
     "name": "stderr",
     "output_type": "stream",
     "text": [
      "Epoch [502/3000]: 100%|█████████████████████████████████████████████████████| 9/9 [00:00<00:00, 240.47it/s, loss=0.762]\n"
     ]
    },
    {
     "name": "stdout",
     "output_type": "stream",
     "text": [
      "Epoch [502/3000]: Train loss: 0.7463, Valid loss: 0.9669\n"
     ]
    },
    {
     "name": "stderr",
     "output_type": "stream",
     "text": [
      "Epoch [503/3000]: 100%|█████████████████████████████████████████████████████| 9/9 [00:00<00:00, 244.06it/s, loss=0.678]\n"
     ]
    },
    {
     "name": "stdout",
     "output_type": "stream",
     "text": [
      "Epoch [503/3000]: Train loss: 0.7633, Valid loss: 1.6257\n"
     ]
    },
    {
     "name": "stderr",
     "output_type": "stream",
     "text": [
      "Epoch [504/3000]: 100%|█████████████████████████████████████████████████████| 9/9 [00:00<00:00, 258.91it/s, loss=0.731]\n"
     ]
    },
    {
     "name": "stdout",
     "output_type": "stream",
     "text": [
      "Epoch [504/3000]: Train loss: 0.7571, Valid loss: 1.0042\n"
     ]
    },
    {
     "name": "stderr",
     "output_type": "stream",
     "text": [
      "Epoch [505/3000]: 100%|█████████████████████████████████████████████████████| 9/9 [00:00<00:00, 215.00it/s, loss=0.587]\n"
     ]
    },
    {
     "name": "stdout",
     "output_type": "stream",
     "text": [
      "Epoch [505/3000]: Train loss: 0.7966, Valid loss: 1.4493\n"
     ]
    },
    {
     "name": "stderr",
     "output_type": "stream",
     "text": [
      "Epoch [506/3000]: 100%|█████████████████████████████████████████████████████| 9/9 [00:00<00:00, 177.06it/s, loss=0.903]\n"
     ]
    },
    {
     "name": "stdout",
     "output_type": "stream",
     "text": [
      "Epoch [506/3000]: Train loss: 0.8337, Valid loss: 1.0619\n"
     ]
    },
    {
     "name": "stderr",
     "output_type": "stream",
     "text": [
      "Epoch [507/3000]: 100%|█████████████████████████████████████████████████████| 9/9 [00:00<00:00, 212.65it/s, loss=0.704]\n"
     ]
    },
    {
     "name": "stdout",
     "output_type": "stream",
     "text": [
      "Epoch [507/3000]: Train loss: 0.7506, Valid loss: 1.1909\n"
     ]
    },
    {
     "name": "stderr",
     "output_type": "stream",
     "text": [
      "Epoch [508/3000]: 100%|█████████████████████████████████████████████████████| 9/9 [00:00<00:00, 238.05it/s, loss=0.872]\n"
     ]
    },
    {
     "name": "stdout",
     "output_type": "stream",
     "text": [
      "Epoch [508/3000]: Train loss: 0.7996, Valid loss: 1.2175\n"
     ]
    },
    {
     "name": "stderr",
     "output_type": "stream",
     "text": [
      "Epoch [509/3000]: 100%|█████████████████████████████████████████████████████| 9/9 [00:00<00:00, 250.83it/s, loss=0.937]\n"
     ]
    },
    {
     "name": "stdout",
     "output_type": "stream",
     "text": [
      "Epoch [509/3000]: Train loss: 0.7576, Valid loss: 1.4074\n"
     ]
    },
    {
     "name": "stderr",
     "output_type": "stream",
     "text": [
      "Epoch [510/3000]: 100%|█████████████████████████████████████████████████████| 9/9 [00:00<00:00, 235.34it/s, loss=0.635]\n"
     ]
    },
    {
     "name": "stdout",
     "output_type": "stream",
     "text": [
      "Epoch [510/3000]: Train loss: 0.7568, Valid loss: 1.3704\n"
     ]
    },
    {
     "name": "stderr",
     "output_type": "stream",
     "text": [
      "Epoch [511/3000]: 100%|█████████████████████████████████████████████████████| 9/9 [00:00<00:00, 237.63it/s, loss=0.497]\n"
     ]
    },
    {
     "name": "stdout",
     "output_type": "stream",
     "text": [
      "Epoch [511/3000]: Train loss: 0.7854, Valid loss: 1.1637\n"
     ]
    },
    {
     "name": "stderr",
     "output_type": "stream",
     "text": [
      "Epoch [512/3000]: 100%|█████████████████████████████████████████████████████| 9/9 [00:00<00:00, 267.73it/s, loss=0.537]\n"
     ]
    },
    {
     "name": "stdout",
     "output_type": "stream",
     "text": [
      "Epoch [512/3000]: Train loss: 0.7701, Valid loss: 1.1224\n"
     ]
    },
    {
     "name": "stderr",
     "output_type": "stream",
     "text": [
      "Epoch [513/3000]: 100%|█████████████████████████████████████████████████████| 9/9 [00:00<00:00, 237.63it/s, loss=0.772]\n"
     ]
    },
    {
     "name": "stdout",
     "output_type": "stream",
     "text": [
      "Epoch [513/3000]: Train loss: 0.7682, Valid loss: 1.0835\n"
     ]
    },
    {
     "name": "stderr",
     "output_type": "stream",
     "text": [
      "Epoch [514/3000]: 100%|█████████████████████████████████████████████████████| 9/9 [00:00<00:00, 228.52it/s, loss=0.698]\n"
     ]
    },
    {
     "name": "stdout",
     "output_type": "stream",
     "text": [
      "Epoch [514/3000]: Train loss: 0.7936, Valid loss: 1.0715\n"
     ]
    },
    {
     "name": "stderr",
     "output_type": "stream",
     "text": [
      "Epoch [515/3000]: 100%|█████████████████████████████████████████████████████| 9/9 [00:00<00:00, 231.54it/s, loss=0.706]\n"
     ]
    },
    {
     "name": "stdout",
     "output_type": "stream",
     "text": [
      "Epoch [515/3000]: Train loss: 0.8871, Valid loss: 1.5516\n"
     ]
    },
    {
     "name": "stderr",
     "output_type": "stream",
     "text": [
      "Epoch [516/3000]: 100%|█████████████████████████████████████████████████████| 9/9 [00:00<00:00, 273.64it/s, loss=0.855]\n"
     ]
    },
    {
     "name": "stdout",
     "output_type": "stream",
     "text": [
      "Epoch [516/3000]: Train loss: 0.7974, Valid loss: 1.3201\n"
     ]
    },
    {
     "name": "stderr",
     "output_type": "stream",
     "text": [
      "Epoch [517/3000]: 100%|█████████████████████████████████████████████████████| 9/9 [00:00<00:00, 242.23it/s, loss=0.921]\n"
     ]
    },
    {
     "name": "stdout",
     "output_type": "stream",
     "text": [
      "Epoch [517/3000]: Train loss: 0.7426, Valid loss: 1.1988\n"
     ]
    },
    {
     "name": "stderr",
     "output_type": "stream",
     "text": [
      "Epoch [518/3000]: 100%|██████████████████████████████████████████████████████| 9/9 [00:00<00:00, 258.01it/s, loss=0.83]\n"
     ]
    },
    {
     "name": "stdout",
     "output_type": "stream",
     "text": [
      "Epoch [518/3000]: Train loss: 0.8226, Valid loss: 1.3821\n"
     ]
    },
    {
     "name": "stderr",
     "output_type": "stream",
     "text": [
      "Epoch [519/3000]: 100%|█████████████████████████████████████████████████████| 9/9 [00:00<00:00, 265.77it/s, loss=0.763]\n"
     ]
    },
    {
     "name": "stdout",
     "output_type": "stream",
     "text": [
      "Epoch [519/3000]: Train loss: 0.7756, Valid loss: 1.1181\n"
     ]
    },
    {
     "name": "stderr",
     "output_type": "stream",
     "text": [
      "Epoch [520/3000]: 100%|█████████████████████████████████████████████████████| 9/9 [00:00<00:00, 256.67it/s, loss=0.633]\n"
     ]
    },
    {
     "name": "stdout",
     "output_type": "stream",
     "text": [
      "Epoch [520/3000]: Train loss: 0.8226, Valid loss: 1.1287\n"
     ]
    },
    {
     "name": "stderr",
     "output_type": "stream",
     "text": [
      "Epoch [521/3000]: 100%|█████████████████████████████████████████████████████| 9/9 [00:00<00:00, 240.45it/s, loss=0.727]\n"
     ]
    },
    {
     "name": "stdout",
     "output_type": "stream",
     "text": [
      "Epoch [521/3000]: Train loss: 0.7665, Valid loss: 1.0093\n"
     ]
    },
    {
     "name": "stderr",
     "output_type": "stream",
     "text": [
      "Epoch [522/3000]: 100%|█████████████████████████████████████████████████████| 9/9 [00:00<00:00, 257.54it/s, loss=0.754]\n"
     ]
    },
    {
     "name": "stdout",
     "output_type": "stream",
     "text": [
      "Epoch [522/3000]: Train loss: 0.7645, Valid loss: 1.2742\n"
     ]
    },
    {
     "name": "stderr",
     "output_type": "stream",
     "text": [
      "Epoch [523/3000]: 100%|██████████████████████████████████████████████████████| 9/9 [00:00<00:00, 220.25it/s, loss=0.75]\n"
     ]
    },
    {
     "name": "stdout",
     "output_type": "stream",
     "text": [
      "Epoch [523/3000]: Train loss: 0.7568, Valid loss: 0.9836\n"
     ]
    },
    {
     "name": "stderr",
     "output_type": "stream",
     "text": [
      "Epoch [524/3000]: 100%|█████████████████████████████████████████████████████| 9/9 [00:00<00:00, 258.01it/s, loss=0.705]\n"
     ]
    },
    {
     "name": "stdout",
     "output_type": "stream",
     "text": [
      "Epoch [524/3000]: Train loss: 0.7411, Valid loss: 1.2564\n"
     ]
    },
    {
     "name": "stderr",
     "output_type": "stream",
     "text": [
      "Epoch [525/3000]: 100%|█████████████████████████████████████████████████████| 9/9 [00:00<00:00, 246.87it/s, loss=0.568]\n"
     ]
    },
    {
     "name": "stdout",
     "output_type": "stream",
     "text": [
      "Epoch [525/3000]: Train loss: 0.7674, Valid loss: 0.9765\n"
     ]
    },
    {
     "name": "stderr",
     "output_type": "stream",
     "text": [
      "Epoch [526/3000]: 100%|█████████████████████████████████████████████████████| 9/9 [00:00<00:00, 259.08it/s, loss=0.991]\n"
     ]
    },
    {
     "name": "stdout",
     "output_type": "stream",
     "text": [
      "Epoch [526/3000]: Train loss: 0.7642, Valid loss: 1.0174\n"
     ]
    },
    {
     "name": "stderr",
     "output_type": "stream",
     "text": [
      "Epoch [527/3000]: 100%|█████████████████████████████████████████████████████| 9/9 [00:00<00:00, 265.59it/s, loss=0.949]\n"
     ]
    },
    {
     "name": "stdout",
     "output_type": "stream",
     "text": [
      "Epoch [527/3000]: Train loss: 0.8129, Valid loss: 1.0678\n"
     ]
    },
    {
     "name": "stderr",
     "output_type": "stream",
     "text": [
      "Epoch [528/3000]: 100%|█████████████████████████████████████████████████████| 9/9 [00:00<00:00, 265.59it/s, loss=0.748]\n"
     ]
    },
    {
     "name": "stdout",
     "output_type": "stream",
     "text": [
      "Epoch [528/3000]: Train loss: 0.7629, Valid loss: 1.0005\n"
     ]
    },
    {
     "name": "stderr",
     "output_type": "stream",
     "text": [
      "Epoch [529/3000]: 100%|█████████████████████████████████████████████████████| 9/9 [00:00<00:00, 261.07it/s, loss=0.904]\n"
     ]
    },
    {
     "name": "stdout",
     "output_type": "stream",
     "text": [
      "Epoch [529/3000]: Train loss: 0.8685, Valid loss: 1.1407\n"
     ]
    },
    {
     "name": "stderr",
     "output_type": "stream",
     "text": [
      "Epoch [530/3000]: 100%|█████████████████████████████████████████████████████| 9/9 [00:00<00:00, 249.93it/s, loss=0.558]\n"
     ]
    },
    {
     "name": "stdout",
     "output_type": "stream",
     "text": [
      "Epoch [530/3000]: Train loss: 0.7765, Valid loss: 1.1445\n"
     ]
    },
    {
     "name": "stderr",
     "output_type": "stream",
     "text": [
      "Epoch [531/3000]: 100%|█████████████████████████████████████████████████████| 9/9 [00:00<00:00, 267.41it/s, loss=0.699]\n"
     ]
    },
    {
     "name": "stdout",
     "output_type": "stream",
     "text": [
      "Epoch [531/3000]: Train loss: 0.7549, Valid loss: 1.1902\n"
     ]
    },
    {
     "name": "stderr",
     "output_type": "stream",
     "text": [
      "Epoch [532/3000]: 100%|██████████████████████████████████████████████████████| 9/9 [00:00<00:00, 86.34it/s, loss=0.624]\n"
     ]
    },
    {
     "name": "stdout",
     "output_type": "stream",
     "text": [
      "Epoch [532/3000]: Train loss: 0.7543, Valid loss: 1.0812\n"
     ]
    },
    {
     "name": "stderr",
     "output_type": "stream",
     "text": [
      "Epoch [533/3000]: 100%|█████████████████████████████████████████████████████| 9/9 [00:00<00:00, 258.00it/s, loss=0.624]\n"
     ]
    },
    {
     "name": "stdout",
     "output_type": "stream",
     "text": [
      "Epoch [533/3000]: Train loss: 0.7325, Valid loss: 1.5275\n"
     ]
    },
    {
     "name": "stderr",
     "output_type": "stream",
     "text": [
      "Epoch [534/3000]: 100%|███████████████████████████████████████████████████████| 9/9 [00:00<00:00, 225.76it/s, loss=1.1]\n"
     ]
    },
    {
     "name": "stdout",
     "output_type": "stream",
     "text": [
      "Epoch [534/3000]: Train loss: 0.7370, Valid loss: 1.0371\n"
     ]
    },
    {
     "name": "stderr",
     "output_type": "stream",
     "text": [
      "Epoch [535/3000]: 100%|█████████████████████████████████████████████████████| 9/9 [00:00<00:00, 265.59it/s, loss=0.881]\n"
     ]
    },
    {
     "name": "stdout",
     "output_type": "stream",
     "text": [
      "Epoch [535/3000]: Train loss: 0.7544, Valid loss: 1.1584\n"
     ]
    },
    {
     "name": "stderr",
     "output_type": "stream",
     "text": [
      "Epoch [536/3000]: 100%|█████████████████████████████████████████████████████| 9/9 [00:00<00:00, 261.46it/s, loss=0.491]\n"
     ]
    },
    {
     "name": "stdout",
     "output_type": "stream",
     "text": [
      "Epoch [536/3000]: Train loss: 0.7981, Valid loss: 1.3790\n"
     ]
    },
    {
     "name": "stderr",
     "output_type": "stream",
     "text": [
      "Epoch [537/3000]: 100%|█████████████████████████████████████████████████████| 9/9 [00:00<00:00, 262.36it/s, loss=0.782]\n"
     ]
    },
    {
     "name": "stdout",
     "output_type": "stream",
     "text": [
      "Epoch [537/3000]: Train loss: 0.7643, Valid loss: 1.1544\n"
     ]
    },
    {
     "name": "stderr",
     "output_type": "stream",
     "text": [
      "Epoch [538/3000]: 100%|█████████████████████████████████████████████████████| 9/9 [00:00<00:00, 267.02it/s, loss=0.617]\n"
     ]
    },
    {
     "name": "stdout",
     "output_type": "stream",
     "text": [
      "Epoch [538/3000]: Train loss: 0.7341, Valid loss: 1.1210\n"
     ]
    },
    {
     "name": "stderr",
     "output_type": "stream",
     "text": [
      "Epoch [539/3000]: 100%|█████████████████████████████████████████████████████| 9/9 [00:00<00:00, 273.64it/s, loss=0.717]\n"
     ]
    },
    {
     "name": "stdout",
     "output_type": "stream",
     "text": [
      "Epoch [539/3000]: Train loss: 0.7536, Valid loss: 1.2714\n"
     ]
    },
    {
     "name": "stderr",
     "output_type": "stream",
     "text": [
      "Epoch [540/3000]: 100%|█████████████████████████████████████████████████████| 9/9 [00:00<00:00, 258.00it/s, loss=0.816]\n"
     ]
    },
    {
     "name": "stdout",
     "output_type": "stream",
     "text": [
      "Epoch [540/3000]: Train loss: 0.8005, Valid loss: 1.1269\n"
     ]
    },
    {
     "name": "stderr",
     "output_type": "stream",
     "text": [
      "Epoch [541/3000]: 100%|█████████████████████████████████████████████████████| 9/9 [00:00<00:00, 244.08it/s, loss=0.908]\n"
     ]
    },
    {
     "name": "stdout",
     "output_type": "stream",
     "text": [
      "Epoch [541/3000]: Train loss: 0.7463, Valid loss: 1.4017\n"
     ]
    },
    {
     "name": "stderr",
     "output_type": "stream",
     "text": [
      "Epoch [542/3000]: 100%|██████████████████████████████████████████████████████| 9/9 [00:00<00:00, 258.01it/s, loss=1.04]\n"
     ]
    },
    {
     "name": "stdout",
     "output_type": "stream",
     "text": [
      "Epoch [542/3000]: Train loss: 0.7830, Valid loss: 0.9431\n"
     ]
    },
    {
     "name": "stderr",
     "output_type": "stream",
     "text": [
      "Epoch [543/3000]: 100%|█████████████████████████████████████████████████████| 9/9 [00:00<00:00, 246.82it/s, loss=0.683]\n"
     ]
    },
    {
     "name": "stdout",
     "output_type": "stream",
     "text": [
      "Epoch [543/3000]: Train loss: 0.7974, Valid loss: 1.0340\n"
     ]
    },
    {
     "name": "stderr",
     "output_type": "stream",
     "text": [
      "Epoch [544/3000]: 100%|██████████████████████████████████████████████████████| 9/9 [00:00<00:00, 250.84it/s, loss=0.65]\n"
     ]
    },
    {
     "name": "stdout",
     "output_type": "stream",
     "text": [
      "Epoch [544/3000]: Train loss: 0.7396, Valid loss: 1.1145\n"
     ]
    },
    {
     "name": "stderr",
     "output_type": "stream",
     "text": [
      "Epoch [545/3000]: 100%|█████████████████████████████████████████████████████| 9/9 [00:00<00:00, 236.58it/s, loss=0.778]\n"
     ]
    },
    {
     "name": "stdout",
     "output_type": "stream",
     "text": [
      "Epoch [545/3000]: Train loss: 0.7660, Valid loss: 1.2240\n"
     ]
    },
    {
     "name": "stderr",
     "output_type": "stream",
     "text": [
      "Epoch [546/3000]: 100%|█████████████████████████████████████████████████████| 9/9 [00:00<00:00, 244.06it/s, loss=0.579]\n"
     ]
    },
    {
     "name": "stdout",
     "output_type": "stream",
     "text": [
      "Epoch [546/3000]: Train loss: 0.7562, Valid loss: 1.7604\n"
     ]
    },
    {
     "name": "stderr",
     "output_type": "stream",
     "text": [
      "Epoch [547/3000]: 100%|█████████████████████████████████████████████████████| 9/9 [00:00<00:00, 261.46it/s, loss=0.812]\n"
     ]
    },
    {
     "name": "stdout",
     "output_type": "stream",
     "text": [
      "Epoch [547/3000]: Train loss: 0.8016, Valid loss: 1.0472\n"
     ]
    },
    {
     "name": "stderr",
     "output_type": "stream",
     "text": [
      "Epoch [548/3000]: 100%|█████████████████████████████████████████████████████| 9/9 [00:00<00:00, 258.00it/s, loss=0.837]\n"
     ]
    },
    {
     "name": "stdout",
     "output_type": "stream",
     "text": [
      "Epoch [548/3000]: Train loss: 0.7762, Valid loss: 1.0749\n"
     ]
    },
    {
     "name": "stderr",
     "output_type": "stream",
     "text": [
      "Epoch [549/3000]: 100%|██████████████████████████████████████████████████████| 9/9 [00:00<00:00, 237.63it/s, loss=0.65]\n"
     ]
    },
    {
     "name": "stdout",
     "output_type": "stream",
     "text": [
      "Epoch [549/3000]: Train loss: 0.7916, Valid loss: 1.1668\n"
     ]
    },
    {
     "name": "stderr",
     "output_type": "stream",
     "text": [
      "Epoch [550/3000]: 100%|█████████████████████████████████████████████████████| 9/9 [00:00<00:00, 258.00it/s, loss=0.776]\n"
     ]
    },
    {
     "name": "stdout",
     "output_type": "stream",
     "text": [
      "Epoch [550/3000]: Train loss: 0.7421, Valid loss: 1.0413\n"
     ]
    },
    {
     "name": "stderr",
     "output_type": "stream",
     "text": [
      "Epoch [551/3000]: 100%|██████████████████████████████████████████████████████| 9/9 [00:00<00:00, 273.71it/s, loss=0.73]\n"
     ]
    },
    {
     "name": "stdout",
     "output_type": "stream",
     "text": [
      "Epoch [551/3000]: Train loss: 0.7722, Valid loss: 0.8926\n"
     ]
    },
    {
     "name": "stderr",
     "output_type": "stream",
     "text": [
      "Epoch [552/3000]: 100%|█████████████████████████████████████████████████████| 9/9 [00:00<00:00, 265.60it/s, loss=0.886]\n"
     ]
    },
    {
     "name": "stdout",
     "output_type": "stream",
     "text": [
      "Epoch [552/3000]: Train loss: 0.8075, Valid loss: 0.9391\n"
     ]
    },
    {
     "name": "stderr",
     "output_type": "stream",
     "text": [
      "Epoch [553/3000]: 100%|█████████████████████████████████████████████████████| 9/9 [00:00<00:00, 265.59it/s, loss=0.856]\n"
     ]
    },
    {
     "name": "stdout",
     "output_type": "stream",
     "text": [
      "Epoch [553/3000]: Train loss: 0.7511, Valid loss: 1.0973\n"
     ]
    },
    {
     "name": "stderr",
     "output_type": "stream",
     "text": [
      "Epoch [554/3000]: 100%|██████████████████████████████████████████████████████| 9/9 [00:00<00:00, 257.65it/s, loss=0.56]\n"
     ]
    },
    {
     "name": "stdout",
     "output_type": "stream",
     "text": [
      "Epoch [554/3000]: Train loss: 0.7726, Valid loss: 1.1966\n"
     ]
    },
    {
     "name": "stderr",
     "output_type": "stream",
     "text": [
      "Epoch [555/3000]: 100%|██████████████████████████████████████████████████████| 9/9 [00:00<00:00, 238.60it/s, loss=1.07]\n"
     ]
    },
    {
     "name": "stdout",
     "output_type": "stream",
     "text": [
      "Epoch [555/3000]: Train loss: 0.7668, Valid loss: 1.4557\n"
     ]
    },
    {
     "name": "stderr",
     "output_type": "stream",
     "text": [
      "Epoch [556/3000]: 100%|█████████████████████████████████████████████████████| 9/9 [00:00<00:00, 270.74it/s, loss=0.597]\n"
     ]
    },
    {
     "name": "stdout",
     "output_type": "stream",
     "text": [
      "Epoch [556/3000]: Train loss: 0.8349, Valid loss: 1.0946\n"
     ]
    },
    {
     "name": "stderr",
     "output_type": "stream",
     "text": [
      "Epoch [557/3000]: 100%|█████████████████████████████████████████████████████| 9/9 [00:00<00:00, 262.21it/s, loss=0.633]\n"
     ]
    },
    {
     "name": "stdout",
     "output_type": "stream",
     "text": [
      "Epoch [557/3000]: Train loss: 0.7705, Valid loss: 1.0359\n"
     ]
    },
    {
     "name": "stderr",
     "output_type": "stream",
     "text": [
      "Epoch [558/3000]: 100%|█████████████████████████████████████████████████████| 9/9 [00:00<00:00, 261.34it/s, loss=0.841]\n"
     ]
    },
    {
     "name": "stdout",
     "output_type": "stream",
     "text": [
      "Epoch [558/3000]: Train loss: 0.7608, Valid loss: 1.0332\n"
     ]
    },
    {
     "name": "stderr",
     "output_type": "stream",
     "text": [
      "Epoch [559/3000]: 100%|█████████████████████████████████████████████████████| 9/9 [00:00<00:00, 262.46it/s, loss=0.763]\n"
     ]
    },
    {
     "name": "stdout",
     "output_type": "stream",
     "text": [
      "Epoch [559/3000]: Train loss: 0.7653, Valid loss: 1.2891\n"
     ]
    },
    {
     "name": "stderr",
     "output_type": "stream",
     "text": [
      "Epoch [560/3000]: 100%|█████████████████████████████████████████████████████| 9/9 [00:00<00:00, 261.69it/s, loss=0.743]\n"
     ]
    },
    {
     "name": "stdout",
     "output_type": "stream",
     "text": [
      "Epoch [560/3000]: Train loss: 0.7304, Valid loss: 1.2020\n"
     ]
    },
    {
     "name": "stderr",
     "output_type": "stream",
     "text": [
      "Epoch [561/3000]: 100%|██████████████████████████████████████████████████████| 9/9 [00:00<00:00, 244.06it/s, loss=0.71]\n"
     ]
    },
    {
     "name": "stdout",
     "output_type": "stream",
     "text": [
      "Epoch [561/3000]: Train loss: 0.7381, Valid loss: 1.1245\n"
     ]
    },
    {
     "name": "stderr",
     "output_type": "stream",
     "text": [
      "Epoch [562/3000]: 100%|█████████████████████████████████████████████████████| 9/9 [00:00<00:00, 237.63it/s, loss=0.826]\n"
     ]
    },
    {
     "name": "stdout",
     "output_type": "stream",
     "text": [
      "Epoch [562/3000]: Train loss: 0.7508, Valid loss: 1.1150\n"
     ]
    },
    {
     "name": "stderr",
     "output_type": "stream",
     "text": [
      "Epoch [563/3000]: 100%|██████████████████████████████████████████████████████| 9/9 [00:00<00:00, 243.15it/s, loss=0.97]\n"
     ]
    },
    {
     "name": "stdout",
     "output_type": "stream",
     "text": [
      "Epoch [563/3000]: Train loss: 0.7746, Valid loss: 1.1427\n"
     ]
    },
    {
     "name": "stderr",
     "output_type": "stream",
     "text": [
      "Epoch [564/3000]: 100%|█████████████████████████████████████████████████████| 9/9 [00:00<00:00, 250.86it/s, loss=0.706]\n"
     ]
    },
    {
     "name": "stdout",
     "output_type": "stream",
     "text": [
      "Epoch [564/3000]: Train loss: 0.7896, Valid loss: 1.2069\n"
     ]
    },
    {
     "name": "stderr",
     "output_type": "stream",
     "text": [
      "Epoch [565/3000]: 100%|█████████████████████████████████████████████████████| 9/9 [00:00<00:00, 231.54it/s, loss=0.683]\n"
     ]
    },
    {
     "name": "stdout",
     "output_type": "stream",
     "text": [
      "Epoch [565/3000]: Train loss: 0.7548, Valid loss: 1.0473\n"
     ]
    },
    {
     "name": "stderr",
     "output_type": "stream",
     "text": [
      "Epoch [566/3000]: 100%|██████████████████████████████████████████████████████| 9/9 [00:00<00:00, 258.01it/s, loss=0.77]\n"
     ]
    },
    {
     "name": "stdout",
     "output_type": "stream",
     "text": [
      "Epoch [566/3000]: Train loss: 0.7267, Valid loss: 1.2777\n"
     ]
    },
    {
     "name": "stderr",
     "output_type": "stream",
     "text": [
      "Epoch [567/3000]: 100%|█████████████████████████████████████████████████████| 9/9 [00:00<00:00, 231.54it/s, loss=0.543]\n"
     ]
    },
    {
     "name": "stdout",
     "output_type": "stream",
     "text": [
      "Epoch [567/3000]: Train loss: 0.7414, Valid loss: 1.1285\n"
     ]
    },
    {
     "name": "stderr",
     "output_type": "stream",
     "text": [
      "Epoch [568/3000]: 100%|█████████████████████████████████████████████████████| 9/9 [00:00<00:00, 261.08it/s, loss=0.585]\n"
     ]
    },
    {
     "name": "stdout",
     "output_type": "stream",
     "text": [
      "Epoch [568/3000]: Train loss: 0.7394, Valid loss: 1.1026\n"
     ]
    },
    {
     "name": "stderr",
     "output_type": "stream",
     "text": [
      "Epoch [569/3000]: 100%|██████████████████████████████████████████████████████| 9/9 [00:00<00:00, 254.01it/s, loss=1.05]\n"
     ]
    },
    {
     "name": "stdout",
     "output_type": "stream",
     "text": [
      "Epoch [569/3000]: Train loss: 0.7755, Valid loss: 1.2497\n"
     ]
    },
    {
     "name": "stderr",
     "output_type": "stream",
     "text": [
      "Epoch [570/3000]: 100%|██████████████████████████████████████████████████████| 9/9 [00:00<00:00, 265.29it/s, loss=0.71]\n"
     ]
    },
    {
     "name": "stdout",
     "output_type": "stream",
     "text": [
      "Epoch [570/3000]: Train loss: 0.7879, Valid loss: 1.1409\n"
     ]
    },
    {
     "name": "stderr",
     "output_type": "stream",
     "text": [
      "Epoch [571/3000]: 100%|█████████████████████████████████████████████████████| 9/9 [00:00<00:00, 268.99it/s, loss=0.679]\n"
     ]
    },
    {
     "name": "stdout",
     "output_type": "stream",
     "text": [
      "Epoch [571/3000]: Train loss: 0.7387, Valid loss: 1.1401\n"
     ]
    },
    {
     "name": "stderr",
     "output_type": "stream",
     "text": [
      "Epoch [572/3000]: 100%|█████████████████████████████████████████████████████| 9/9 [00:00<00:00, 257.38it/s, loss=0.982]\n"
     ]
    },
    {
     "name": "stdout",
     "output_type": "stream",
     "text": [
      "Epoch [572/3000]: Train loss: 0.7686, Valid loss: 0.9713\n"
     ]
    },
    {
     "name": "stderr",
     "output_type": "stream",
     "text": [
      "Epoch [573/3000]: 100%|█████████████████████████████████████████████████████| 9/9 [00:00<00:00, 266.95it/s, loss=0.644]\n"
     ]
    },
    {
     "name": "stdout",
     "output_type": "stream",
     "text": [
      "Epoch [573/3000]: Train loss: 0.7638, Valid loss: 1.4724\n"
     ]
    },
    {
     "name": "stderr",
     "output_type": "stream",
     "text": [
      "Epoch [574/3000]: 100%|██████████████████████████████████████████████████████| 9/9 [00:00<00:00, 252.93it/s, loss=0.58]\n"
     ]
    },
    {
     "name": "stdout",
     "output_type": "stream",
     "text": [
      "Epoch [574/3000]: Train loss: 0.7564, Valid loss: 1.2081\n"
     ]
    },
    {
     "name": "stderr",
     "output_type": "stream",
     "text": [
      "Epoch [575/3000]: 100%|█████████████████████████████████████████████████████| 9/9 [00:00<00:00, 246.34it/s, loss=0.631]\n"
     ]
    },
    {
     "name": "stdout",
     "output_type": "stream",
     "text": [
      "Epoch [575/3000]: Train loss: 0.8015, Valid loss: 1.2511\n"
     ]
    },
    {
     "name": "stderr",
     "output_type": "stream",
     "text": [
      "Epoch [576/3000]: 100%|█████████████████████████████████████████████████████| 9/9 [00:00<00:00, 244.06it/s, loss=0.842]\n"
     ]
    },
    {
     "name": "stdout",
     "output_type": "stream",
     "text": [
      "Epoch [576/3000]: Train loss: 0.8186, Valid loss: 1.0710\n"
     ]
    },
    {
     "name": "stderr",
     "output_type": "stream",
     "text": [
      "Epoch [577/3000]: 100%|█████████████████████████████████████████████████████| 9/9 [00:00<00:00, 182.14it/s, loss=0.792]\n"
     ]
    },
    {
     "name": "stdout",
     "output_type": "stream",
     "text": [
      "Epoch [577/3000]: Train loss: 0.7919, Valid loss: 1.2389\n"
     ]
    },
    {
     "name": "stderr",
     "output_type": "stream",
     "text": [
      "Epoch [578/3000]: 100%|█████████████████████████████████████████████████████| 9/9 [00:00<00:00, 267.37it/s, loss=0.589]\n"
     ]
    },
    {
     "name": "stdout",
     "output_type": "stream",
     "text": [
      "Epoch [578/3000]: Train loss: 0.7332, Valid loss: 1.1124\n"
     ]
    },
    {
     "name": "stderr",
     "output_type": "stream",
     "text": [
      "Epoch [579/3000]: 100%|█████████████████████████████████████████████████████| 9/9 [00:00<00:00, 259.67it/s, loss=0.922]\n"
     ]
    },
    {
     "name": "stdout",
     "output_type": "stream",
     "text": [
      "Epoch [579/3000]: Train loss: 0.7282, Valid loss: 1.5625\n"
     ]
    },
    {
     "name": "stderr",
     "output_type": "stream",
     "text": [
      "Epoch [580/3000]: 100%|█████████████████████████████████████████████████████| 9/9 [00:00<00:00, 252.66it/s, loss=0.667]\n"
     ]
    },
    {
     "name": "stdout",
     "output_type": "stream",
     "text": [
      "Epoch [580/3000]: Train loss: 0.7152, Valid loss: 1.0842\n"
     ]
    },
    {
     "name": "stderr",
     "output_type": "stream",
     "text": [
      "Epoch [581/3000]: 100%|█████████████████████████████████████████████████████| 9/9 [00:00<00:00, 265.59it/s, loss=0.818]\n"
     ]
    },
    {
     "name": "stdout",
     "output_type": "stream",
     "text": [
      "Epoch [581/3000]: Train loss: 0.7593, Valid loss: 1.0260\n"
     ]
    },
    {
     "name": "stderr",
     "output_type": "stream",
     "text": [
      "Epoch [582/3000]: 100%|█████████████████████████████████████████████████████| 9/9 [00:00<00:00, 250.84it/s, loss=0.831]\n"
     ]
    },
    {
     "name": "stdout",
     "output_type": "stream",
     "text": [
      "Epoch [582/3000]: Train loss: 0.7921, Valid loss: 1.1714\n"
     ]
    },
    {
     "name": "stderr",
     "output_type": "stream",
     "text": [
      "Epoch [583/3000]: 100%|█████████████████████████████████████████████████████| 9/9 [00:00<00:00, 253.66it/s, loss=0.411]\n"
     ]
    },
    {
     "name": "stdout",
     "output_type": "stream",
     "text": [
      "Epoch [583/3000]: Train loss: 0.7628, Valid loss: 1.1446\n"
     ]
    },
    {
     "name": "stderr",
     "output_type": "stream",
     "text": [
      "Epoch [584/3000]: 100%|███████████████████████████████████████████████████████| 9/9 [00:00<00:00, 244.12it/s, loss=1.1]\n"
     ]
    },
    {
     "name": "stdout",
     "output_type": "stream",
     "text": [
      "Epoch [584/3000]: Train loss: 0.7882, Valid loss: 1.0737\n"
     ]
    },
    {
     "name": "stderr",
     "output_type": "stream",
     "text": [
      "Epoch [585/3000]: 100%|█████████████████████████████████████████████████████| 9/9 [00:00<00:00, 245.49it/s, loss=0.699]\n"
     ]
    },
    {
     "name": "stdout",
     "output_type": "stream",
     "text": [
      "Epoch [585/3000]: Train loss: 0.7792, Valid loss: 1.1597\n"
     ]
    },
    {
     "name": "stderr",
     "output_type": "stream",
     "text": [
      "Epoch [586/3000]: 100%|██████████████████████████████████████████████████████| 9/9 [00:00<00:00, 86.01it/s, loss=0.837]\n"
     ]
    },
    {
     "name": "stdout",
     "output_type": "stream",
     "text": [
      "Epoch [586/3000]: Train loss: 0.7652, Valid loss: 1.0410\n"
     ]
    },
    {
     "name": "stderr",
     "output_type": "stream",
     "text": [
      "Epoch [587/3000]: 100%|█████████████████████████████████████████████████████| 9/9 [00:00<00:00, 241.29it/s, loss=0.653]\n"
     ]
    },
    {
     "name": "stdout",
     "output_type": "stream",
     "text": [
      "Epoch [587/3000]: Train loss: 0.7308, Valid loss: 1.0369\n"
     ]
    },
    {
     "name": "stderr",
     "output_type": "stream",
     "text": [
      "Epoch [588/3000]: 100%|█████████████████████████████████████████████████████| 9/9 [00:00<00:00, 244.97it/s, loss=0.651]\n"
     ]
    },
    {
     "name": "stdout",
     "output_type": "stream",
     "text": [
      "Epoch [588/3000]: Train loss: 0.7138, Valid loss: 1.1829\n"
     ]
    },
    {
     "name": "stderr",
     "output_type": "stream",
     "text": [
      "Epoch [589/3000]: 100%|█████████████████████████████████████████████████████| 9/9 [00:00<00:00, 250.36it/s, loss=0.604]\n"
     ]
    },
    {
     "name": "stdout",
     "output_type": "stream",
     "text": [
      "Epoch [589/3000]: Train loss: 0.7282, Valid loss: 0.9308\n"
     ]
    },
    {
     "name": "stderr",
     "output_type": "stream",
     "text": [
      "Epoch [590/3000]: 100%|██████████████████████████████████████████████████████| 9/9 [00:00<00:00, 265.59it/s, loss=0.73]\n"
     ]
    },
    {
     "name": "stdout",
     "output_type": "stream",
     "text": [
      "Epoch [590/3000]: Train loss: 0.8154, Valid loss: 1.3257\n"
     ]
    },
    {
     "name": "stderr",
     "output_type": "stream",
     "text": [
      "Epoch [591/3000]: 100%|█████████████████████████████████████████████████████| 9/9 [00:00<00:00, 270.26it/s, loss=0.766]\n"
     ]
    },
    {
     "name": "stdout",
     "output_type": "stream",
     "text": [
      "Epoch [591/3000]: Train loss: 0.8911, Valid loss: 1.1290\n"
     ]
    },
    {
     "name": "stderr",
     "output_type": "stream",
     "text": [
      "Epoch [592/3000]: 100%|█████████████████████████████████████████████████████| 9/9 [00:00<00:00, 265.59it/s, loss=0.804]\n"
     ]
    },
    {
     "name": "stdout",
     "output_type": "stream",
     "text": [
      "Epoch [592/3000]: Train loss: 0.7646, Valid loss: 1.1238\n"
     ]
    },
    {
     "name": "stderr",
     "output_type": "stream",
     "text": [
      "Epoch [593/3000]: 100%|█████████████████████████████████████████████████████| 9/9 [00:00<00:00, 271.23it/s, loss=0.869]\n"
     ]
    },
    {
     "name": "stdout",
     "output_type": "stream",
     "text": [
      "Epoch [593/3000]: Train loss: 0.7536, Valid loss: 0.9672\n"
     ]
    },
    {
     "name": "stderr",
     "output_type": "stream",
     "text": [
      "Epoch [594/3000]: 100%|█████████████████████████████████████████████████████| 9/9 [00:00<00:00, 258.00it/s, loss=0.618]\n"
     ]
    },
    {
     "name": "stdout",
     "output_type": "stream",
     "text": [
      "Epoch [594/3000]: Train loss: 0.7249, Valid loss: 1.0681\n"
     ]
    },
    {
     "name": "stderr",
     "output_type": "stream",
     "text": [
      "Epoch [595/3000]: 100%|█████████████████████████████████████████████████████| 9/9 [00:00<00:00, 248.21it/s, loss=0.665]\n"
     ]
    },
    {
     "name": "stdout",
     "output_type": "stream",
     "text": [
      "Epoch [595/3000]: Train loss: 0.7424, Valid loss: 1.1281\n"
     ]
    },
    {
     "name": "stderr",
     "output_type": "stream",
     "text": [
      "Epoch [596/3000]: 100%|█████████████████████████████████████████████████████| 9/9 [00:00<00:00, 249.64it/s, loss=0.783]\n"
     ]
    },
    {
     "name": "stdout",
     "output_type": "stream",
     "text": [
      "Epoch [596/3000]: Train loss: 0.7722, Valid loss: 1.1958\n"
     ]
    },
    {
     "name": "stderr",
     "output_type": "stream",
     "text": [
      "Epoch [597/3000]: 100%|█████████████████████████████████████████████████████| 9/9 [00:00<00:00, 243.75it/s, loss=0.847]\n"
     ]
    },
    {
     "name": "stdout",
     "output_type": "stream",
     "text": [
      "Epoch [597/3000]: Train loss: 0.8254, Valid loss: 0.9837\n"
     ]
    },
    {
     "name": "stderr",
     "output_type": "stream",
     "text": [
      "Epoch [598/3000]: 100%|█████████████████████████████████████████████████████| 9/9 [00:00<00:00, 250.35it/s, loss=0.656]\n"
     ]
    },
    {
     "name": "stdout",
     "output_type": "stream",
     "text": [
      "Epoch [598/3000]: Train loss: 0.7377, Valid loss: 1.4665\n"
     ]
    },
    {
     "name": "stderr",
     "output_type": "stream",
     "text": [
      "Epoch [599/3000]: 100%|█████████████████████████████████████████████████████| 9/9 [00:00<00:00, 223.85it/s, loss=0.679]\n"
     ]
    },
    {
     "name": "stdout",
     "output_type": "stream",
     "text": [
      "Epoch [599/3000]: Train loss: 0.7247, Valid loss: 1.0717\n"
     ]
    },
    {
     "name": "stderr",
     "output_type": "stream",
     "text": [
      "Epoch [600/3000]: 100%|█████████████████████████████████████████████████████| 9/9 [00:00<00:00, 244.06it/s, loss=0.711]\n"
     ]
    },
    {
     "name": "stdout",
     "output_type": "stream",
     "text": [
      "Epoch [600/3000]: Train loss: 0.7235, Valid loss: 1.2637\n"
     ]
    },
    {
     "name": "stderr",
     "output_type": "stream",
     "text": [
      "Epoch [601/3000]: 100%|██████████████████████████████████████████████████████| 9/9 [00:00<00:00, 243.59it/s, loss=1.02]\n"
     ]
    },
    {
     "name": "stdout",
     "output_type": "stream",
     "text": [
      "Epoch [601/3000]: Train loss: 0.7511, Valid loss: 1.4355\n"
     ]
    },
    {
     "name": "stderr",
     "output_type": "stream",
     "text": [
      "Epoch [602/3000]: 100%|█████████████████████████████████████████████████████| 9/9 [00:00<00:00, 248.30it/s, loss=0.746]\n"
     ]
    },
    {
     "name": "stdout",
     "output_type": "stream",
     "text": [
      "Epoch [602/3000]: Train loss: 0.7304, Valid loss: 1.3574\n"
     ]
    },
    {
     "name": "stderr",
     "output_type": "stream",
     "text": [
      "Epoch [603/3000]: 100%|█████████████████████████████████████████████████████| 9/9 [00:00<00:00, 249.16it/s, loss=0.786]\n"
     ]
    },
    {
     "name": "stdout",
     "output_type": "stream",
     "text": [
      "Epoch [603/3000]: Train loss: 0.7328, Valid loss: 0.9727\n"
     ]
    },
    {
     "name": "stderr",
     "output_type": "stream",
     "text": [
      "Epoch [604/3000]: 100%|█████████████████████████████████████████████████████| 9/9 [00:00<00:00, 254.04it/s, loss=0.642]\n"
     ]
    },
    {
     "name": "stdout",
     "output_type": "stream",
     "text": [
      "Epoch [604/3000]: Train loss: 0.7745, Valid loss: 1.0713\n"
     ]
    },
    {
     "name": "stderr",
     "output_type": "stream",
     "text": [
      "Epoch [605/3000]: 100%|█████████████████████████████████████████████████████| 9/9 [00:00<00:00, 248.48it/s, loss=0.564]\n"
     ]
    },
    {
     "name": "stdout",
     "output_type": "stream",
     "text": [
      "Epoch [605/3000]: Train loss: 0.7495, Valid loss: 1.7375\n"
     ]
    },
    {
     "name": "stderr",
     "output_type": "stream",
     "text": [
      "Epoch [606/3000]: 100%|█████████████████████████████████████████████████████| 9/9 [00:00<00:00, 265.47it/s, loss=0.983]\n"
     ]
    },
    {
     "name": "stdout",
     "output_type": "stream",
     "text": [
      "Epoch [606/3000]: Train loss: 0.8007, Valid loss: 1.3781\n"
     ]
    },
    {
     "name": "stderr",
     "output_type": "stream",
     "text": [
      "Epoch [607/3000]: 100%|█████████████████████████████████████████████████████| 9/9 [00:00<00:00, 266.26it/s, loss=0.677]\n"
     ]
    },
    {
     "name": "stdout",
     "output_type": "stream",
     "text": [
      "Epoch [607/3000]: Train loss: 0.7192, Valid loss: 1.2697\n"
     ]
    },
    {
     "name": "stderr",
     "output_type": "stream",
     "text": [
      "Epoch [608/3000]: 100%|█████████████████████████████████████████████████████| 9/9 [00:00<00:00, 273.36it/s, loss=0.838]\n"
     ]
    },
    {
     "name": "stdout",
     "output_type": "stream",
     "text": [
      "Epoch [608/3000]: Train loss: 0.7914, Valid loss: 1.3878\n"
     ]
    },
    {
     "name": "stderr",
     "output_type": "stream",
     "text": [
      "Epoch [609/3000]: 100%|█████████████████████████████████████████████████████| 9/9 [00:00<00:00, 271.60it/s, loss=0.741]\n"
     ]
    },
    {
     "name": "stdout",
     "output_type": "stream",
     "text": [
      "Epoch [609/3000]: Train loss: 0.7727, Valid loss: 1.0544\n"
     ]
    },
    {
     "name": "stderr",
     "output_type": "stream",
     "text": [
      "Epoch [610/3000]: 100%|█████████████████████████████████████████████████████| 9/9 [00:00<00:00, 244.06it/s, loss=0.542]\n"
     ]
    },
    {
     "name": "stdout",
     "output_type": "stream",
     "text": [
      "Epoch [610/3000]: Train loss: 0.7823, Valid loss: 1.1139\n"
     ]
    },
    {
     "name": "stderr",
     "output_type": "stream",
     "text": [
      "Epoch [611/3000]: 100%|█████████████████████████████████████████████████████| 9/9 [00:00<00:00, 244.11it/s, loss=0.793]\n"
     ]
    },
    {
     "name": "stdout",
     "output_type": "stream",
     "text": [
      "Epoch [611/3000]: Train loss: 0.8031, Valid loss: 1.0496\n"
     ]
    },
    {
     "name": "stderr",
     "output_type": "stream",
     "text": [
      "Epoch [612/3000]: 100%|█████████████████████████████████████████████████████| 9/9 [00:00<00:00, 250.84it/s, loss=0.558]\n"
     ]
    },
    {
     "name": "stdout",
     "output_type": "stream",
     "text": [
      "Epoch [612/3000]: Train loss: 0.7722, Valid loss: 1.2630\n"
     ]
    },
    {
     "name": "stderr",
     "output_type": "stream",
     "text": [
      "Epoch [613/3000]: 100%|█████████████████████████████████████████████████████| 9/9 [00:00<00:00, 244.05it/s, loss=0.933]\n"
     ]
    },
    {
     "name": "stdout",
     "output_type": "stream",
     "text": [
      "Epoch [613/3000]: Train loss: 0.7533, Valid loss: 1.2434\n"
     ]
    },
    {
     "name": "stderr",
     "output_type": "stream",
     "text": [
      "Epoch [614/3000]: 100%|█████████████████████████████████████████████████████| 9/9 [00:00<00:00, 244.05it/s, loss=0.961]\n"
     ]
    },
    {
     "name": "stdout",
     "output_type": "stream",
     "text": [
      "Epoch [614/3000]: Train loss: 0.7642, Valid loss: 1.0784\n"
     ]
    },
    {
     "name": "stderr",
     "output_type": "stream",
     "text": [
      "Epoch [615/3000]: 100%|█████████████████████████████████████████████████████| 9/9 [00:00<00:00, 258.00it/s, loss=0.762]\n"
     ]
    },
    {
     "name": "stdout",
     "output_type": "stream",
     "text": [
      "Epoch [615/3000]: Train loss: 0.7386, Valid loss: 1.3289\n"
     ]
    },
    {
     "name": "stderr",
     "output_type": "stream",
     "text": [
      "Epoch [616/3000]: 100%|█████████████████████████████████████████████████████| 9/9 [00:00<00:00, 264.19it/s, loss=0.831]\n"
     ]
    },
    {
     "name": "stdout",
     "output_type": "stream",
     "text": [
      "Epoch [616/3000]: Train loss: 0.8051, Valid loss: 1.4141\n"
     ]
    },
    {
     "name": "stderr",
     "output_type": "stream",
     "text": [
      "Epoch [617/3000]: 100%|█████████████████████████████████████████████████████| 9/9 [00:00<00:00, 270.98it/s, loss=0.905]\n"
     ]
    },
    {
     "name": "stdout",
     "output_type": "stream",
     "text": [
      "Epoch [617/3000]: Train loss: 0.8096, Valid loss: 1.3969\n"
     ]
    },
    {
     "name": "stderr",
     "output_type": "stream",
     "text": [
      "Epoch [618/3000]: 100%|█████████████████████████████████████████████████████| 9/9 [00:00<00:00, 258.06it/s, loss=0.516]\n"
     ]
    },
    {
     "name": "stdout",
     "output_type": "stream",
     "text": [
      "Epoch [618/3000]: Train loss: 0.7290, Valid loss: 1.0896\n"
     ]
    },
    {
     "name": "stderr",
     "output_type": "stream",
     "text": [
      "Epoch [619/3000]: 100%|█████████████████████████████████████████████████████| 9/9 [00:00<00:00, 258.00it/s, loss=0.738]\n"
     ]
    },
    {
     "name": "stdout",
     "output_type": "stream",
     "text": [
      "Epoch [619/3000]: Train loss: 0.7208, Valid loss: 0.9788\n"
     ]
    },
    {
     "name": "stderr",
     "output_type": "stream",
     "text": [
      "Epoch [620/3000]: 100%|█████████████████████████████████████████████████████| 9/9 [00:00<00:00, 273.64it/s, loss=0.704]\n"
     ]
    },
    {
     "name": "stdout",
     "output_type": "stream",
     "text": [
      "Epoch [620/3000]: Train loss: 0.7288, Valid loss: 1.0439\n"
     ]
    },
    {
     "name": "stderr",
     "output_type": "stream",
     "text": [
      "Epoch [621/3000]: 100%|█████████████████████████████████████████████████████| 9/9 [00:00<00:00, 263.58it/s, loss=0.802]\n"
     ]
    },
    {
     "name": "stdout",
     "output_type": "stream",
     "text": [
      "Epoch [621/3000]: Train loss: 0.7288, Valid loss: 1.4366\n"
     ]
    },
    {
     "name": "stderr",
     "output_type": "stream",
     "text": [
      "Epoch [622/3000]: 100%|█████████████████████████████████████████████████████| 9/9 [00:00<00:00, 265.59it/s, loss=0.863]\n"
     ]
    },
    {
     "name": "stdout",
     "output_type": "stream",
     "text": [
      "Epoch [622/3000]: Train loss: 0.7426, Valid loss: 1.1735\n"
     ]
    },
    {
     "name": "stderr",
     "output_type": "stream",
     "text": [
      "Epoch [623/3000]: 100%|█████████████████████████████████████████████████████| 9/9 [00:00<00:00, 265.59it/s, loss=0.692]\n"
     ]
    },
    {
     "name": "stdout",
     "output_type": "stream",
     "text": [
      "Epoch [623/3000]: Train loss: 0.7570, Valid loss: 1.2415\n"
     ]
    },
    {
     "name": "stderr",
     "output_type": "stream",
     "text": [
      "Epoch [624/3000]: 100%|█████████████████████████████████████████████████████| 9/9 [00:00<00:00, 255.62it/s, loss=0.721]\n"
     ]
    },
    {
     "name": "stdout",
     "output_type": "stream",
     "text": [
      "Epoch [624/3000]: Train loss: 0.7665, Valid loss: 1.1371\n"
     ]
    },
    {
     "name": "stderr",
     "output_type": "stream",
     "text": [
      "Epoch [625/3000]: 100%|█████████████████████████████████████████████████████| 9/9 [00:00<00:00, 248.36it/s, loss=0.684]\n"
     ]
    },
    {
     "name": "stdout",
     "output_type": "stream",
     "text": [
      "Epoch [625/3000]: Train loss: 0.7477, Valid loss: 1.0086\n",
      "\n",
      "Model is not improving, so we halt the training session.\n"
     ]
    }
   ],
   "source": [
    "model = My_Model(input_dim=x_train.shape[1]).to(device) # put your model and data on the same computation device.\n",
    "trainer(train_loader, valid_loader, model, config, device)"
   ]
  },
  {
   "cell_type": "markdown",
   "metadata": {
    "id": "Ik09KPqU-di-"
   },
   "source": [
    "# Plot learning curves with `tensorboard` (optional)\n",
    "\n",
    "`tensorboard` is a tool that allows you to visualize your training progress.\n",
    "\n",
    "If this block does not display your learning curve, please wait for few minutes, and re-run this block. It might take some time to load your logging information. "
   ]
  },
  {
   "cell_type": "code",
   "execution_count": 10,
   "metadata": {
    "id": "loA4nKmLGQ-n"
   },
   "outputs": [
    {
     "data": {
      "text/plain": [
       "Reusing TensorBoard on port 6006 (pid 1708), started 0:32:00 ago. (Use '!kill 1708' to kill it.)"
      ]
     },
     "metadata": {},
     "output_type": "display_data"
    },
    {
     "data": {
      "text/html": [
       "\n",
       "      <iframe id=\"tensorboard-frame-291569e3e9fdb3a8\" width=\"100%\" height=\"800\" frameborder=\"0\">\n",
       "      </iframe>\n",
       "      <script>\n",
       "        (function() {\n",
       "          const frame = document.getElementById(\"tensorboard-frame-291569e3e9fdb3a8\");\n",
       "          const url = new URL(\"/\", window.location);\n",
       "          const port = 6006;\n",
       "          if (port) {\n",
       "            url.port = port;\n",
       "          }\n",
       "          frame.src = url;\n",
       "        })();\n",
       "      </script>\n",
       "    "
      ],
      "text/plain": [
       "<IPython.core.display.HTML object>"
      ]
     },
     "metadata": {},
     "output_type": "display_data"
    }
   ],
   "source": [
    "%reload_ext tensorboard\n",
    "%tensorboard --logdir=./runs/"
   ]
  },
  {
   "cell_type": "markdown",
   "metadata": {
    "id": "yhAHGqC9-woK"
   },
   "source": [
    "# Testing\n",
    "The predictions of your model on testing set will be stored at `pred.csv`."
   ]
  },
  {
   "cell_type": "code",
   "execution_count": 11,
   "metadata": {
    "id": "Q5eVdpbvAlAe"
   },
   "outputs": [
    {
     "name": "stderr",
     "output_type": "stream",
     "text": [
      "100%|███████████████████████████████████████████████████████████████████████████████████| 4/4 [00:00<00:00, 608.53it/s]\n"
     ]
    }
   ],
   "source": [
    "def save_pred(preds, file):\n",
    "    ''' Save predictions to specified file '''\n",
    "    with open(file, 'w') as fp:\n",
    "        writer = csv.writer(fp)\n",
    "        writer.writerow(['id', 'tested_positive'])\n",
    "        for i, p in enumerate(preds):\n",
    "            writer.writerow([i, p])\n",
    "\n",
    "model = My_Model(input_dim=x_train.shape[1]).to(device)\n",
    "model.load_state_dict(torch.load(config['save_path']))\n",
    "preds = predict(test_loader, model, device) \n",
    "save_pred(preds, 'pred.csv')         "
   ]
  },
  {
   "cell_type": "markdown",
   "metadata": {
    "id": "IJ_k5rY0GvSV"
   },
   "source": [
    "# Reference\n",
    "This notebook uses code written by Heng-Jui Chang @ NTUEE (https://github.com/ga642381/ML2021-Spring/blob/main/HW01/HW01.ipynb)"
   ]
  }
 ],
 "metadata": {
  "accelerator": "GPU",
  "colab": {
   "provenance": []
  },
  "gpuClass": "standard",
  "kernelspec": {
   "display_name": "Python 3 (ipykernel)",
   "language": "python",
   "name": "python3"
  },
  "language_info": {
   "codemirror_mode": {
    "name": "ipython",
    "version": 3
   },
   "file_extension": ".py",
   "mimetype": "text/x-python",
   "name": "python",
   "nbconvert_exporter": "python",
   "pygments_lexer": "ipython3",
   "version": "3.9.12"
  }
 },
 "nbformat": 4,
 "nbformat_minor": 1
}
